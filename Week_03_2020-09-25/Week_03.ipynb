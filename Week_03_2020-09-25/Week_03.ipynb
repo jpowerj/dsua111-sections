{
 "cells": [
  {
   "cell_type": "markdown",
   "metadata": {
    "slideshow": {
     "slide_type": "slide"
    }
   },
   "source": [
    "# Week 3: Causality and the Scientific Method\n",
    "\n",
    "## DSUA111: Data Science for Everyone, NYU, Fall 2020\n",
    "\n",
    "### TA Jeff, `jpj251@nyu.edu`\n",
    "\n",
    "### https://github.com/jpowerj/dsua111-sections"
   ]
  },
  {
   "cell_type": "markdown",
   "metadata": {
    "slideshow": {
     "slide_type": "slide"
    }
   },
   "source": [
    "## Zoom Room\n",
    "\n",
    "https://nyu.zoom.us/j/6821254378\n",
    "\n",
    "Same URL for both [in case you want a reminder of your Lab/Section number]:\n",
    "* Lab 007, Fridays 3:30pm-4:20pm\n",
    "* Lab 004, Fridays 4:55-5:45pm"
   ]
  },
  {
   "cell_type": "markdown",
   "metadata": {
    "slideshow": {
     "slide_type": "slide"
    }
   },
   "source": [
    "## Outline\n",
    "\n",
    "0. Doing HW1\n",
    "1. Recap: Data? Science?\n",
    "    * The Scientific Method\n",
    "    * Measurement Issues\n",
    "3. Correlation vs. Causation\n",
    "    * Correlation Pitfalls\n",
    "5. Causality and Counterfactuals\n",
    "    * The Fundamental Problem of Causal Inference\n",
    "7. Experiments: How Do They Help Us?\n"
   ]
  },
  {
   "cell_type": "markdown",
   "metadata": {
    "slideshow": {
     "slide_type": "slide"
    }
   },
   "source": [
    "## 0. Doing HW1\n",
    "\n",
    "* https://dsua-111-fall.rcnyu.org/hub"
   ]
  },
  {
   "cell_type": "markdown",
   "metadata": {
    "slideshow": {
     "slide_type": "slide"
    }
   },
   "source": [
    "## 1. Recap: Data? Science?\n",
    "\n",
    "### Data\n",
    "\n",
    "* More than numbers (think \"Symbolic Systems\")\n",
    "* It does not \"speak for itself\", but must be interpreted\n"
   ]
  },
  {
   "cell_type": "code",
   "execution_count": 9,
   "metadata": {
    "slideshow": {
     "slide_type": "slide"
    }
   },
   "outputs": [
    {
     "data": {
      "text/html": [
       "<video width=\"80%\" controls>\n",
       "      <source src=\"looked_at_the_data.mp4\" type=\"video/mp4\">\n",
       "</video>\n"
      ],
      "text/plain": [
       "<IPython.core.display.HTML object>"
      ]
     },
     "metadata": {},
     "output_type": "display_data"
    }
   ],
   "source": [
    "%%HTML\n",
    "<video width=\"80%\" controls>\n",
    "      <source src=\"looked_at_the_data.mp4\" type=\"video/mp4\">\n",
    "</video>"
   ]
  },
  {
   "cell_type": "markdown",
   "metadata": {
    "slideshow": {
     "slide_type": "slide"
    }
   },
   "source": [
    "### Science\n",
    "\n",
    "* Doubt and skepticism\n",
    "* **Dis**proving theories\n",
    "    * \"In so far as a scientific statement speaks about reality, it must be **falsifiable**.\n",
    "    * And in so far as it is **not** falsifiable, it does not speak about reality.\" (Popper)\n",
    "* Asking questions\n",
    "* Humility that one study is a [usually very] **imperfect** snapshot"
   ]
  },
  {
   "cell_type": "markdown",
   "metadata": {
    "slideshow": {
     "slide_type": "slide"
    }
   },
   "source": [
    "### Scientific Method\n",
    "* Data <-> Theory\n",
    "* Theory <-> Data\n",
    "\n",
    "<img src=\"theory_data.png\" style=\"width:80%\">\n",
    "\n",
    "* **No proving**!\n",
    "* **Collective** endeavor, over decades/centuries!\n",
    "    * \"Standing on the shoulders of giants\""
   ]
  },
  {
   "cell_type": "markdown",
   "metadata": {
    "slideshow": {
     "slide_type": "slide"
    }
   },
   "source": [
    "## Zooming In\n",
    "\n",
    "<img src=\"scientific_method.png\" style=\"width:80%; align:center;\">\n"
   ]
  },
  {
   "cell_type": "markdown",
   "metadata": {
    "slideshow": {
     "slide_type": "slide"
    }
   },
   "source": [
    "## 2. Measurement Issues\n",
    "\n",
    "<img src=\"how_should_we_measure.png\" style=\"width:80%\">"
   ]
  },
  {
   "cell_type": "markdown",
   "metadata": {
    "slideshow": {
     "slide_type": "slide"
    }
   },
   "source": [
    "## What does this look like in practice?\n",
    "\n",
    "\n",
    "<img src=\"berger_2013_unmarked.png\" style=\"width: 66.6%;\">\n",
    "\n",
    "(Berger, Daniel, William Easterly, Nathan Nunn, and Shanker Satyanath. 2013. [\"Commercial Imperialism? Political Influence and Trade during the Cold War.\"](https://www.aeaweb.org/articles?id=10.1257/aer.103.2.863) American Economic Review, 103 (2): 863-96.)"
   ]
  },
  {
   "cell_type": "markdown",
   "metadata": {
    "slideshow": {
     "slide_type": "slide"
    }
   },
   "source": [
    "## The Variables\n",
    "\n",
    "<img src=\"berger_2013_vars.png\" style=\"width:66.6%;\">"
   ]
  },
  {
   "cell_type": "markdown",
   "metadata": {
    "slideshow": {
     "slide_type": "slide"
    }
   },
   "source": [
    "## How Are They Measured?\n",
    "\n",
    "<img src=\"berger_2013_final.png\" style=\"width:66.6%;\">"
   ]
  },
  {
   "cell_type": "markdown",
   "metadata": {
    "slideshow": {
     "slide_type": "slide"
    }
   },
   "source": [
    "### Crucial point here (if you remember nothing else!):\n",
    "* Before we can even start thinking about the *relationship* between two variables $X$ and $Y$, we need to know exactly *how* each of them is measured\n",
    "* So when you read/hear some claim like **\"New study finds [_] causes [_]\"**, *make sure you know exactly what's going in those blanks!*"
   ]
  },
  {
   "cell_type": "markdown",
   "metadata": {
    "slideshow": {
     "slide_type": "slide"
    }
   },
   "source": [
    "## 3. Correlation vs. Causation\n",
    "\n",
    "* **Correlation**: $X$ and $Y$ change \"together\" -- higher values of $X$ tend to \"co-occur\" with higher values of $Y$\n",
    "\n",
    "<img src=\"correlation.png\" style=\"width:80%;\">\n",
    "\n",
    "* **Causation**: ...it's trickier than this. Why? Let's find out."
   ]
  },
  {
   "cell_type": "markdown",
   "metadata": {
    "slideshow": {
     "slide_type": "slide"
    }
   },
   "source": [
    "## 4. Correlation Pitfalls\n",
    "\n",
    "### Spurious Correlations\n",
    "* http://tylervigen.com/spurious-correlations\n",
    "* http://tylervigen.com/view_correlation?id=29272\n",
    "![skiing_in_georgia.png](skiing_in_georgia.png)\n",
    "* (Monkeys on a typewriter)"
   ]
  },
  {
   "cell_type": "markdown",
   "metadata": {
    "slideshow": {
     "slide_type": "slide"
    }
   },
   "source": [
    "### Omitted variables\n",
    "\n",
    "* **[Umbrellas]** cause **[car accidents]**! (Days with high umbrella use also have high car accident frequency!)"
   ]
  },
  {
   "cell_type": "markdown",
   "metadata": {
    "slideshow": {
     "slide_type": "slide"
    }
   },
   "source": [
    "## 5. Causality and Counterfactuals\n",
    "\n",
    "* Causality: the **holy grail** of science\n",
    "* Causal statements require **counterfactuals**: What **would have** happened?\n",
    "* \"Easy\" mode: an experiment (in the lab or \"in nature\")\n",
    "* Hard mode: observational data"
   ]
  },
  {
   "cell_type": "markdown",
   "metadata": {
    "slideshow": {
     "slide_type": "slide"
    }
   },
   "source": [
    "## The Fundamental Problem of Causal Inference\n",
    "\n",
    "* Remember John Snow: the **causal effect** of **[drinking \"bad\" water]** on the **[infection status]** for a particular person on a given day is the **difference** between:\n",
    "    * (a) Their infection status after drinking the water, and \n",
    "    * (b) The infection status they **would have had** on the same day had they not drunk \"bad\" water.\n",
    "* **Fundamental Problem of Causal Inference**:\n",
    "    * We never get to see **both** scenarios for the same unit (person) at the same time, and so\n",
    "    * We can **never** know the causal effect with certainty!\n"
   ]
  },
  {
   "cell_type": "markdown",
   "metadata": {
    "slideshow": {
     "slide_type": "slide"
    }
   },
   "source": [
    "### So, what is to be done?!? Two options...\n",
    "\n",
    "* Forget Everything And Run?\n",
    "\n",
    "<img src=\"face_everything_and_rise.jpg\" style=\"width:33%;\">"
   ]
  },
  {
   "cell_type": "markdown",
   "metadata": {
    "slideshow": {
     "slide_type": "slide"
    }
   },
   "source": [
    "## Face Everything And Rise\n",
    "\n",
    "* Find good **comparison** cases: **Treatment** and **Control**\n",
    "* Without a **control** group, you **cannot** make inferences!\n",
    "    * (Snow needed at least *some* people who did not drink the pump water... why?)"
   ]
  },
  {
   "cell_type": "markdown",
   "metadata": {
    "slideshow": {
     "slide_type": "slide"
    }
   },
   "source": [
    "## 6. Controlled Experiments: How Do They Help Us?\n",
    "\n",
    "* **Random Assignment**: Vietnam War/Second Indochina War Draft\n",
    "    * Key point: makes treatment and control groups **similar**, on average, without us having to do any work!\n",
    "    * (e.g., don't need to worry about \"pairing up\" similar treatment+control units)\n",
    "* No more **Selection Effects**\n",
    "* **Omitted variables** are in BOTH Treatment and Control groups"
   ]
  },
  {
   "cell_type": "markdown",
   "metadata": {
    "slideshow": {
     "slide_type": "slide"
    }
   },
   "source": [
    "## Complications: Selection\n",
    "\n",
    "* Tl;dr **Why** did this person (unit) end up in the **treatment** group? **Why** did this other person (unit) end up in the **control** group?\n",
    "    * Are there systematic differences?\n",
    "* Vietnam/Indochina Draft: Why can't we just study **[men who join the military]** versus **[men who don't]**, and take the **difference** as a causal estimate?"
   ]
  },
  {
   "cell_type": "markdown",
   "metadata": {
    "slideshow": {
     "slide_type": "slide"
    }
   },
   "source": [
    "## Complications: Compliance\n",
    "\n",
    "* We ideally want people **assigned** to the treatment to **take** the treatment, and people **assigned** to the control to **take** the control.\n",
    "* \"Compliance\" is the degree to which this is actually true in your experiment\n",
    "    * High compliance = most people actually took what they were assigned\n",
    "    * Low compliance = lots of people who were assigned to treatment actually took control, and vice-versa\n",
    "* What problems might there be with **compliance** in the Draft example?"
   ]
  },
  {
   "cell_type": "markdown",
   "metadata": {
    "slideshow": {
     "slide_type": "slide"
    }
   },
   "source": [
    "## 7. The Biggest Complication: Observational Data\n",
    "\n",
    "* In observational studies, researchers have **no** control over assignment to treatment/control 😨\n",
    "* On the one hand... Forget Everything And Run, if you can.\n",
    "* On the other hand... statisticians over the last ~4 centuries have developed fancy causal inference tools/techniques to help us Face Everything And Rise"
   ]
  },
  {
   "cell_type": "markdown",
   "metadata": {
    "slideshow": {
     "slide_type": "slide"
    }
   },
   "source": [
    "## Causal Terminology for Observational Studies\n",
    "\n",
    "<img src=\"observational_studies_terminology.png\" style=\"width:80%\">"
   ]
  }
 ],
 "metadata": {
  "kernelspec": {
   "display_name": "Python 3",
   "language": "python",
   "name": "python3"
  },
  "language_info": {
   "codemirror_mode": {
    "name": "ipython",
    "version": 3
   },
   "file_extension": ".py",
   "mimetype": "text/x-python",
   "name": "python",
   "nbconvert_exporter": "python",
   "pygments_lexer": "ipython3",
   "version": "3.8.4"
  },
  "toc-showtags": false
 },
 "nbformat": 4,
 "nbformat_minor": 4
}
