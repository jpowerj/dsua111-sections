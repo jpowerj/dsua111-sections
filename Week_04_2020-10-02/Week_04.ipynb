{
 "cells": [
  {
   "cell_type": "markdown",
   "metadata": {
    "slideshow": {
     "slide_type": "slide"
    }
   },
   "source": [
    "# Week 4: Causality Wrap-Up, Python Sequences and Libraries\n",
    "\n",
    "## DSUA111: Data Science for Everyone, NYU, Fall 2020\n",
    "\n",
    "### TA Jeff, `jpj251@nyu.edu`\n",
    "\n",
    "### https://github.com/jpowerj/dsua111-sections"
   ]
  },
  {
   "cell_type": "markdown",
   "metadata": {
    "slideshow": {
     "slide_type": "slide"
    }
   },
   "source": [
    "## Outline\n",
    "\n",
    "0. HW1 Feedback\n",
    "1. Causality Wrap-Up\n",
    "2. Python Sequences\n",
    "3. Python Libraries"
   ]
  },
  {
   "cell_type": "code",
   "execution_count": 21,
   "metadata": {
    "slideshow": {
     "slide_type": "skip"
    }
   },
   "outputs": [],
   "source": [
    "#!pip install jupyter_contrib_nbextensions\n",
    "# Jupyter themes:\n",
    "# black (default)\n",
    "# white\n",
    "# beige\n",
    "# league\n",
    "#!jupyter nbconvert Week_04.ipynb --to slides --SlidesExporter.reveal_theme=beige --SlidesExporter.reveal_scroll=True"
   ]
  },
  {
   "cell_type": "code",
   "execution_count": 24,
   "metadata": {
    "slideshow": {
     "slide_type": "skip"
    }
   },
   "outputs": [
    {
     "name": "stderr",
     "output_type": "stream",
     "text": [
      "[NbConvertApp] Converting notebook Week_04.ipynb to slides\n",
      "[NbConvertApp] Writing 278403 bytes to Week_04.slides.html\n"
     ]
    }
   ],
   "source": [
    "!jupyter nbconvert Week_04.ipynb --to slides --SlidesExporter.reveal_scroll=True"
   ]
  },
  {
   "cell_type": "code",
   "execution_count": null,
   "metadata": {},
   "outputs": [],
   "source": []
  }
 ],
 "metadata": {
  "kernelspec": {
   "display_name": "Python 3",
   "language": "python",
   "name": "python3"
  },
  "language_info": {
   "codemirror_mode": {
    "name": "ipython",
    "version": 3
   },
   "file_extension": ".py",
   "mimetype": "text/x-python",
   "name": "python",
   "nbconvert_exporter": "python",
   "pygments_lexer": "ipython3",
   "version": "3.8.4"
  }
 },
 "nbformat": 4,
 "nbformat_minor": 4
}
