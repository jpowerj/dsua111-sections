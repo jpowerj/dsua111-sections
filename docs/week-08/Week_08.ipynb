{
 "cells": [
  {
   "cell_type": "markdown",
   "metadata": {
    "slideshow": {
     "slide_type": "slide"
    }
   },
   "source": [
    "# Week 8: Hypothesis Testing, Correlation vs. Causation\n",
    "\n",
    "## DSUA111: Data Science for Everyone, NYU, Fall 2020\n",
    "\n",
    "### TA Jeff, `jpj251@nyu.edu`\n",
    "\n",
    "* This slideshow: https://jjacobs.me/dsua111-sections/week-08\n",
    "* All materials: https://github.com/jpowerj/dsua111-sections"
   ]
  },
  {
   "cell_type": "markdown",
   "metadata": {
    "slideshow": {
     "slide_type": "slide"
    }
   },
   "source": [
    "## Outline\n",
    "\n",
    "0. Hypothesis Testing Overview\n",
    "1. Testing Coins\n",
    "2. Null vs. Alternative Hypotheses\n",
    "3. Test Statistics\n",
    "4. The Normal Distribution\n",
    "5. Correlation vs. Causation"
   ]
  },
  {
   "cell_type": "markdown",
   "metadata": {
    "slideshow": {
     "slide_type": "slide"
    }
   },
   "source": [
    "## Hypothesis Testing Overview\n",
    "\n",
    "tl;dr\n",
    "* If your theory was true, what would the data look like?\n",
    "* Now compare that to the actual, **observed** data"
   ]
  },
  {
   "cell_type": "markdown",
   "metadata": {
    "slideshow": {
     "slide_type": "slide"
    }
   },
   "source": [
    "## Testing Coins"
   ]
  },
  {
   "cell_type": "markdown",
   "metadata": {},
   "source": [
    "Example: I walk up to you and say \"Hey, wanna gamble? We'll each put in a dollar, then I'll flip this coin. Heads I get the \\\\$2, tails you get the \\\\$2\"\n",
    "\n",
    "* Xavier's Theory: I think the coin is fair. Heads and tails will come up **about the same** number of times\n",
    "* Yasmin's Theory: I don't trust this guy, I think **heads will come up more often than tails**\n",
    "\n",
    "\"Suit yourself -- here, I'll let you flip it **100 times** and then draw your own conclusions about whether it's fair or not!\""
   ]
  },
  {
   "cell_type": "markdown",
   "metadata": {
    "slideshow": {
     "slide_type": "slide"
    }
   },
   "source": [
    "What do the two theories predict in terms of the outcome of a series of coin flips?"
   ]
  },
  {
   "cell_type": "code",
   "execution_count": 1,
   "metadata": {},
   "outputs": [],
   "source": [
    "x_predictions = [0.5, 0.5]\n",
    "y_predictions = [0.4, 0.6]\n",
    "\n",
    "import matplotlib.pyplot as plt\n",
    "def plot_prediction(prediction, who):\n",
    "    plt.bar([0,1], prediction)\n",
    "    plt.ylim([0,1])\n",
    "    plt.title(f\"{who}'s coin flip prediction\")\n",
    "    plt.show()"
   ]
  },
  {
   "cell_type": "code",
   "execution_count": 2,
   "metadata": {
    "slideshow": {
     "slide_type": "slide"
    }
   },
   "outputs": [
    {
     "data": {
      "image/png": "[encoded data removed]",
      "text/plain": [
       "<Figure size 432x288 with 1 Axes>"
      ]
     },
     "metadata": {
      "needs_background": "light"
     },
     "output_type": "display_data"
    }
   ],
   "source": [
    "plot_prediction(x_predictions, \"Xavier\")"
   ]
  },
  {
   "cell_type": "code",
   "execution_count": 3,
   "metadata": {
    "slideshow": {
     "slide_type": "slide"
    }
   },
   "outputs": [
    {
     "data": {
      "image/png": "[encoded data removed]",
      "text/plain": [
       "<Figure size 432x288 with 1 Axes>"
      ]
     },
     "metadata": {
      "needs_background": "light"
     },
     "output_type": "display_data"
    }
   ],
   "source": [
    "plot_prediction(y_predictions, \"Yasmin\")"
   ]
  },
  {
   "cell_type": "markdown",
   "metadata": {
    "slideshow": {
     "slide_type": "slide"
    }
   },
   "source": [
    "* Data:"
   ]
  },
  {
   "cell_type": "code",
   "execution_count": 4,
   "metadata": {},
   "outputs": [],
   "source": [
    "from collections import Counter\n",
    "import pandas as pd\n",
    "import numpy as np\n",
    "import secret_coin\n",
    "np.random.seed(123)\n",
    "\n",
    "def do_coin_flips(N):\n",
    "    coin_flips = np.array([secret_coin.flip() for i in range(N)])\n",
    "    return coin_flips\n",
    "\n",
    "def get_flip_distributions(x_predictions, y_predictions, results):\n",
    "    flip_counter = Counter(results)\n",
    "    flip_counts = np.array([flip_counter[0], flip_counter[1]]) / len(results)\n",
    "    flip_df = pd.DataFrame({'outcome':[\"Tails\",\"Heads\"],'p':flip_counts,'which':['Actual outcome','Actual outcome']})\n",
    "    x_pred_df = pd.DataFrame({'outcome':[\"Tails\",\"Heads\"],'p':x_predictions,'which':[\"Xavier's prediction\",\"Xavier's prediction\"]})\n",
    "    y_pred_df = pd.DataFrame({'outcome':[\"Tails\",\"Heads\"],'p':y_predictions,'which':[\"Yasmin's prediction\",\"Yasmin's prediction\"]})\n",
    "    full_df = pd.concat([flip_df, x_pred_df, y_pred_df]).reset_index()\n",
    "    return full_df"
   ]
  },
  {
   "cell_type": "code",
   "execution_count": 5,
   "metadata": {
    "slideshow": {
     "slide_type": "slide"
    }
   },
   "outputs": [
    {
     "data": {
      "text/plain": [
       "array([0, 1, 1, 1, 0, 1, 0, 0, 1, 1, 1, 0, 1, 1, 1, 0, 1, 1, 1, 1, 0, 0,\n",
       "       0, 0, 0, 1, 1, 1, 1, 0, 1, 1, 1, 1, 1, 1, 1, 0, 0, 1, 0, 1, 1, 1,\n",
       "       0, 1, 1, 0, 1, 0, 1, 0, 0, 1, 1, 1, 1, 0, 0, 1, 0, 1, 0, 0, 0, 1,\n",
       "       0, 1, 1, 1, 1, 0, 0, 0, 1, 1, 1, 1, 1, 0, 1, 0, 1, 1, 0, 0, 1, 1,\n",
       "       1, 1, 0, 0, 1, 0, 1, 0, 1, 1, 1, 1])"
      ]
     },
     "execution_count": 5,
     "metadata": {},
     "output_type": "execute_result"
    }
   ],
   "source": [
    "flips_100 = do_coin_flips(100)\n",
    "flips_100"
   ]
  },
  {
   "cell_type": "code",
   "execution_count": 6,
   "metadata": {},
   "outputs": [
    {
     "data": {
      "text/html": [
       "<div>\n",
       "<style scoped>\n",
       "    .dataframe tbody tr th:only-of-type {\n",
       "        vertical-align: middle;\n",
       "    }\n",
       "\n",
       "    .dataframe tbody tr th {\n",
       "        vertical-align: top;\n",
       "    }\n",
       "\n",
       "    .dataframe thead th {\n",
       "        text-align: right;\n",
       "    }\n",
       "</style>\n",
       "<table border=\"1\" class=\"dataframe\">\n",
       "  <thead>\n",
       "    <tr style=\"text-align: right;\">\n",
       "      <th></th>\n",
       "      <th>index</th>\n",
       "      <th>outcome</th>\n",
       "      <th>p</th>\n",
       "      <th>which</th>\n",
       "    </tr>\n",
       "  </thead>\n",
       "  <tbody>\n",
       "    <tr>\n",
       "      <th>0</th>\n",
       "      <td>0</td>\n",
       "      <td>Tails</td>\n",
       "      <td>0.38</td>\n",
       "      <td>Actual outcome</td>\n",
       "    </tr>\n",
       "    <tr>\n",
       "      <th>1</th>\n",
       "      <td>1</td>\n",
       "      <td>Heads</td>\n",
       "      <td>0.62</td>\n",
       "      <td>Actual outcome</td>\n",
       "    </tr>\n",
       "    <tr>\n",
       "      <th>2</th>\n",
       "      <td>0</td>\n",
       "      <td>Tails</td>\n",
       "      <td>0.50</td>\n",
       "      <td>Xavier's prediction</td>\n",
       "    </tr>\n",
       "    <tr>\n",
       "      <th>3</th>\n",
       "      <td>1</td>\n",
       "      <td>Heads</td>\n",
       "      <td>0.50</td>\n",
       "      <td>Xavier's prediction</td>\n",
       "    </tr>\n",
       "    <tr>\n",
       "      <th>4</th>\n",
       "      <td>0</td>\n",
       "      <td>Tails</td>\n",
       "      <td>0.40</td>\n",
       "      <td>Yasmin's prediction</td>\n",
       "    </tr>\n",
       "    <tr>\n",
       "      <th>5</th>\n",
       "      <td>1</td>\n",
       "      <td>Heads</td>\n",
       "      <td>0.60</td>\n",
       "      <td>Yasmin's prediction</td>\n",
       "    </tr>\n",
       "  </tbody>\n",
       "</table>\n",
       "</div>"
      ],
      "text/plain": [
       "   index outcome     p                which\n",
       "0      0   Tails  0.38       Actual outcome\n",
       "1      1   Heads  0.62       Actual outcome\n",
       "2      0   Tails  0.50  Xavier's prediction\n",
       "3      1   Heads  0.50  Xavier's prediction\n",
       "4      0   Tails  0.40  Yasmin's prediction\n",
       "5      1   Heads  0.60  Yasmin's prediction"
      ]
     },
     "execution_count": 6,
     "metadata": {},
     "output_type": "execute_result"
    }
   ],
   "source": [
    "dist_df = get_flip_distributions(x_predictions, y_predictions, flips_100)\n",
    "dist_df"
   ]
  },
  {
   "cell_type": "code",
   "execution_count": 7,
   "metadata": {
    "slideshow": {
     "slide_type": "slide"
    }
   },
   "outputs": [
    {
     "data": {
      "image/png": "[encoded data removed]",
      "text/plain": [
       "<Figure size 432x288 with 1 Axes>"
      ]
     },
     "metadata": {
      "needs_background": "light"
     },
     "output_type": "display_data"
    }
   ],
   "source": [
    "plt.bar([0,1], [dist_df.iloc[0]['p'],dist_df.iloc[1]['p']])\n",
    "plt.title(\"Actual observed flips (N=100)\")\n",
    "plt.ylim([0,1])\n",
    "plt.show()"
   ]
  },
  {
   "cell_type": "markdown",
   "metadata": {
    "slideshow": {
     "slide_type": "slide"
    }
   },
   "source": [
    "But... **how** wrong is our prediction?"
   ]
  },
  {
   "cell_type": "code",
   "execution_count": 8,
   "metadata": {},
   "outputs": [
    {
     "data": {
      "image/png": "[encoded data removed]",
      "text/plain": [
       "<Figure size 482.375x360 with 1 Axes>"
      ]
     },
     "metadata": {},
     "output_type": "display_data"
    }
   ],
   "source": [
    "import seaborn as sns; sns.set_style(\"whitegrid\")\n",
    "def plot_distributions_a(dist_df):\n",
    "    g = sns.catplot(data=dist_df, kind=\"bar\",x=\"outcome\", y=\"p\", hue=\"which\")\n",
    "    g.despine(left=True)\n",
    "    g.set_axis_labels(\"Outcome\", \"P(outcome)\")\n",
    "    g.legend.set_title(\"\")\n",
    "    g.set(ylim=(0,1))\n",
    "plot_distributions_a(dist_df)"
   ]
  },
  {
   "cell_type": "code",
   "execution_count": 9,
   "metadata": {
    "slideshow": {
     "slide_type": "slide"
    }
   },
   "outputs": [
    {
     "data": {
      "image/png": "[encoded data removed]",
      "text/plain": [
       "<Figure size 425x360 with 1 Axes>"
      ]
     },
     "metadata": {},
     "output_type": "display_data"
    }
   ],
   "source": [
    "def plot_distributions_b(dist_df):\n",
    "    g = sns.catplot(\n",
    "        data=dist_df, kind=\"bar\",\n",
    "        x=\"which\", y=\"p\", hue=\"outcome\"\n",
    "    )\n",
    "    g.despine(left=True)\n",
    "    g.set_axis_labels(\"Which Distribution?\", \"P(outcome)\")\n",
    "    g.legend.set_title(\"Outcome\")\n",
    "    g.set(ylim=(0,1))\n",
    "plot_distributions_b(dist_df)"
   ]
  },
  {
   "cell_type": "markdown",
   "metadata": {
    "slideshow": {
     "slide_type": "slide"
    }
   },
   "source": [
    "Hmm... that actual outcome still looks kinda sketchy. Let's try one more time"
   ]
  },
  {
   "cell_type": "code",
   "execution_count": 10,
   "metadata": {},
   "outputs": [
    {
     "data": {
      "text/plain": [
       "array([1, 0, 1, 1, 1, 0, 0, 1, 0, 1, 1, 1, 1, 0, 1, 1, 1, 1, 1, 0, 0, 1,\n",
       "       1, 1, 0, 0, 1, 1, 0, 1, 0, 1, 0, 0, 0, 1, 1, 1, 1, 1, 1, 1, 0, 1,\n",
       "       1, 0, 0, 1, 0, 0, 1, 0, 1, 1, 0, 1, 0, 0, 0, 1, 1, 0, 1, 1, 1, 0,\n",
       "       1, 0, 0, 1, 0, 1, 0, 0, 0, 1, 1, 1, 1, 1, 1, 1, 1, 0, 1, 0, 1, 1,\n",
       "       0, 1, 1, 0, 1, 0, 1, 0, 1, 0, 1, 1])"
      ]
     },
     "execution_count": 10,
     "metadata": {},
     "output_type": "execute_result"
    }
   ],
   "source": [
    "flips_100_2 = do_coin_flips(100)\n",
    "flips_100_2"
   ]
  },
  {
   "cell_type": "code",
   "execution_count": 11,
   "metadata": {},
   "outputs": [
    {
     "data": {
      "text/html": [
       "<div>\n",
       "<style scoped>\n",
       "    .dataframe tbody tr th:only-of-type {\n",
       "        vertical-align: middle;\n",
       "    }\n",
       "\n",
       "    .dataframe tbody tr th {\n",
       "        vertical-align: top;\n",
       "    }\n",
       "\n",
       "    .dataframe thead th {\n",
       "        text-align: right;\n",
       "    }\n",
       "</style>\n",
       "<table border=\"1\" class=\"dataframe\">\n",
       "  <thead>\n",
       "    <tr style=\"text-align: right;\">\n",
       "      <th></th>\n",
       "      <th>index</th>\n",
       "      <th>outcome</th>\n",
       "      <th>p</th>\n",
       "      <th>which</th>\n",
       "    </tr>\n",
       "  </thead>\n",
       "  <tbody>\n",
       "    <tr>\n",
       "      <th>0</th>\n",
       "      <td>0</td>\n",
       "      <td>Tails</td>\n",
       "      <td>0.39</td>\n",
       "      <td>Actual outcome</td>\n",
       "    </tr>\n",
       "    <tr>\n",
       "      <th>1</th>\n",
       "      <td>1</td>\n",
       "      <td>Heads</td>\n",
       "      <td>0.61</td>\n",
       "      <td>Actual outcome</td>\n",
       "    </tr>\n",
       "    <tr>\n",
       "      <th>2</th>\n",
       "      <td>0</td>\n",
       "      <td>Tails</td>\n",
       "      <td>0.50</td>\n",
       "      <td>Xavier's prediction</td>\n",
       "    </tr>\n",
       "    <tr>\n",
       "      <th>3</th>\n",
       "      <td>1</td>\n",
       "      <td>Heads</td>\n",
       "      <td>0.50</td>\n",
       "      <td>Xavier's prediction</td>\n",
       "    </tr>\n",
       "    <tr>\n",
       "      <th>4</th>\n",
       "      <td>0</td>\n",
       "      <td>Tails</td>\n",
       "      <td>0.40</td>\n",
       "      <td>Yasmin's prediction</td>\n",
       "    </tr>\n",
       "    <tr>\n",
       "      <th>5</th>\n",
       "      <td>1</td>\n",
       "      <td>Heads</td>\n",
       "      <td>0.60</td>\n",
       "      <td>Yasmin's prediction</td>\n",
       "    </tr>\n",
       "  </tbody>\n",
       "</table>\n",
       "</div>"
      ],
      "text/plain": [
       "   index outcome     p                which\n",
       "0      0   Tails  0.39       Actual outcome\n",
       "1      1   Heads  0.61       Actual outcome\n",
       "2      0   Tails  0.50  Xavier's prediction\n",
       "3      1   Heads  0.50  Xavier's prediction\n",
       "4      0   Tails  0.40  Yasmin's prediction\n",
       "5      1   Heads  0.60  Yasmin's prediction"
      ]
     },
     "execution_count": 11,
     "metadata": {},
     "output_type": "execute_result"
    }
   ],
   "source": [
    "dist_df2 = get_flip_distributions(x_predictions, y_predictions, flips_100_2)\n",
    "dist_df2"
   ]
  },
  {
   "cell_type": "code",
   "execution_count": 12,
   "metadata": {
    "slideshow": {
     "slide_type": "slide"
    }
   },
   "outputs": [
    {
     "data": {
      "image/png": "[encoded data removed]",
      "text/plain": [
       "<Figure size 482.375x360 with 1 Axes>"
      ]
     },
     "metadata": {},
     "output_type": "display_data"
    }
   ],
   "source": [
    "plot_distributions_a(dist_df2)"
   ]
  },
  {
   "cell_type": "code",
   "execution_count": 13,
   "metadata": {
    "slideshow": {
     "slide_type": "slide"
    }
   },
   "outputs": [
    {
     "data": {
      "image/png": "[encoded data removed]",
      "text/plain": [
       "<Figure size 425x360 with 1 Axes>"
      ]
     },
     "metadata": {},
     "output_type": "display_data"
    }
   ],
   "source": [
    "plot_distributions_b(dist_df2)"
   ]
  },
  {
   "cell_type": "markdown",
   "metadata": {},
   "source": [
    "So, we need to **formalize** how to measure **how good or bad** a prediction is.\n",
    "\n",
    "Enter... statistics!"
   ]
  },
  {
   "cell_type": "markdown",
   "metadata": {
    "slideshow": {
     "slide_type": "slide"
    }
   },
   "source": [
    "## Null vs. Alternative Hypotheses"
   ]
  },
  {
   "cell_type": "markdown",
   "metadata": {},
   "source": [
    "* **Null Hypothesis** ($H_0$): The skeptical hypothesis... \"Nothing interesting is going on here, any patterns were simply due to chance\"\n",
    "    * The coin is not weird. $P(\\text{heads}) = 0.5$\n",
    "* **Alternative Hypothesis** ($H_A$): Something *other than* chance is generating the pattern we observe\n",
    "    * The coin is loaded! $P(\\text{heads}) \\neq 0.5$"
   ]
  },
  {
   "cell_type": "markdown",
   "metadata": {
    "slideshow": {
     "slide_type": "slide"
    }
   },
   "source": [
    "## ONLY TWO POSSIBLE CONCLUSIONS FROM YOUR HYPOTHESIS TEST\n",
    "\n",
    "0. \"We **reject** the null hypothesis\"\n",
    "    * if it seems sufficiently unlikely that the patterns in the data were produced simply due to chance\n",
    "1. \"We **fail to reject** the null hypothesis\"\n",
    "    * otherwise"
   ]
  },
  {
   "cell_type": "markdown",
   "metadata": {
    "slideshow": {
     "slide_type": "slide"
    }
   },
   "source": [
    "## Test Statistic\n",
    "\n",
    "* Computed from the **observed** data\n",
    "* A measure of how reasonable our alternative hypothesis is for explaining this data\n",
    "* I think of it like: a measure of \"weirdness\" -- should get larger the more \"suspicious\" the data is\n",
    "* e.g., for a sequence of dice rolls, should be small if most sides come up ~1/6th of the time, but very high if only 6 ever comes up"
   ]
  },
  {
   "cell_type": "markdown",
   "metadata": {
    "slideshow": {
     "slide_type": "slide"
    }
   },
   "source": [
    "## Unfair Coin Detection Statistic\n",
    "\n",
    "* Idea: (number of heads) - (number of tails)\n",
    "\n",
    "This is the number we were looking for before! It allows us to measure \"unfairness\" of the coin:\n",
    "\n",
    "* Fair coins should produce test statistics close to 0 on average, while\n",
    "* Coins biased towards heads will produce test statistics larger than 0 on average"
   ]
  },
  {
   "cell_type": "markdown",
   "metadata": {
    "slideshow": {
     "slide_type": "slide"
    }
   },
   "source": [
    "## So, how bad were our coin flip predictions?"
   ]
  },
  {
   "cell_type": "code",
   "execution_count": 14,
   "metadata": {},
   "outputs": [],
   "source": [
    "def test_stat_a(coin_flips):\n",
    "    # Num heads - num tails\n",
    "    num_heads = len([f for f in coin_flips if f == 1])\n",
    "    num_tails = len([f for f in coin_flips if f == 0])\n",
    "    return num_heads - num_tails"
   ]
  },
  {
   "cell_type": "code",
   "execution_count": 15,
   "metadata": {},
   "outputs": [
    {
     "name": "stdout",
     "output_type": "stream",
     "text": [
      "24\n",
      "26\n"
     ]
    }
   ],
   "source": [
    "print(test_stat_a(do_coin_flips(100)))\n",
    "print(test_stat_a(do_coin_flips(100)))"
   ]
  },
  {
   "cell_type": "markdown",
   "metadata": {
    "slideshow": {
     "slide_type": "slide"
    }
   },
   "source": [
    "What would this test statistic look like if the coin was *actually* fair?"
   ]
  },
  {
   "cell_type": "code",
   "execution_count": 16,
   "metadata": {},
   "outputs": [],
   "source": [
    "def fair_coin_flips(N):\n",
    "    return np.array([np.random.binomial(1, 0.5) for i in range(N)])"
   ]
  },
  {
   "cell_type": "code",
   "execution_count": 17,
   "metadata": {},
   "outputs": [
    {
     "name": "stdout",
     "output_type": "stream",
     "text": [
      "-12\n",
      "8\n"
     ]
    }
   ],
   "source": [
    "print(test_stat_a(fair_coin_flips(100)))\n",
    "print(test_stat_a(fair_coin_flips(100)))"
   ]
  },
  {
   "cell_type": "markdown",
   "metadata": {},
   "source": [
    "## Testing Procedure\n",
    "\n",
    "* We'll consider a **trial** to be a sequence of $N=100$ coin flips.\n",
    "* We'll perform **1000 trials** with a **fair** coin, and for each trial we'll record what the test statistic is\n",
    "* Once we finish, we'll look at the **distribution** of test statistics that were generated from flips of the fair coin\n"
   ]
  },
  {
   "cell_type": "code",
   "execution_count": 18,
   "metadata": {
    "slideshow": {
     "slide_type": "slide"
    }
   },
   "outputs": [],
   "source": [
    "test_stats = []\n",
    "for trial_num in range(1000):\n",
    "    test_stats.append(test_stat_a(fair_coin_flips(100)))\n",
    "# Turn it into a NumPy array so we can do fancy math stuff with it\n",
    "test_stats = np.array(test_stats)"
   ]
  },
  {
   "cell_type": "code",
   "execution_count": 19,
   "metadata": {},
   "outputs": [
    {
     "data": {
      "image/png": "[encoded data removed]",
      "text/plain": [
       "<Figure size 432x288 with 1 Axes>"
      ]
     },
     "metadata": {},
     "output_type": "display_data"
    }
   ],
   "source": [
    "plt.hist(test_stats)\n",
    "plt.show()"
   ]
  },
  {
   "cell_type": "markdown",
   "metadata": {
    "slideshow": {
     "slide_type": "slide"
    }
   },
   "source": [
    "So... now we do 100 flips of our secret coin and see where it falls on this distribution!"
   ]
  },
  {
   "cell_type": "code",
   "execution_count": 20,
   "metadata": {},
   "outputs": [],
   "source": [
    "secret_coin_results = do_coin_flips(100)"
   ]
  },
  {
   "cell_type": "code",
   "execution_count": 21,
   "metadata": {},
   "outputs": [
    {
     "data": {
      "text/plain": [
       "8"
      ]
     },
     "execution_count": 21,
     "metadata": {},
     "output_type": "execute_result"
    }
   ],
   "source": [
    "sc_stat = test_stat_a(secret_coin_results)\n",
    "sc_stat"
   ]
  },
  {
   "cell_type": "code",
   "execution_count": 22,
   "metadata": {},
   "outputs": [
    {
     "data": {
      "image/png": "[encoded data removed]",
      "text/plain": [
       "<Figure size 432x288 with 1 Axes>"
      ]
     },
     "metadata": {},
     "output_type": "display_data"
    }
   ],
   "source": [
    "plt.hist(test_stats)\n",
    "plt.vlines(sc_stat, 0, 250, color='red')\n",
    "plt.show()"
   ]
  },
  {
   "cell_type": "markdown",
   "metadata": {
    "slideshow": {
     "slide_type": "slide"
    }
   },
   "source": [
    "## p-values\n",
    "\n",
    "* You should always have this plot in your head when thinking about **p-values**.\n",
    "* The p-value is just the proportion of test statistics **generated from a true null hypothesis** (in this case, with a fair coin) that are as extreme or more extreme than the test statistic generated from the **observed data**\n",
    "* In this case,"
   ]
  },
  {
   "cell_type": "code",
   "execution_count": 23,
   "metadata": {},
   "outputs": [
    {
     "data": {
      "text/plain": [
       "0.246"
      ]
     },
     "execution_count": 23,
     "metadata": {},
     "output_type": "execute_result"
    }
   ],
   "source": [
    "sum(test_stats >= sc_stat) / len(test_stats)"
   ]
  },
  {
   "cell_type": "markdown",
   "metadata": {},
   "source": [
    "246 out of the 1000 trials of 100 *fair* coin flips, 24.6%, produced test statistics as extreme or more extreme than 8, so our **p-value** is 0.246"
   ]
  },
  {
   "cell_type": "markdown",
   "metadata": {
    "slideshow": {
     "slide_type": "slide"
    }
   },
   "source": [
    "## Increasing the Sample Size\n",
    "\n",
    "* As of now, the test statistic for our observed sequence of secret-coin flips seems like it could easily be generated by chance.\n",
    "* If we want to be more confident, we'll need to increase the sample size. This time, let's consider a trial to be *500* coin flips, and re-do our testing procedure"
   ]
  },
  {
   "cell_type": "code",
   "execution_count": 24,
   "metadata": {},
   "outputs": [],
   "source": [
    "test_stats_500 = []\n",
    "for i in range(1000):\n",
    "    coin_flips = fair_coin_flips(500)\n",
    "    test_stat = test_stat_a(coin_flips)\n",
    "    test_stats_500.append(test_stat)\n",
    "test_stats_500 = np.array(test_stats_500)"
   ]
  },
  {
   "cell_type": "code",
   "execution_count": 25,
   "metadata": {
    "slideshow": {
     "slide_type": "slide"
    }
   },
   "outputs": [
    {
     "data": {
      "image/png": "[encoded data removed]",
      "text/plain": [
       "<Figure size 432x288 with 1 Axes>"
      ]
     },
     "metadata": {},
     "output_type": "display_data"
    }
   ],
   "source": [
    "plt.hist(test_stats_500)\n",
    "plt.show()"
   ]
  },
  {
   "cell_type": "markdown",
   "metadata": {
    "slideshow": {
     "slide_type": "slide"
    }
   },
   "source": [
    "And now we do 500 flips of the secret coin, compute the test statistic for this sequence, and see where it lies on that histogram"
   ]
  },
  {
   "cell_type": "code",
   "execution_count": 26,
   "metadata": {},
   "outputs": [
    {
     "data": {
      "text/plain": [
       "88"
      ]
     },
     "execution_count": 26,
     "metadata": {},
     "output_type": "execute_result"
    }
   ],
   "source": [
    "secret_coin_results_500 = do_coin_flips(500)\n",
    "sc_stat_500 = test_stat_a(secret_coin_results_500)\n",
    "sc_stat_500"
   ]
  },
  {
   "cell_type": "code",
   "execution_count": 27,
   "metadata": {},
   "outputs": [
    {
     "data": {
      "image/png": "[encoded data removed]",
      "text/plain": [
       "<Figure size 432x288 with 1 Axes>"
      ]
     },
     "metadata": {},
     "output_type": "display_data"
    }
   ],
   "source": [
    "plt.hist(test_stats_500)\n",
    "plt.vlines(sc_stat_500, 0, 200, color='red')\n",
    "plt.show()"
   ]
  },
  {
   "cell_type": "code",
   "execution_count": 28,
   "metadata": {
    "slideshow": {
     "slide_type": "slide"
    }
   },
   "outputs": [
    {
     "data": {
      "text/plain": [
       "0.0"
      ]
     },
     "execution_count": 28,
     "metadata": {},
     "output_type": "execute_result"
    }
   ],
   "source": [
    "sum(test_stats_500 >= sc_stat_500) / len(test_stats_500)"
   ]
  },
  {
   "cell_type": "markdown",
   "metadata": {},
   "source": [
    "Ok, **now** it looks suspicious -- the test statistic for the 500 secret coin flips is *way* higher than any test statistic produced by 500 flips of a known-fair coin\n",
    "\n",
    "🤔🤔🤔"
   ]
  },
  {
   "cell_type": "markdown",
   "metadata": {},
   "source": [
    "So our **p-value** here would be **0**: 0 out of the 1000 fair-coin trials produced test statistics this high or higher!"
   ]
  },
  {
   "cell_type": "markdown",
   "metadata": {
    "slideshow": {
     "slide_type": "slide"
    }
   },
   "source": [
    "## Alternative Test Statistics\n",
    "\n",
    "* Remember: the statistic we used is **not** the only possible test statistic!\n",
    "* We *make up*/choose the test statistic that can best help us \"detect\" not-by-chance data"
   ]
  },
  {
   "cell_type": "code",
   "execution_count": 29,
   "metadata": {
    "slideshow": {
     "slide_type": "slide"
    }
   },
   "outputs": [],
   "source": [
    "def test_stat_b(coin_flips):\n",
    "    # The squared difference in predicted probabilities\n",
    "    num_heads = len([f for f in coin_flips if f == 1])\n",
    "    num_tails = len([f for f in coin_flips if f == 0])\n",
    "    return (num_heads - num_tails) ** 2"
   ]
  },
  {
   "cell_type": "code",
   "execution_count": 30,
   "metadata": {},
   "outputs": [],
   "source": [
    "test_stats_b = []\n",
    "for trial_num in range(1000):\n",
    "    test_stats_b.append(test_stat_b(fair_coin_flips(100)))\n",
    "test_stats_b = np.array(test_stats_b)"
   ]
  },
  {
   "cell_type": "code",
   "execution_count": 31,
   "metadata": {},
   "outputs": [
    {
     "data": {
      "image/png": "[encoded data removed]",
      "text/plain": [
       "<Figure size 432x288 with 1 Axes>"
      ]
     },
     "metadata": {},
     "output_type": "display_data"
    }
   ],
   "source": [
    "plt.hist(test_stats_b)\n",
    "plt.show()"
   ]
  },
  {
   "cell_type": "markdown",
   "metadata": {
    "slideshow": {
     "slide_type": "slide"
    }
   },
   "source": [
    "Now let's place our **observed** data on this plot"
   ]
  },
  {
   "cell_type": "code",
   "execution_count": 32,
   "metadata": {},
   "outputs": [
    {
     "data": {
      "text/plain": [
       "64"
      ]
     },
     "execution_count": 32,
     "metadata": {},
     "output_type": "execute_result"
    }
   ],
   "source": [
    "sc_stat_b = test_stat_b(secret_coin_results)\n",
    "sc_stat_b"
   ]
  },
  {
   "cell_type": "code",
   "execution_count": 33,
   "metadata": {},
   "outputs": [
    {
     "data": {
      "image/png": "[encoded data removed]",
      "text/plain": [
       "<Figure size 432x288 with 1 Axes>"
      ]
     },
     "metadata": {},
     "output_type": "display_data"
    }
   ],
   "source": [
    "plt.hist(test_stats_b)\n",
    "plt.vlines(sc_stat_b, 0, 800, color='red')\n",
    "plt.show()"
   ]
  },
  {
   "cell_type": "code",
   "execution_count": 34,
   "metadata": {
    "slideshow": {
     "slide_type": "slide"
    }
   },
   "outputs": [],
   "source": [
    "def test_stat_c(coin_flips):\n",
    "    # 1 if it's within 5, 0 otherwise\n",
    "    num_heads = len([f for f in coin_flips if f == 1])\n",
    "    num_tails = len([f for f in coin_flips if f == 0])\n",
    "    diff = abs(num_heads - num_tails)\n",
    "    return 1 if diff <= 5 else 0"
   ]
  },
  {
   "cell_type": "code",
   "execution_count": 35,
   "metadata": {},
   "outputs": [],
   "source": [
    "test_stats_c = []\n",
    "for trial_num in range(1000):\n",
    "    test_stats_c.append(test_stat_c(fair_coin_flips(100)))\n",
    "test_stats_c = np.array(test_stats_c)"
   ]
  },
  {
   "cell_type": "code",
   "execution_count": 36,
   "metadata": {},
   "outputs": [
    {
     "data": {
      "image/png": "[encoded data removed]",
      "text/plain": [
       "<Figure size 432x288 with 1 Axes>"
      ]
     },
     "metadata": {},
     "output_type": "display_data"
    }
   ],
   "source": [
    "plt.hist(test_stats_c)\n",
    "plt.show()"
   ]
  },
  {
   "cell_type": "code",
   "execution_count": 37,
   "metadata": {
    "slideshow": {
     "slide_type": "slide"
    }
   },
   "outputs": [
    {
     "data": {
      "text/plain": [
       "0"
      ]
     },
     "execution_count": 37,
     "metadata": {},
     "output_type": "execute_result"
    }
   ],
   "source": [
    "sc_stat_c = test_stat_c(secret_coin_results)\n",
    "sc_stat_c"
   ]
  },
  {
   "cell_type": "code",
   "execution_count": 38,
   "metadata": {},
   "outputs": [
    {
     "data": {
      "image/png": "[encoded data removed]",
      "text/plain": [
       "<Figure size 432x288 with 1 Axes>"
      ]
     },
     "metadata": {},
     "output_type": "display_data"
    }
   ],
   "source": [
    "plt.hist(test_stats_c, align='left')\n",
    "plt.vlines(sc_stat_c, 0, 800, color='red')\n",
    "plt.show()"
   ]
  },
  {
   "cell_type": "markdown",
   "metadata": {
    "slideshow": {
     "slide_type": "slide"
    }
   },
   "source": [
    "## The Normal Distribution"
   ]
  },
  {
   "cell_type": "markdown",
   "metadata": {},
   "source": [
    "<img src=\"1000px-The_Normal_Distribution.svg.png\" style=\"width:80%;\">"
   ]
  },
  {
   "cell_type": "markdown",
   "metadata": {
    "slideshow": {
     "slide_type": "slide"
    }
   },
   "source": [
    "Returning to our 100-flip test statistics, we can *see* \"how normal\" they are:"
   ]
  },
  {
   "cell_type": "code",
   "execution_count": 39,
   "metadata": {},
   "outputs": [],
   "source": [
    "test_stat_zscores = (test_stats_500 - test_stats_500.mean()) / test_stats_500.std()"
   ]
  },
  {
   "cell_type": "code",
   "execution_count": 40,
   "metadata": {},
   "outputs": [
    {
     "data": {
      "image/png": "[encoded data removed]",
      "text/plain": [
       "<Figure size 432x288 with 1 Axes>"
      ]
     },
     "metadata": {},
     "output_type": "display_data"
    }
   ],
   "source": [
    "plt.hist(test_stat_zscores)\n",
    "plt.show()"
   ]
  },
  {
   "cell_type": "code",
   "execution_count": 41,
   "metadata": {
    "slideshow": {
     "slide_type": "slide"
    }
   },
   "outputs": [],
   "source": [
    "def print_std_dev_props(zscores):\n",
    "    # Within 1 std dev\n",
    "    for i in range(1,4):\n",
    "        prop_within = len([ts for ts in zscores if (ts <= i) and (ts >= -i)]) / len(zscores)\n",
    "        print(f\"% within {i} standard deviations: {prop_within * 100}\")"
   ]
  },
  {
   "cell_type": "code",
   "execution_count": 42,
   "metadata": {},
   "outputs": [
    {
     "name": "stdout",
     "output_type": "stream",
     "text": [
      "% within 1 standard deviations: 69.69999999999999\n",
      "% within 2 standard deviations: 95.1\n",
      "% within 3 standard deviations: 99.7\n"
     ]
    }
   ],
   "source": [
    "print_std_dev_props(test_stat_zscores)"
   ]
  },
  {
   "cell_type": "markdown",
   "metadata": {
    "slideshow": {
     "slide_type": "slide"
    }
   },
   "source": [
    "Not always the case! Recall our alternative test stat (test stat B):"
   ]
  },
  {
   "cell_type": "code",
   "execution_count": 43,
   "metadata": {},
   "outputs": [],
   "source": [
    "test_stat_zscores_b = (test_stats_b - test_stats_b.mean()) / test_stats_b.std()"
   ]
  },
  {
   "cell_type": "code",
   "execution_count": 44,
   "metadata": {},
   "outputs": [
    {
     "data": {
      "image/png": "[encoded data removed]",
      "text/plain": [
       "<Figure size 432x288 with 1 Axes>"
      ]
     },
     "metadata": {},
     "output_type": "display_data"
    }
   ],
   "source": [
    "plt.hist(test_stat_zscores_b)\n",
    "plt.show()"
   ]
  },
  {
   "cell_type": "code",
   "execution_count": 45,
   "metadata": {},
   "outputs": [
    {
     "name": "stdout",
     "output_type": "stream",
     "text": [
      "% within 1 standard deviations: 91.2\n",
      "% within 2 standard deviations: 95.7\n",
      "% within 3 standard deviations: 98.2\n"
     ]
    }
   ],
   "source": [
    "print_std_dev_props(test_stat_zscores_b)"
   ]
  },
  {
   "cell_type": "markdown",
   "metadata": {
    "slideshow": {
     "slide_type": "slide"
    }
   },
   "source": [
    "## Correlation"
   ]
  },
  {
   "cell_type": "markdown",
   "metadata": {},
   "source": [
    "<img src=\"covariance.png\" style=\"width:80%;\">"
   ]
  },
  {
   "cell_type": "markdown",
   "metadata": {
    "slideshow": {
     "slide_type": "skip"
    }
   },
   "source": [
    "How do these test statistics penalize bad predictions?"
   ]
  },
  {
   "cell_type": "code",
   "execution_count": 46,
   "metadata": {
    "slideshow": {
     "slide_type": "skip"
    }
   },
   "outputs": [],
   "source": [
    "prob_heads_predictions = [[i/100, (100-i)/100] for i in np.arange(0, 101)]"
   ]
  },
  {
   "cell_type": "code",
   "execution_count": 47,
   "metadata": {
    "slideshow": {
     "slide_type": "skip"
    }
   },
   "outputs": [
    {
     "ename": "TypeError",
     "evalue": "test_stat_a() takes 1 positional argument but 2 were given",
     "output_type": "error",
     "traceback": [
      "\u001b[1;31m---------------------------------------------------------------------------\u001b[0m",
      "\u001b[1;31mTypeError\u001b[0m                                 Traceback (most recent call last)",
      "\u001b[1;32m<ipython-input-47-7dddc2b5dc50>\u001b[0m in \u001b[0;36m<module>\u001b[1;34m\u001b[0m\n\u001b[1;32m----> 1\u001b[1;33m \u001b[0mts_a_vals\u001b[0m \u001b[1;33m=\u001b[0m \u001b[1;33m[\u001b[0m\u001b[0mtest_stat_a\u001b[0m\u001b[1;33m(\u001b[0m\u001b[0mpred\u001b[0m\u001b[1;33m,\u001b[0m \u001b[0mnp\u001b[0m\u001b[1;33m.\u001b[0m\u001b[0marray\u001b[0m\u001b[1;33m(\u001b[0m\u001b[1;33m[\u001b[0m\u001b[1;36m0.5\u001b[0m\u001b[1;33m,\u001b[0m\u001b[1;36m0.5\u001b[0m\u001b[1;33m]\u001b[0m\u001b[1;33m)\u001b[0m\u001b[1;33m)\u001b[0m \u001b[1;32mfor\u001b[0m \u001b[0mpred\u001b[0m \u001b[1;32min\u001b[0m \u001b[0mprob_heads_predictions\u001b[0m\u001b[1;33m]\u001b[0m\u001b[1;33m\u001b[0m\u001b[1;33m\u001b[0m\u001b[0m\n\u001b[0m",
      "\u001b[1;32m<ipython-input-47-7dddc2b5dc50>\u001b[0m in \u001b[0;36m<listcomp>\u001b[1;34m(.0)\u001b[0m\n\u001b[1;32m----> 1\u001b[1;33m \u001b[0mts_a_vals\u001b[0m \u001b[1;33m=\u001b[0m \u001b[1;33m[\u001b[0m\u001b[0mtest_stat_a\u001b[0m\u001b[1;33m(\u001b[0m\u001b[0mpred\u001b[0m\u001b[1;33m,\u001b[0m \u001b[0mnp\u001b[0m\u001b[1;33m.\u001b[0m\u001b[0marray\u001b[0m\u001b[1;33m(\u001b[0m\u001b[1;33m[\u001b[0m\u001b[1;36m0.5\u001b[0m\u001b[1;33m,\u001b[0m\u001b[1;36m0.5\u001b[0m\u001b[1;33m]\u001b[0m\u001b[1;33m)\u001b[0m\u001b[1;33m)\u001b[0m \u001b[1;32mfor\u001b[0m \u001b[0mpred\u001b[0m \u001b[1;32min\u001b[0m \u001b[0mprob_heads_predictions\u001b[0m\u001b[1;33m]\u001b[0m\u001b[1;33m\u001b[0m\u001b[1;33m\u001b[0m\u001b[0m\n\u001b[0m",
      "\u001b[1;31mTypeError\u001b[0m: test_stat_a() takes 1 positional argument but 2 were given"
     ]
    }
   ],
   "source": [
    "ts_a_vals = [test_stat_a(pred, np.array([0.5,0.5])) for pred in prob_heads_predictions]"
   ]
  },
  {
   "cell_type": "code",
   "execution_count": null,
   "metadata": {
    "slideshow": {
     "slide_type": "skip"
    }
   },
   "outputs": [],
   "source": [
    "plt.bar(np.arange(0, 101), ts_a_vals)\n",
    "plt.title(\"Test Statistic A Values\")\n",
    "plt.xlabel(\"# Heads Guess\")\n",
    "plt.ylabel(\"Test Statistic Value\")\n",
    "plt.show()"
   ]
  },
  {
   "cell_type": "code",
   "execution_count": null,
   "metadata": {
    "slideshow": {
     "slide_type": "skip"
    }
   },
   "outputs": [],
   "source": [
    "ts_b_vals = [test_stat_b(pred, np.array([0.5,0.5])) for pred in prob_heads_predictions]"
   ]
  },
  {
   "cell_type": "code",
   "execution_count": null,
   "metadata": {
    "slideshow": {
     "slide_type": "skip"
    }
   },
   "outputs": [],
   "source": [
    "plt.bar(np.arange(0, 101), ts_b_vals)\n",
    "plt.title(\"Test Statistic B Values\")\n",
    "plt.xlabel(\"# Heads Guess\")\n",
    "plt.ylabel(\"Test Statistic Value\")\n",
    "plt.show()"
   ]
  },
  {
   "cell_type": "code",
   "execution_count": null,
   "metadata": {
    "slideshow": {
     "slide_type": "skip"
    }
   },
   "outputs": [],
   "source": [
    "ts_c_vals = [test_stat_c(pred, np.array([0.5,0.5])) for pred in prob_heads_predictions]"
   ]
  },
  {
   "cell_type": "code",
   "execution_count": null,
   "metadata": {
    "slideshow": {
     "slide_type": "skip"
    }
   },
   "outputs": [],
   "source": [
    "plt.bar(np.arange(0,101,1), ts_c_vals)\n",
    "plt.title(\"Test Statistic C Values\")\n",
    "plt.xlabel(\"# Heads Guess\")\n",
    "plt.ylabel(\"Test Statistic Value\")\n",
    "#plt.fill_between(np.arange(0,1.01,0.01), ts_c_vals, interpolate=True)\n",
    "plt.show()"
   ]
  },
  {
   "cell_type": "code",
   "execution_count": null,
   "metadata": {
    "slideshow": {
     "slide_type": "skip"
    }
   },
   "outputs": [],
   "source": [
    "!jupyter nbconvert Week_08.ipynb --to slides --SlidesExporter.reveal_scroll=True"
   ]
  },
  {
   "cell_type": "code",
   "execution_count": null,
   "metadata": {
    "slideshow": {
     "slide_type": "skip"
    }
   },
   "outputs": [],
   "source": []
  }
 ],
 "metadata": {
  "kernelspec": {
   "display_name": "Python 3",
   "language": "python",
   "name": "python3"
  },
  "language_info": {
   "codemirror_mode": {
    "name": "ipython",
    "version": 3
   },
   "file_extension": ".py",
   "mimetype": "text/x-python",
   "name": "python",
   "nbconvert_exporter": "python",
   "pygments_lexer": "ipython3",
   "version": "3.8.4"
  }
 },
 "nbformat": 4,
 "nbformat_minor": 4
}
