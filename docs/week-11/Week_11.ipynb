{
 "cells": [
  {
   "cell_type": "markdown",
   "metadata": {
    "slideshow": {
     "slide_type": "slide"
    }
   },
   "source": [
    "# Week 11: Classification, Final Review\n",
    "\n",
    "## DSUA111: Data Science for Everyone, NYU, Fall 2020\n",
    "\n",
    "### TA Jeff, `jpj251@nyu.edu`\n",
    "\n",
    "* This slideshow: https://jjacobs.me/dsua111-sections/week-11\n",
    "* All materials: https://github.com/jpowerj/dsua111-sections"
   ]
  },
  {
   "cell_type": "markdown",
   "metadata": {
    "slideshow": {
     "slide_type": "slide"
    }
   },
   "source": [
    "## Outline\n",
    "\n",
    "I. Classification\n",
    "\n",
    "0. The K-Nearest Neighbors Algorithm\n",
    "1. Evaluating KNN\n",
    "\n",
    "II. Final Review\n",
    "\n",
    "0. Big Picture Ideas\n",
    "1. Math/Programming Details"
   ]
  },
  {
   "cell_type": "markdown",
   "metadata": {
    "slideshow": {
     "slide_type": "slide"
    }
   },
   "source": [
    "## Part I: Classification"
   ]
  },
  {
   "cell_type": "markdown",
   "metadata": {
    "slideshow": {
     "slide_type": "slide"
    }
   },
   "source": [
    "## The K-Nearest Neighbors Algorithm\n",
    "\n",
    "* Recall from last time:\n",
    "    * **Statistics** is generally about *explanation*\n",
    "    * **Machine Learning** is generally about *prediction*\n",
    "* **Binary Classification**: Given a set of information (\"features\") about an observation ($X$), predict a yes/no outcome ($y \\in \\{0,1\\}$) for this observation\n",
    "    * Example: Given a count of words in an email, classify it as spam ($y = 1$) or not spam ($y = 0$)\n",
    "* **Multiclass classification**: Classify the observation into one of $N$ categories ($y \\in \\{0, 1, \\ldots, N\\}$)\n",
    "    * Example: Given a handwritten symbol, classify it as a digit ($y = \\{0, 1, \\ldots, 9\\}$)\n",
    "* K-Nearest Neighbors Intuition: Find the $K$ most similar observations that we've seen before, and have them \"majority vote\" on the outcome."
   ]
  },
  {
   "cell_type": "markdown",
   "metadata": {
    "slideshow": {
     "slide_type": "slide"
    }
   },
   "source": [
    "## K-Nearest Neighbors Example\n",
    "\n",
    "* The problem: Given a student's GPA, predict whether or not they will graduate\n",
    "* Many different potential approaches!\n",
    "* K-Nearest Neighbor Approach:\n",
    "    * Get a dataset of previous years, students' GPAs and whether or not they graduated\n",
    "    * Find the $K=5$ students with GPA closest to the student of interest\n",
    "    * If a majority of them graduated, predict that the student will graduate. Otherwise, predict that they will not."
   ]
  },
  {
   "cell_type": "markdown",
   "metadata": {
    "slideshow": {
     "slide_type": "slide"
    }
   },
   "source": [
    "## Binary Classification with 2 Features\n",
    "\n",
    "<center>\n",
    "    <img src=\"knn.png\" style=\"width:50%;\">\n",
    "</center>\n",
    "\n",
    "(from https://www.datacamp.com/community/tutorials/k-nearest-neighbor-classification-scikit-learn)"
   ]
  },
  {
   "cell_type": "markdown",
   "metadata": {
    "slideshow": {
     "slide_type": "slide"
    }
   },
   "source": [
    "## Evaluating KNN\n",
    "\n",
    "* For **binary** classification: Seemingly easy, could just compute # correct, # incorrect\n",
    "* We generally **DON'T WANT TO DO THIS** (why?)\n",
    "* Instead, in actual machine learning projects, we use $F$-score:\n",
    "\n",
    "$$F_1 = \\frac{tp}{tp + \\frac{1}{2}(tp + fn)}$$\n",
    "\n",
    "* Don't worry about the details, the point is that what we **really** want to do is maximize accuracy ($tp$) **subject to a penalty** for false positives/negatives.\n",
    "* This generalizes to multiclass classification: each category has its own $F$-score"
   ]
  },
  {
   "cell_type": "markdown",
   "metadata": {
    "slideshow": {
     "slide_type": "slide"
    }
   },
   "source": [
    "## Part II: Final Review"
   ]
  },
  {
   "cell_type": "markdown",
   "metadata": {
    "slideshow": {
     "slide_type": "slide"
    }
   },
   "source": [
    "## Common Misperceptions"
   ]
  },
  {
   "cell_type": "markdown",
   "metadata": {},
   "source": [
    "**0.** True or False: The p-value is the probability that the null hypothesis is true."
   ]
  },
  {
   "cell_type": "markdown",
   "metadata": {
    "slideshow": {
     "slide_type": "fragment"
    }
   },
   "source": [
    "**False**. It's the probability that we would obtain a test statistic value this \"extreme\" if the null hypothesis was true."
   ]
  },
  {
   "cell_type": "markdown",
   "metadata": {
    "slideshow": {
     "slide_type": "slide"
    }
   },
   "source": [
    "**1.** True or False: A 95% confidence interval means we're 95% confident that the true value of the parameter is between these two values."
   ]
  },
  {
   "cell_type": "markdown",
   "metadata": {
    "slideshow": {
     "slide_type": "fragment"
    }
   },
   "source": [
    "**False**. It's just an interval computed in such a way that if we re-performed the experiment many many times, on average we'd expect the computed interval to contain the true value of the parameter about 95% of the time."
   ]
  },
  {
   "cell_type": "markdown",
   "metadata": {
    "slideshow": {
     "slide_type": "slide"
    }
   },
   "source": [
    "**2.** True or False: If our p-value is not low enough to meet our significance threshold (say, it's not below 0.05), then we reject the alternative hypothesis and accept the null hypothesis."
   ]
  },
  {
   "cell_type": "markdown",
   "metadata": {
    "slideshow": {
     "slide_type": "fragment"
    }
   },
   "source": [
    "**False**. We never \"accept\" any hypotheses."
   ]
  },
  {
   "cell_type": "markdown",
   "metadata": {
    "slideshow": {
     "slide_type": "slide"
    }
   },
   "source": [
    "**3.** True or False: For `pd.read_csv(\"dataset.csv\")` to work correctly, the `dataset.csv` file must be in the same folder as our notebook."
   ]
  },
  {
   "cell_type": "markdown",
   "metadata": {
    "slideshow": {
     "slide_type": "fragment"
    }
   },
   "source": [
    "**True**. Otherwise, we have to specify how to \"get to\" the .csv file from the notebook's folder"
   ]
  },
  {
   "cell_type": "markdown",
   "metadata": {
    "slideshow": {
     "slide_type": "slide"
    }
   },
   "source": [
    "**4.** What about `pd.read_csv(\"../dataset.csv\")`?"
   ]
  },
  {
   "cell_type": "markdown",
   "metadata": {
    "slideshow": {
     "slide_type": "fragment"
    }
   },
   "source": [
    "This tells Pandas to look one level above the folder containing the notebook, in the computer's directory tree. (So, if the notebook was located at `/home/data_science_projects/my_notebook.ipynb`, the above code would look for `dataset.csv` within the `/home` folder."
   ]
  },
  {
   "cell_type": "markdown",
   "metadata": {
    "slideshow": {
     "slide_type": "slide"
    }
   },
   "source": [
    "## Regression Questions"
   ]
  },
  {
   "cell_type": "markdown",
   "metadata": {},
   "source": [
    "We're going to load a dataset with GDP per capita (in USD) and level of inequality (as measured by Gini coefficient -- higher values = more unequal) for each country in the world. Then we'll perform a regression with GDP per capita as our **independent** variable and level of inequality as our **dependent** variable."
   ]
  },
  {
   "cell_type": "markdown",
   "metadata": {},
   "source": [
    "**5.** Write the equation for our **unfitted** model in this case"
   ]
  },
  {
   "cell_type": "markdown",
   "metadata": {
    "slideshow": {
     "slide_type": "fragment"
    }
   },
   "source": [
    "$$Gini_i = \\beta_0 + \\beta_1GDP_i + \\varepsilon_i$$"
   ]
  },
  {
   "cell_type": "markdown",
   "metadata": {
    "slideshow": {
     "slide_type": "slide"
    }
   },
   "source": [
    "**6.** What is the **null hypothesis** that this regression is testing, **in terms of this equation**?"
   ]
  },
  {
   "cell_type": "markdown",
   "metadata": {
    "slideshow": {
     "slide_type": "fragment"
    }
   },
   "source": [
    "$$H_0: \\beta_1 = 0$$"
   ]
  },
  {
   "cell_type": "markdown",
   "metadata": {
    "slideshow": {
     "slide_type": "slide"
    }
   },
   "source": [
    "**7.** What is the **null hypothesis** that this regression is testing, **in words**?"
   ]
  },
  {
   "cell_type": "markdown",
   "metadata": {
    "slideshow": {
     "slide_type": "fragment"
    }
   },
   "source": [
    "An increase of $1 in GDP per capita is not associated with any change in inequality"
   ]
  },
  {
   "cell_type": "markdown",
   "metadata": {
    "slideshow": {
     "slide_type": "slide"
    }
   },
   "source": [
    "**8.** What is the **alternative hypothesis** that this regression is testing, **in terms of our equation**?"
   ]
  },
  {
   "cell_type": "markdown",
   "metadata": {
    "slideshow": {
     "slide_type": "fragment"
    }
   },
   "source": [
    "$$H_A: \\beta_1 \\neq 0$$"
   ]
  },
  {
   "cell_type": "markdown",
   "metadata": {
    "slideshow": {
     "slide_type": "slide"
    }
   },
   "source": [
    "**9.** What is the **alternative hypothesis** that this regression is testing, **in words**?"
   ]
  },
  {
   "cell_type": "markdown",
   "metadata": {
    "slideshow": {
     "slide_type": "fragment"
    }
   },
   "source": [
    "An increase of $1 in GDP per capita is associated with a change in inequality"
   ]
  },
  {
   "cell_type": "code",
   "execution_count": 56,
   "metadata": {
    "slideshow": {
     "slide_type": "slide"
    }
   },
   "outputs": [],
   "source": [
    "import pandas as pd"
   ]
  },
  {
   "cell_type": "code",
   "execution_count": 57,
   "metadata": {},
   "outputs": [],
   "source": [
    "ineq_df = pd.read_csv(\"gdp_inequality.csv\")"
   ]
  },
  {
   "cell_type": "code",
   "execution_count": 58,
   "metadata": {},
   "outputs": [],
   "source": [
    "ineq_df.rename(columns={'Gini coefficient (World Bank (2016))':'gini',\n",
    "                        'Output-side real GDP per capita (gdppc_o) (PWT 9.1 (2019))':'gdp'},\n",
    "               inplace=True)"
   ]
  },
  {
   "cell_type": "code",
   "execution_count": 59,
   "metadata": {},
   "outputs": [],
   "source": [
    "ineq_df = ineq_df[~pd.isna(ineq_df[\"gini\"])].copy()"
   ]
  },
  {
   "cell_type": "code",
   "execution_count": 60,
   "metadata": {},
   "outputs": [],
   "source": [
    "ineq_df = ineq_df[~pd.isna(ineq_df[\"gdp\"])].copy()"
   ]
  },
  {
   "cell_type": "code",
   "execution_count": 61,
   "metadata": {},
   "outputs": [],
   "source": [
    "final_df = ineq_df.groupby(\"Code\").last()"
   ]
  },
  {
   "cell_type": "code",
   "execution_count": 62,
   "metadata": {},
   "outputs": [],
   "source": [
    "import statsmodels.formula.api as smf"
   ]
  },
  {
   "cell_type": "code",
   "execution_count": 63,
   "metadata": {},
   "outputs": [],
   "source": [
    "result = smf.ols('gini ~ gdp', data=final_df).fit()"
   ]
  },
  {
   "cell_type": "code",
   "execution_count": 64,
   "metadata": {},
   "outputs": [],
   "source": [
    "summ = result.summary(); summ.extra_txt = None"
   ]
  },
  {
   "cell_type": "code",
   "execution_count": 65,
   "metadata": {
    "slideshow": {
     "slide_type": "slide"
    }
   },
   "outputs": [
    {
     "data": {
      "text/html": [
       "<table class=\"simpletable\">\n",
       "<caption>OLS Regression Results</caption>\n",
       "<tr>\n",
       "  <th>Dep. Variable:</th>          <td>gini</td>       <th>  R-squared:         </th> <td>   0.145</td>\n",
       "</tr>\n",
       "<tr>\n",
       "  <th>Model:</th>                   <td>OLS</td>       <th>  Adj. R-squared:    </th> <td>   0.139</td>\n",
       "</tr>\n",
       "<tr>\n",
       "  <th>Method:</th>             <td>Least Squares</td>  <th>  F-statistic:       </th> <td>   24.73</td>\n",
       "</tr>\n",
       "<tr>\n",
       "  <th>Date:</th>             <td>Thu, 03 Dec 2020</td> <th>  Prob (F-statistic):</th> <td>1.83e-06</td>\n",
       "</tr>\n",
       "<tr>\n",
       "  <th>Time:</th>                 <td>17:34:11</td>     <th>  Log-Likelihood:    </th> <td> -520.62</td>\n",
       "</tr>\n",
       "<tr>\n",
       "  <th>No. Observations:</th>      <td>   148</td>      <th>  AIC:               </th> <td>   1045.</td>\n",
       "</tr>\n",
       "<tr>\n",
       "  <th>Df Residuals:</th>          <td>   146</td>      <th>  BIC:               </th> <td>   1051.</td>\n",
       "</tr>\n",
       "<tr>\n",
       "  <th>Df Model:</th>              <td>     1</td>      <th>                     </th>     <td> </td>   \n",
       "</tr>\n",
       "<tr>\n",
       "  <th>Covariance Type:</th>      <td>nonrobust</td>    <th>                     </th>     <td> </td>   \n",
       "</tr>\n",
       "</table>\n",
       "<table class=\"simpletable\">\n",
       "<tr>\n",
       "      <td></td>         <th>coef</th>     <th>std err</th>      <th>t</th>      <th>P>|t|</th>  <th>[0.025</th>    <th>0.975]</th>  \n",
       "</tr>\n",
       "<tr>\n",
       "  <th>Intercept</th> <td>   42.2291</td> <td>    0.932</td> <td>   45.329</td> <td> 0.000</td> <td>   40.388</td> <td>   44.070</td>\n",
       "</tr>\n",
       "<tr>\n",
       "  <th>gdp</th>       <td>   -0.0002</td> <td> 4.59e-05</td> <td>   -4.973</td> <td> 0.000</td> <td>   -0.000</td> <td>   -0.000</td>\n",
       "</tr>\n",
       "</table>\n",
       "<table class=\"simpletable\">\n",
       "<tr>\n",
       "  <th>Omnibus:</th>       <td> 3.685</td> <th>  Durbin-Watson:     </th> <td>   1.859</td>\n",
       "</tr>\n",
       "<tr>\n",
       "  <th>Prob(Omnibus):</th> <td> 0.158</td> <th>  Jarque-Bera (JB):  </th> <td>   3.256</td>\n",
       "</tr>\n",
       "<tr>\n",
       "  <th>Skew:</th>          <td> 0.352</td> <th>  Prob(JB):          </th> <td>   0.196</td>\n",
       "</tr>\n",
       "<tr>\n",
       "  <th>Kurtosis:</th>      <td> 3.182</td> <th>  Cond. No.          </th> <td>2.80e+04</td>\n",
       "</tr>\n",
       "</table>"
      ],
      "text/plain": [
       "<class 'statsmodels.iolib.summary.Summary'>\n",
       "\"\"\"\n",
       "                            OLS Regression Results                            \n",
       "==============================================================================\n",
       "Dep. Variable:                   gini   R-squared:                       0.145\n",
       "Model:                            OLS   Adj. R-squared:                  0.139\n",
       "Method:                 Least Squares   F-statistic:                     24.73\n",
       "Date:                Thu, 03 Dec 2020   Prob (F-statistic):           1.83e-06\n",
       "Time:                        17:34:11   Log-Likelihood:                -520.62\n",
       "No. Observations:                 148   AIC:                             1045.\n",
       "Df Residuals:                     146   BIC:                             1051.\n",
       "Df Model:                           1                                         \n",
       "Covariance Type:            nonrobust                                         \n",
       "==============================================================================\n",
       "                 coef    std err          t      P>|t|      [0.025      0.975]\n",
       "------------------------------------------------------------------------------\n",
       "Intercept     42.2291      0.932     45.329      0.000      40.388      44.070\n",
       "gdp           -0.0002   4.59e-05     -4.973      0.000      -0.000      -0.000\n",
       "==============================================================================\n",
       "Omnibus:                        3.685   Durbin-Watson:                   1.859\n",
       "Prob(Omnibus):                  0.158   Jarque-Bera (JB):                3.256\n",
       "Skew:                           0.352   Prob(JB):                        0.196\n",
       "Kurtosis:                       3.182   Cond. No.                     2.80e+04\n",
       "==============================================================================\n",
       "\"\"\""
      ]
     },
     "execution_count": 65,
     "metadata": {},
     "output_type": "execute_result"
    }
   ],
   "source": [
    "summ"
   ]
  },
  {
   "cell_type": "markdown",
   "metadata": {
    "slideshow": {
     "slide_type": "slide"
    }
   },
   "source": [
    "**10.** What does the -0.0002 in the \"coef\" column of the \"gdp\" row mean?"
   ]
  },
  {
   "cell_type": "markdown",
   "metadata": {
    "slideshow": {
     "slide_type": "fragment"
    }
   },
   "source": [
    "An increase of $1 in GDP per capita is associated with a decrease of 0.0002 in Gini coefficient (inequality)"
   ]
  },
  {
   "cell_type": "markdown",
   "metadata": {
    "slideshow": {
     "slide_type": "slide"
    }
   },
   "source": [
    "**11.** Which column do we look at to obtain our p-value?"
   ]
  },
  {
   "cell_type": "markdown",
   "metadata": {
    "slideshow": {
     "slide_type": "fragment"
    }
   },
   "source": [
    "The column with header **P>|t|**."
   ]
  },
  {
   "cell_type": "markdown",
   "metadata": {
    "slideshow": {
     "slide_type": "slide"
    }
   },
   "source": [
    "**12.** True or False: Since the p-value is so low, we can conclude that increases in GDP cause decreases in inequality"
   ]
  },
  {
   "cell_type": "markdown",
   "metadata": {
    "slideshow": {
     "slide_type": "fragment"
    }
   },
   "source": [
    "**False**. We should **never** draw causal conclusions from the results of an OLS regression."
   ]
  },
  {
   "cell_type": "markdown",
   "metadata": {
    "slideshow": {
     "slide_type": "slide"
    }
   },
   "source": [
    "**13.** Where do we look to obtain the F-statistic for our model?"
   ]
  },
  {
   "cell_type": "markdown",
   "metadata": {
    "slideshow": {
     "slide_type": "fragment"
    }
   },
   "source": [
    "Towards the top -- the third row, right-hand column, lists the F-statistic (in this case, 24.73)"
   ]
  },
  {
   "cell_type": "markdown",
   "metadata": {
    "slideshow": {
     "slide_type": "slide"
    }
   },
   "source": [
    "**14.** What does this value mean?"
   ]
  },
  {
   "cell_type": "markdown",
   "metadata": {
    "slideshow": {
     "slide_type": "fragment"
    }
   },
   "source": [
    "This is the **test statistic** for the hypothesis that **all** of the coefficients in our model are 0. With reference to our equation above, the null hypothesis for the F-statistic would be\n",
    "\n",
    "$$H_0: \\beta_0 = 0 \\text{ and }\\beta_1 = 0$$\n",
    "\n",
    "and the alternative hypothesis\n",
    "\n",
    "$$H_A: \\beta_0 \\neq 0 \\text{ or }\\beta_1 \\neq 0$$\n",
    "\n",
    "The value 24.73 is high enough that the probability of obtaining an F-statistic as extreme as or more extreme than that is (listed directly underneath the F-statistic in the table) approximately 0. Thus we reject the null hypothesis that all coefficients are zero."
   ]
  },
  {
   "cell_type": "markdown",
   "metadata": {
    "slideshow": {
     "slide_type": "slide"
    }
   },
   "source": [
    "**15.** True or False: The adjusted $R^2$ value is lower than the $R^2$ value because GDP does not explain much of the variance in Gini coefficient"
   ]
  },
  {
   "cell_type": "markdown",
   "metadata": {
    "slideshow": {
     "slide_type": "fragment"
    }
   },
   "source": [
    "**False**. Adjusted $R^2$ is only lower than $R^2$ because it penalizes you for each new independent variable you introduce into the model."
   ]
  },
  {
   "cell_type": "markdown",
   "metadata": {
    "slideshow": {
     "slide_type": "slide"
    }
   },
   "source": [
    "**16.** How would the interpretation of our coefficient on GDP change if we added another independent variable?"
   ]
  },
  {
   "cell_type": "markdown",
   "metadata": {
    "slideshow": {
     "slide_type": "fragment"
    }
   },
   "source": [
    "Whereas in the single-variable case we interpret the coefficient as just the effect of GDP on inequality, if we introduced a new independent variable $X_2$ we would have to re-interpret our coefficient on GDP as the effect of GDP on inequality **holding $X_2$ constant** (or, if we center our variables, like we really should: the effect of GDP on inequality **at the average $X_2$ value**)"
   ]
  },
  {
   "cell_type": "markdown",
   "metadata": {
    "slideshow": {
     "slide_type": "slide"
    }
   },
   "source": [
    "## Some Stats\n",
    "\n",
    "**17.** If we have an observation $x_5 = 123.45$ in a dataset, and find that the z-score for this value is $z_5 = 2.00$, what does this tell us about the original observation?"
   ]
  },
  {
   "cell_type": "markdown",
   "metadata": {
    "slideshow": {
     "slide_type": "fragment"
    }
   },
   "source": [
    "It tells us that 123.45 is almost exactly 2 standard deviations above the mean $x$ value."
   ]
  },
  {
   "cell_type": "markdown",
   "metadata": {
    "slideshow": {
     "slide_type": "slide"
    }
   },
   "source": [
    "**18.** True or False: If the mean of a variable $x$ in our dataset is 50.0 and the standard deviation is 5.0, we know that approximately 68% of the values of $x$ lie within one standard deviation of this mean, i.e., between 45.0 and 55.0."
   ]
  },
  {
   "cell_type": "markdown",
   "metadata": {
    "slideshow": {
     "slide_type": "fragment"
    }
   },
   "source": [
    "**False**. This is important. Because the \"68% of the data lie within one standard deviation of the mean\" property only holds for **normally-distributed** observations. The question never stated that the data was normally distributed, thus we can't assume the \"68% rule\" here."
   ]
  },
  {
   "cell_type": "markdown",
   "metadata": {
    "slideshow": {
     "slide_type": "slide"
    }
   },
   "source": [
    "## Some Coding"
   ]
  },
  {
   "cell_type": "markdown",
   "metadata": {},
   "source": [
    "**19.** What will the following code output?\n",
    "\n",
    "```python\n",
    "for i in range(100):\n",
    "    if i % 7 == 0:\n",
    "        print(i)\n",
    "```"
   ]
  },
  {
   "cell_type": "code",
   "execution_count": 92,
   "metadata": {
    "slideshow": {
     "slide_type": "slide"
    }
   },
   "outputs": [
    {
     "name": "stdout",
     "output_type": "stream",
     "text": [
      "0\n",
      "7\n",
      "14\n",
      "21\n",
      "28\n",
      "35\n",
      "42\n",
      "49\n",
      "56\n",
      "63\n",
      "70\n",
      "77\n",
      "84\n",
      "91\n",
      "98\n"
     ]
    }
   ],
   "source": [
    "for i in range(100):\n",
    "    if i % 7 == 0:\n",
    "        print(i)"
   ]
  },
  {
   "cell_type": "markdown",
   "metadata": {
    "slideshow": {
     "slide_type": "slide"
    }
   },
   "source": [
    "**20.** What will this code output?\n",
    "\n",
    "```python\n",
    "for i in range(100):\n",
    "    if i / 7 == 0:\n",
    "        print(i)\n",
    "```"
   ]
  },
  {
   "cell_type": "code",
   "execution_count": 93,
   "metadata": {
    "slideshow": {
     "slide_type": "slide"
    }
   },
   "outputs": [
    {
     "name": "stdout",
     "output_type": "stream",
     "text": [
      "0\n"
     ]
    }
   ],
   "source": [
    "for i in range(100):\n",
    "    if i / 7 == 0:\n",
    "        print(i)"
   ]
  },
  {
   "cell_type": "markdown",
   "metadata": {
    "slideshow": {
     "slide_type": "slide"
    }
   },
   "source": [
    "**21.** How many times will the following code print `\"hello!\"?\n",
    "\n",
    "```python\n",
    "i = 0\n",
    "while i < 4:\n",
    "    for j in range(2):\n",
    "        print(\"hello!\")\n",
    "    i = i + 1\n",
    "```"
   ]
  },
  {
   "cell_type": "code",
   "execution_count": 99,
   "metadata": {
    "slideshow": {
     "slide_type": "slide"
    }
   },
   "outputs": [
    {
     "name": "stdout",
     "output_type": "stream",
     "text": [
      "hello!\n",
      "hello!\n",
      "hello!\n",
      "hello!\n",
      "hello!\n",
      "hello!\n",
      "hello!\n",
      "hello!\n"
     ]
    }
   ],
   "source": [
    "i = 0\n",
    "while i < 4:\n",
    "    for j in range(2):\n",
    "        print(\"hello!\")\n",
    "    i = i + 1"
   ]
  },
  {
   "cell_type": "markdown",
   "metadata": {
    "slideshow": {
     "slide_type": "slide"
    }
   },
   "source": [
    "**22.** How many times will the following code print `\"hello!\"`?\n",
    "\n",
    "```python\n",
    "i = 0\n",
    "while i < 4:\n",
    "    for j in range(i):\n",
    "        print(\"hello!\")\n",
    "    i = i + 1\n",
    "```"
   ]
  },
  {
   "cell_type": "code",
   "execution_count": 100,
   "metadata": {
    "slideshow": {
     "slide_type": "slide"
    }
   },
   "outputs": [
    {
     "name": "stdout",
     "output_type": "stream",
     "text": [
      "hello!\n",
      "hello!\n",
      "hello!\n",
      "hello!\n",
      "hello!\n",
      "hello!\n"
     ]
    }
   ],
   "source": [
    "i = 0\n",
    "while i < 4:\n",
    "    for j in range(i):\n",
    "        print(\"hello!\")\n",
    "    i = i + 1"
   ]
  },
  {
   "cell_type": "markdown",
   "metadata": {
    "slideshow": {
     "slide_type": "slide"
    }
   },
   "source": [
    "Returning to our DataFrame..."
   ]
  },
  {
   "cell_type": "code",
   "execution_count": 101,
   "metadata": {},
   "outputs": [
    {
     "data": {
      "text/html": [
       "<div>\n",
       "<style scoped>\n",
       "    .dataframe tbody tr th:only-of-type {\n",
       "        vertical-align: middle;\n",
       "    }\n",
       "\n",
       "    .dataframe tbody tr th {\n",
       "        vertical-align: top;\n",
       "    }\n",
       "\n",
       "    .dataframe thead th {\n",
       "        text-align: right;\n",
       "    }\n",
       "</style>\n",
       "<table border=\"1\" class=\"dataframe\">\n",
       "  <thead>\n",
       "    <tr style=\"text-align: right;\">\n",
       "      <th></th>\n",
       "      <th>Entity</th>\n",
       "      <th>Year</th>\n",
       "      <th>Total population (Gapminder, HYDE &amp; UN)</th>\n",
       "      <th>Continent</th>\n",
       "      <th>gini</th>\n",
       "      <th>gdp</th>\n",
       "      <th>high_gdp</th>\n",
       "    </tr>\n",
       "    <tr>\n",
       "      <th>Code</th>\n",
       "      <th></th>\n",
       "      <th></th>\n",
       "      <th></th>\n",
       "      <th></th>\n",
       "      <th></th>\n",
       "      <th></th>\n",
       "      <th></th>\n",
       "    </tr>\n",
       "  </thead>\n",
       "  <tbody>\n",
       "    <tr>\n",
       "      <th>AGO</th>\n",
       "      <td>Angola</td>\n",
       "      <td>2008</td>\n",
       "      <td>21696000.0</td>\n",
       "      <td>NaN</td>\n",
       "      <td>42.72</td>\n",
       "      <td>6080.5405</td>\n",
       "      <td>0</td>\n",
       "    </tr>\n",
       "    <tr>\n",
       "      <th>ALB</th>\n",
       "      <td>Albania</td>\n",
       "      <td>2012</td>\n",
       "      <td>2914000.0</td>\n",
       "      <td>NaN</td>\n",
       "      <td>28.96</td>\n",
       "      <td>10402.6360</td>\n",
       "      <td>1</td>\n",
       "    </tr>\n",
       "    <tr>\n",
       "      <th>ARG</th>\n",
       "      <td>Argentina</td>\n",
       "      <td>2013</td>\n",
       "      <td>42196000.0</td>\n",
       "      <td>NaN</td>\n",
       "      <td>42.28</td>\n",
       "      <td>16920.7560</td>\n",
       "      <td>1</td>\n",
       "    </tr>\n",
       "    <tr>\n",
       "      <th>ARM</th>\n",
       "      <td>Armenia</td>\n",
       "      <td>2013</td>\n",
       "      <td>2898000.0</td>\n",
       "      <td>NaN</td>\n",
       "      <td>31.54</td>\n",
       "      <td>9481.5098</td>\n",
       "      <td>0</td>\n",
       "    </tr>\n",
       "    <tr>\n",
       "      <th>AUS</th>\n",
       "      <td>Australia</td>\n",
       "      <td>2010</td>\n",
       "      <td>22155000.0</td>\n",
       "      <td>NaN</td>\n",
       "      <td>34.94</td>\n",
       "      <td>44854.9020</td>\n",
       "      <td>1</td>\n",
       "    </tr>\n",
       "  </tbody>\n",
       "</table>\n",
       "</div>"
      ],
      "text/plain": [
       "         Entity  Year  Total population (Gapminder, HYDE & UN)  Continent  \\\n",
       "Code                                                                        \n",
       "AGO      Angola  2008                               21696000.0        NaN   \n",
       "ALB     Albania  2012                                2914000.0        NaN   \n",
       "ARG   Argentina  2013                               42196000.0        NaN   \n",
       "ARM     Armenia  2013                                2898000.0        NaN   \n",
       "AUS   Australia  2010                               22155000.0        NaN   \n",
       "\n",
       "       gini         gdp  high_gdp  \n",
       "Code                               \n",
       "AGO   42.72   6080.5405         0  \n",
       "ALB   28.96  10402.6360         1  \n",
       "ARG   42.28  16920.7560         1  \n",
       "ARM   31.54   9481.5098         0  \n",
       "AUS   34.94  44854.9020         1  "
      ]
     },
     "execution_count": 101,
     "metadata": {},
     "output_type": "execute_result"
    }
   ],
   "source": [
    "final_df.head()"
   ]
  },
  {
   "cell_type": "markdown",
   "metadata": {
    "slideshow": {
     "slide_type": "slide"
    }
   },
   "source": [
    "**23.** True or False: The following code permanently renames the \"Total population\" column so it is henceforth named \"pop\""
   ]
  },
  {
   "cell_type": "code",
   "execution_count": 42,
   "metadata": {},
   "outputs": [
    {
     "data": {
      "text/html": [
       "<div>\n",
       "<style scoped>\n",
       "    .dataframe tbody tr th:only-of-type {\n",
       "        vertical-align: middle;\n",
       "    }\n",
       "\n",
       "    .dataframe tbody tr th {\n",
       "        vertical-align: top;\n",
       "    }\n",
       "\n",
       "    .dataframe thead th {\n",
       "        text-align: right;\n",
       "    }\n",
       "</style>\n",
       "<table border=\"1\" class=\"dataframe\">\n",
       "  <thead>\n",
       "    <tr style=\"text-align: right;\">\n",
       "      <th></th>\n",
       "      <th>Entity</th>\n",
       "      <th>Year</th>\n",
       "      <th>pop</th>\n",
       "      <th>Continent</th>\n",
       "      <th>gini</th>\n",
       "      <th>gdp</th>\n",
       "    </tr>\n",
       "    <tr>\n",
       "      <th>Code</th>\n",
       "      <th></th>\n",
       "      <th></th>\n",
       "      <th></th>\n",
       "      <th></th>\n",
       "      <th></th>\n",
       "      <th></th>\n",
       "    </tr>\n",
       "  </thead>\n",
       "  <tbody>\n",
       "    <tr>\n",
       "      <th>AGO</th>\n",
       "      <td>Angola</td>\n",
       "      <td>2008</td>\n",
       "      <td>21696000.0</td>\n",
       "      <td>NaN</td>\n",
       "      <td>42.72</td>\n",
       "      <td>6080.5405</td>\n",
       "    </tr>\n",
       "    <tr>\n",
       "      <th>ALB</th>\n",
       "      <td>Albania</td>\n",
       "      <td>2012</td>\n",
       "      <td>2914000.0</td>\n",
       "      <td>NaN</td>\n",
       "      <td>28.96</td>\n",
       "      <td>10402.6360</td>\n",
       "    </tr>\n",
       "    <tr>\n",
       "      <th>ARG</th>\n",
       "      <td>Argentina</td>\n",
       "      <td>2013</td>\n",
       "      <td>42196000.0</td>\n",
       "      <td>NaN</td>\n",
       "      <td>42.28</td>\n",
       "      <td>16920.7560</td>\n",
       "    </tr>\n",
       "    <tr>\n",
       "      <th>ARM</th>\n",
       "      <td>Armenia</td>\n",
       "      <td>2013</td>\n",
       "      <td>2898000.0</td>\n",
       "      <td>NaN</td>\n",
       "      <td>31.54</td>\n",
       "      <td>9481.5098</td>\n",
       "    </tr>\n",
       "    <tr>\n",
       "      <th>AUS</th>\n",
       "      <td>Australia</td>\n",
       "      <td>2010</td>\n",
       "      <td>22155000.0</td>\n",
       "      <td>NaN</td>\n",
       "      <td>34.94</td>\n",
       "      <td>44854.9020</td>\n",
       "    </tr>\n",
       "    <tr>\n",
       "      <th>...</th>\n",
       "      <td>...</td>\n",
       "      <td>...</td>\n",
       "      <td>...</td>\n",
       "      <td>...</td>\n",
       "      <td>...</td>\n",
       "      <td>...</td>\n",
       "    </tr>\n",
       "    <tr>\n",
       "      <th>VEN</th>\n",
       "      <td>Venezuela</td>\n",
       "      <td>2006</td>\n",
       "      <td>26850000.0</td>\n",
       "      <td>NaN</td>\n",
       "      <td>46.94</td>\n",
       "      <td>12223.4100</td>\n",
       "    </tr>\n",
       "    <tr>\n",
       "      <th>VNM</th>\n",
       "      <td>Vietnam</td>\n",
       "      <td>2012</td>\n",
       "      <td>89802000.0</td>\n",
       "      <td>NaN</td>\n",
       "      <td>38.70</td>\n",
       "      <td>4933.5288</td>\n",
       "    </tr>\n",
       "    <tr>\n",
       "      <th>YEM</th>\n",
       "      <td>Yemen</td>\n",
       "      <td>2005</td>\n",
       "      <td>20107000.0</td>\n",
       "      <td>NaN</td>\n",
       "      <td>35.89</td>\n",
       "      <td>3196.2153</td>\n",
       "    </tr>\n",
       "    <tr>\n",
       "      <th>ZAF</th>\n",
       "      <td>South Africa</td>\n",
       "      <td>2011</td>\n",
       "      <td>52004000.0</td>\n",
       "      <td>NaN</td>\n",
       "      <td>63.38</td>\n",
       "      <td>11832.0590</td>\n",
       "    </tr>\n",
       "    <tr>\n",
       "      <th>ZMB</th>\n",
       "      <td>Zambia</td>\n",
       "      <td>2010</td>\n",
       "      <td>13606000.0</td>\n",
       "      <td>NaN</td>\n",
       "      <td>55.62</td>\n",
       "      <td>2870.8872</td>\n",
       "    </tr>\n",
       "  </tbody>\n",
       "</table>\n",
       "<p>148 rows × 6 columns</p>\n",
       "</div>"
      ],
      "text/plain": [
       "            Entity  Year         pop  Continent   gini         gdp\n",
       "Code                                                              \n",
       "AGO         Angola  2008  21696000.0        NaN  42.72   6080.5405\n",
       "ALB        Albania  2012   2914000.0        NaN  28.96  10402.6360\n",
       "ARG      Argentina  2013  42196000.0        NaN  42.28  16920.7560\n",
       "ARM        Armenia  2013   2898000.0        NaN  31.54   9481.5098\n",
       "AUS      Australia  2010  22155000.0        NaN  34.94  44854.9020\n",
       "...            ...   ...         ...        ...    ...         ...\n",
       "VEN      Venezuela  2006  26850000.0        NaN  46.94  12223.4100\n",
       "VNM        Vietnam  2012  89802000.0        NaN  38.70   4933.5288\n",
       "YEM          Yemen  2005  20107000.0        NaN  35.89   3196.2153\n",
       "ZAF   South Africa  2011  52004000.0        NaN  63.38  11832.0590\n",
       "ZMB         Zambia  2010  13606000.0        NaN  55.62   2870.8872\n",
       "\n",
       "[148 rows x 6 columns]"
      ]
     },
     "execution_count": 42,
     "metadata": {},
     "output_type": "execute_result"
    }
   ],
   "source": [
    "final_df.rename(columns={'Total population (Gapminder, HYDE & UN)':'pop'})"
   ]
  },
  {
   "cell_type": "code",
   "execution_count": 43,
   "metadata": {
    "slideshow": {
     "slide_type": "slide"
    }
   },
   "outputs": [
    {
     "data": {
      "text/html": [
       "<div>\n",
       "<style scoped>\n",
       "    .dataframe tbody tr th:only-of-type {\n",
       "        vertical-align: middle;\n",
       "    }\n",
       "\n",
       "    .dataframe tbody tr th {\n",
       "        vertical-align: top;\n",
       "    }\n",
       "\n",
       "    .dataframe thead th {\n",
       "        text-align: right;\n",
       "    }\n",
       "</style>\n",
       "<table border=\"1\" class=\"dataframe\">\n",
       "  <thead>\n",
       "    <tr style=\"text-align: right;\">\n",
       "      <th></th>\n",
       "      <th>Entity</th>\n",
       "      <th>Year</th>\n",
       "      <th>Total population (Gapminder, HYDE &amp; UN)</th>\n",
       "      <th>Continent</th>\n",
       "      <th>gini</th>\n",
       "      <th>gdp</th>\n",
       "    </tr>\n",
       "    <tr>\n",
       "      <th>Code</th>\n",
       "      <th></th>\n",
       "      <th></th>\n",
       "      <th></th>\n",
       "      <th></th>\n",
       "      <th></th>\n",
       "      <th></th>\n",
       "    </tr>\n",
       "  </thead>\n",
       "  <tbody>\n",
       "    <tr>\n",
       "      <th>AGO</th>\n",
       "      <td>Angola</td>\n",
       "      <td>2008</td>\n",
       "      <td>21696000.0</td>\n",
       "      <td>NaN</td>\n",
       "      <td>42.72</td>\n",
       "      <td>6080.5405</td>\n",
       "    </tr>\n",
       "    <tr>\n",
       "      <th>ALB</th>\n",
       "      <td>Albania</td>\n",
       "      <td>2012</td>\n",
       "      <td>2914000.0</td>\n",
       "      <td>NaN</td>\n",
       "      <td>28.96</td>\n",
       "      <td>10402.6360</td>\n",
       "    </tr>\n",
       "    <tr>\n",
       "      <th>ARG</th>\n",
       "      <td>Argentina</td>\n",
       "      <td>2013</td>\n",
       "      <td>42196000.0</td>\n",
       "      <td>NaN</td>\n",
       "      <td>42.28</td>\n",
       "      <td>16920.7560</td>\n",
       "    </tr>\n",
       "    <tr>\n",
       "      <th>ARM</th>\n",
       "      <td>Armenia</td>\n",
       "      <td>2013</td>\n",
       "      <td>2898000.0</td>\n",
       "      <td>NaN</td>\n",
       "      <td>31.54</td>\n",
       "      <td>9481.5098</td>\n",
       "    </tr>\n",
       "    <tr>\n",
       "      <th>AUS</th>\n",
       "      <td>Australia</td>\n",
       "      <td>2010</td>\n",
       "      <td>22155000.0</td>\n",
       "      <td>NaN</td>\n",
       "      <td>34.94</td>\n",
       "      <td>44854.9020</td>\n",
       "    </tr>\n",
       "  </tbody>\n",
       "</table>\n",
       "</div>"
      ],
      "text/plain": [
       "         Entity  Year  Total population (Gapminder, HYDE & UN)  Continent  \\\n",
       "Code                                                                        \n",
       "AGO      Angola  2008                               21696000.0        NaN   \n",
       "ALB     Albania  2012                                2914000.0        NaN   \n",
       "ARG   Argentina  2013                               42196000.0        NaN   \n",
       "ARM     Armenia  2013                                2898000.0        NaN   \n",
       "AUS   Australia  2010                               22155000.0        NaN   \n",
       "\n",
       "       gini         gdp  \n",
       "Code                     \n",
       "AGO   42.72   6080.5405  \n",
       "ALB   28.96  10402.6360  \n",
       "ARG   42.28  16920.7560  \n",
       "ARM   31.54   9481.5098  \n",
       "AUS   34.94  44854.9020  "
      ]
     },
     "execution_count": 43,
     "metadata": {},
     "output_type": "execute_result"
    }
   ],
   "source": [
    "final_df.head()"
   ]
  },
  {
   "cell_type": "code",
   "execution_count": 44,
   "metadata": {
    "slideshow": {
     "slide_type": "slide"
    }
   },
   "outputs": [],
   "source": [
    "final_df.rename(columns={'Total population (Gapminder, HYDE & UN)':'pop'}, inplace=True)"
   ]
  },
  {
   "cell_type": "code",
   "execution_count": 45,
   "metadata": {},
   "outputs": [
    {
     "data": {
      "text/html": [
       "<div>\n",
       "<style scoped>\n",
       "    .dataframe tbody tr th:only-of-type {\n",
       "        vertical-align: middle;\n",
       "    }\n",
       "\n",
       "    .dataframe tbody tr th {\n",
       "        vertical-align: top;\n",
       "    }\n",
       "\n",
       "    .dataframe thead th {\n",
       "        text-align: right;\n",
       "    }\n",
       "</style>\n",
       "<table border=\"1\" class=\"dataframe\">\n",
       "  <thead>\n",
       "    <tr style=\"text-align: right;\">\n",
       "      <th></th>\n",
       "      <th>Entity</th>\n",
       "      <th>Year</th>\n",
       "      <th>pop</th>\n",
       "      <th>Continent</th>\n",
       "      <th>gini</th>\n",
       "      <th>gdp</th>\n",
       "    </tr>\n",
       "    <tr>\n",
       "      <th>Code</th>\n",
       "      <th></th>\n",
       "      <th></th>\n",
       "      <th></th>\n",
       "      <th></th>\n",
       "      <th></th>\n",
       "      <th></th>\n",
       "    </tr>\n",
       "  </thead>\n",
       "  <tbody>\n",
       "    <tr>\n",
       "      <th>AGO</th>\n",
       "      <td>Angola</td>\n",
       "      <td>2008</td>\n",
       "      <td>21696000.0</td>\n",
       "      <td>NaN</td>\n",
       "      <td>42.72</td>\n",
       "      <td>6080.5405</td>\n",
       "    </tr>\n",
       "    <tr>\n",
       "      <th>ALB</th>\n",
       "      <td>Albania</td>\n",
       "      <td>2012</td>\n",
       "      <td>2914000.0</td>\n",
       "      <td>NaN</td>\n",
       "      <td>28.96</td>\n",
       "      <td>10402.6360</td>\n",
       "    </tr>\n",
       "    <tr>\n",
       "      <th>ARG</th>\n",
       "      <td>Argentina</td>\n",
       "      <td>2013</td>\n",
       "      <td>42196000.0</td>\n",
       "      <td>NaN</td>\n",
       "      <td>42.28</td>\n",
       "      <td>16920.7560</td>\n",
       "    </tr>\n",
       "    <tr>\n",
       "      <th>ARM</th>\n",
       "      <td>Armenia</td>\n",
       "      <td>2013</td>\n",
       "      <td>2898000.0</td>\n",
       "      <td>NaN</td>\n",
       "      <td>31.54</td>\n",
       "      <td>9481.5098</td>\n",
       "    </tr>\n",
       "    <tr>\n",
       "      <th>AUS</th>\n",
       "      <td>Australia</td>\n",
       "      <td>2010</td>\n",
       "      <td>22155000.0</td>\n",
       "      <td>NaN</td>\n",
       "      <td>34.94</td>\n",
       "      <td>44854.9020</td>\n",
       "    </tr>\n",
       "  </tbody>\n",
       "</table>\n",
       "</div>"
      ],
      "text/plain": [
       "         Entity  Year         pop  Continent   gini         gdp\n",
       "Code                                                           \n",
       "AGO      Angola  2008  21696000.0        NaN  42.72   6080.5405\n",
       "ALB     Albania  2012   2914000.0        NaN  28.96  10402.6360\n",
       "ARG   Argentina  2013  42196000.0        NaN  42.28  16920.7560\n",
       "ARM     Armenia  2013   2898000.0        NaN  31.54   9481.5098\n",
       "AUS   Australia  2010  22155000.0        NaN  34.94  44854.9020"
      ]
     },
     "execution_count": 45,
     "metadata": {},
     "output_type": "execute_result"
    }
   ],
   "source": [
    "final_df.head()"
   ]
  },
  {
   "cell_type": "markdown",
   "metadata": {
    "slideshow": {
     "slide_type": "slide"
    }
   },
   "source": [
    "**24.** Say we make a new variable `high_gdp` which is 1 if GDP is greater than $10000 and 0 otherwise. What type of variable (not data type) is `high_gdp`?"
   ]
  },
  {
   "cell_type": "markdown",
   "metadata": {
    "slideshow": {
     "slide_type": "fragment"
    }
   },
   "source": [
    "It is a [binary] **ordinal** variable, since there is a natural ordering (since we know countries with `high_gdp` = 0 have lower GDPs than countries with `high_gdp` = 1)."
   ]
  },
  {
   "cell_type": "code",
   "execution_count": 69,
   "metadata": {},
   "outputs": [],
   "source": [
    "final_df['high_gdp'] = final_df['gdp'].apply(lambda x: 1 if x > 10000 else 0)"
   ]
  },
  {
   "cell_type": "code",
   "execution_count": 105,
   "metadata": {},
   "outputs": [
    {
     "data": {
      "text/html": [
       "<div>\n",
       "<style scoped>\n",
       "    .dataframe tbody tr th:only-of-type {\n",
       "        vertical-align: middle;\n",
       "    }\n",
       "\n",
       "    .dataframe tbody tr th {\n",
       "        vertical-align: top;\n",
       "    }\n",
       "\n",
       "    .dataframe thead th {\n",
       "        text-align: right;\n",
       "    }\n",
       "</style>\n",
       "<table border=\"1\" class=\"dataframe\">\n",
       "  <thead>\n",
       "    <tr style=\"text-align: right;\">\n",
       "      <th></th>\n",
       "      <th>Entity</th>\n",
       "      <th>Year</th>\n",
       "      <th>Total population (Gapminder, HYDE &amp; UN)</th>\n",
       "      <th>Continent</th>\n",
       "      <th>gini</th>\n",
       "      <th>gdp</th>\n",
       "      <th>high_gdp</th>\n",
       "    </tr>\n",
       "    <tr>\n",
       "      <th>Code</th>\n",
       "      <th></th>\n",
       "      <th></th>\n",
       "      <th></th>\n",
       "      <th></th>\n",
       "      <th></th>\n",
       "      <th></th>\n",
       "      <th></th>\n",
       "    </tr>\n",
       "  </thead>\n",
       "  <tbody>\n",
       "    <tr>\n",
       "      <th>AGO</th>\n",
       "      <td>Angola</td>\n",
       "      <td>2008</td>\n",
       "      <td>21696000.0</td>\n",
       "      <td>NaN</td>\n",
       "      <td>42.72</td>\n",
       "      <td>6080.5405</td>\n",
       "      <td>0</td>\n",
       "    </tr>\n",
       "    <tr>\n",
       "      <th>ALB</th>\n",
       "      <td>Albania</td>\n",
       "      <td>2012</td>\n",
       "      <td>2914000.0</td>\n",
       "      <td>NaN</td>\n",
       "      <td>28.96</td>\n",
       "      <td>10402.6360</td>\n",
       "      <td>1</td>\n",
       "    </tr>\n",
       "    <tr>\n",
       "      <th>ARG</th>\n",
       "      <td>Argentina</td>\n",
       "      <td>2013</td>\n",
       "      <td>42196000.0</td>\n",
       "      <td>NaN</td>\n",
       "      <td>42.28</td>\n",
       "      <td>16920.7560</td>\n",
       "      <td>1</td>\n",
       "    </tr>\n",
       "    <tr>\n",
       "      <th>ARM</th>\n",
       "      <td>Armenia</td>\n",
       "      <td>2013</td>\n",
       "      <td>2898000.0</td>\n",
       "      <td>NaN</td>\n",
       "      <td>31.54</td>\n",
       "      <td>9481.5098</td>\n",
       "      <td>0</td>\n",
       "    </tr>\n",
       "    <tr>\n",
       "      <th>AUS</th>\n",
       "      <td>Australia</td>\n",
       "      <td>2010</td>\n",
       "      <td>22155000.0</td>\n",
       "      <td>NaN</td>\n",
       "      <td>34.94</td>\n",
       "      <td>44854.9020</td>\n",
       "      <td>1</td>\n",
       "    </tr>\n",
       "  </tbody>\n",
       "</table>\n",
       "</div>"
      ],
      "text/plain": [
       "         Entity  Year  Total population (Gapminder, HYDE & UN)  Continent  \\\n",
       "Code                                                                        \n",
       "AGO      Angola  2008                               21696000.0        NaN   \n",
       "ALB     Albania  2012                                2914000.0        NaN   \n",
       "ARG   Argentina  2013                               42196000.0        NaN   \n",
       "ARM     Armenia  2013                                2898000.0        NaN   \n",
       "AUS   Australia  2010                               22155000.0        NaN   \n",
       "\n",
       "       gini         gdp  high_gdp  \n",
       "Code                               \n",
       "AGO   42.72   6080.5405         0  \n",
       "ALB   28.96  10402.6360         1  \n",
       "ARG   42.28  16920.7560         1  \n",
       "ARM   31.54   9481.5098         0  \n",
       "AUS   34.94  44854.9020         1  "
      ]
     },
     "execution_count": 105,
     "metadata": {},
     "output_type": "execute_result"
    }
   ],
   "source": [
    "final_df.head()"
   ]
  },
  {
   "cell_type": "markdown",
   "metadata": {
    "slideshow": {
     "slide_type": "slide"
    }
   },
   "source": [
    "**25.** Say we filled in the `Continent` column, so that e.g. Africa = 0, Asia = 1, South America = 2, North America = 3, Europe = 4, Oceania = 5. What type of variable (not data type) would `Continent` be in this case?"
   ]
  },
  {
   "cell_type": "markdown",
   "metadata": {
    "slideshow": {
     "slide_type": "fragment"
    }
   },
   "source": [
    "In this case `Continent` would be a **categorical** variable, not an ordinal variable, since there is no natural ordering of the values. We could just as easily have labeled the continents so that Europe = 0, Oceania = 1, Asia = 2, Africa = 3, North America = 4, South America = 5, without losing any information that this variable is supposed to hold."
   ]
  },
  {
   "cell_type": "code",
   "execution_count": 72,
   "metadata": {
    "slideshow": {
     "slide_type": "slide"
    }
   },
   "outputs": [],
   "source": [
    "sorted_df = final_df.sort_values(by=\"gini\").copy()"
   ]
  },
  {
   "cell_type": "code",
   "execution_count": 80,
   "metadata": {},
   "outputs": [
    {
     "data": {
      "text/plain": [
       "41.06"
      ]
     },
     "execution_count": 80,
     "metadata": {},
     "output_type": "execute_result"
    }
   ],
   "source": [
    "us_gini = sorted_df.loc[\"USA\"][\"gini\"]\n",
    "us_gini"
   ]
  },
  {
   "cell_type": "code",
   "execution_count": 84,
   "metadata": {},
   "outputs": [],
   "source": [
    "import numpy as np\n",
    "sorted_df['gini_vs_us'] = sorted_df['gini'] - us_gini"
   ]
  },
  {
   "cell_type": "code",
   "execution_count": 88,
   "metadata": {
    "slideshow": {
     "slide_type": "slide"
    }
   },
   "outputs": [
    {
     "data": {
      "text/html": [
       "<div>\n",
       "<style scoped>\n",
       "    .dataframe tbody tr th:only-of-type {\n",
       "        vertical-align: middle;\n",
       "    }\n",
       "\n",
       "    .dataframe tbody tr th {\n",
       "        vertical-align: top;\n",
       "    }\n",
       "\n",
       "    .dataframe thead th {\n",
       "        text-align: right;\n",
       "    }\n",
       "</style>\n",
       "<table border=\"1\" class=\"dataframe\">\n",
       "  <thead>\n",
       "    <tr style=\"text-align: right;\">\n",
       "      <th></th>\n",
       "      <th>Entity</th>\n",
       "      <th>Year</th>\n",
       "      <th>Total population (Gapminder, HYDE &amp; UN)</th>\n",
       "      <th>Continent</th>\n",
       "      <th>gini</th>\n",
       "      <th>gdp</th>\n",
       "      <th>high_gdp</th>\n",
       "      <th>gini_vs_us</th>\n",
       "    </tr>\n",
       "    <tr>\n",
       "      <th>Code</th>\n",
       "      <th></th>\n",
       "      <th></th>\n",
       "      <th></th>\n",
       "      <th></th>\n",
       "      <th></th>\n",
       "      <th></th>\n",
       "      <th></th>\n",
       "      <th></th>\n",
       "    </tr>\n",
       "  </thead>\n",
       "  <tbody>\n",
       "    <tr>\n",
       "      <th>TUR</th>\n",
       "      <td>Turkey</td>\n",
       "      <td>2012</td>\n",
       "      <td>7.465100e+07</td>\n",
       "      <td>NaN</td>\n",
       "      <td>40.17</td>\n",
       "      <td>20904.22300</td>\n",
       "      <td>1</td>\n",
       "      <td>-0.89</td>\n",
       "    </tr>\n",
       "    <tr>\n",
       "      <th>TTO</th>\n",
       "      <td>Trinidad and Tobago</td>\n",
       "      <td>1992</td>\n",
       "      <td>1.237000e+06</td>\n",
       "      <td>NaN</td>\n",
       "      <td>40.27</td>\n",
       "      <td>9583.64550</td>\n",
       "      <td>0</td>\n",
       "      <td>-0.79</td>\n",
       "    </tr>\n",
       "    <tr>\n",
       "      <th>SEN</th>\n",
       "      <td>Senegal</td>\n",
       "      <td>2011</td>\n",
       "      <td>1.303400e+07</td>\n",
       "      <td>NaN</td>\n",
       "      <td>40.28</td>\n",
       "      <td>2735.58670</td>\n",
       "      <td>0</td>\n",
       "      <td>-0.78</td>\n",
       "    </tr>\n",
       "    <tr>\n",
       "      <th>MDG</th>\n",
       "      <td>Madagascar</td>\n",
       "      <td>2010</td>\n",
       "      <td>2.115200e+07</td>\n",
       "      <td>NaN</td>\n",
       "      <td>40.63</td>\n",
       "      <td>1459.91550</td>\n",
       "      <td>0</td>\n",
       "      <td>-0.43</td>\n",
       "    </tr>\n",
       "    <tr>\n",
       "      <th>MAR</th>\n",
       "      <td>Morocco</td>\n",
       "      <td>2007</td>\n",
       "      <td>3.116400e+07</td>\n",
       "      <td>NaN</td>\n",
       "      <td>40.72</td>\n",
       "      <td>4984.77200</td>\n",
       "      <td>0</td>\n",
       "      <td>-0.34</td>\n",
       "    </tr>\n",
       "    <tr>\n",
       "      <th>TKM</th>\n",
       "      <td>Turkmenistan</td>\n",
       "      <td>1998</td>\n",
       "      <td>4.413000e+06</td>\n",
       "      <td>NaN</td>\n",
       "      <td>40.77</td>\n",
       "      <td>6358.13180</td>\n",
       "      <td>0</td>\n",
       "      <td>-0.29</td>\n",
       "    </tr>\n",
       "    <tr>\n",
       "      <th>USA</th>\n",
       "      <td>United States</td>\n",
       "      <td>2013</td>\n",
       "      <td>3.164010e+08</td>\n",
       "      <td>NaN</td>\n",
       "      <td>41.06</td>\n",
       "      <td>51547.74600</td>\n",
       "      <td>1</td>\n",
       "      <td>0.00</td>\n",
       "    </tr>\n",
       "    <tr>\n",
       "      <th>RUS</th>\n",
       "      <td>Russia</td>\n",
       "      <td>2012</td>\n",
       "      <td>1.439940e+08</td>\n",
       "      <td>NaN</td>\n",
       "      <td>41.59</td>\n",
       "      <td>26074.13100</td>\n",
       "      <td>1</td>\n",
       "      <td>0.53</td>\n",
       "    </tr>\n",
       "    <tr>\n",
       "      <th>URY</th>\n",
       "      <td>Uruguay</td>\n",
       "      <td>2013</td>\n",
       "      <td>3.389000e+06</td>\n",
       "      <td>NaN</td>\n",
       "      <td>41.87</td>\n",
       "      <td>18652.68600</td>\n",
       "      <td>1</td>\n",
       "      <td>0.81</td>\n",
       "    </tr>\n",
       "    <tr>\n",
       "      <th>CHN</th>\n",
       "      <td>China</td>\n",
       "      <td>2010</td>\n",
       "      <td>1.368811e+09</td>\n",
       "      <td>NaN</td>\n",
       "      <td>42.06</td>\n",
       "      <td>9337.29000</td>\n",
       "      <td>0</td>\n",
       "      <td>1.00</td>\n",
       "    </tr>\n",
       "    <tr>\n",
       "      <th>COD</th>\n",
       "      <td>Democratic Republic of Congo</td>\n",
       "      <td>2012</td>\n",
       "      <td>6.902100e+07</td>\n",
       "      <td>NaN</td>\n",
       "      <td>42.10</td>\n",
       "      <td>740.51245</td>\n",
       "      <td>0</td>\n",
       "      <td>1.04</td>\n",
       "    </tr>\n",
       "    <tr>\n",
       "      <th>GAB</th>\n",
       "      <td>Gabon</td>\n",
       "      <td>2005</td>\n",
       "      <td>1.391000e+06</td>\n",
       "      <td>NaN</td>\n",
       "      <td>42.18</td>\n",
       "      <td>15793.24700</td>\n",
       "      <td>1</td>\n",
       "      <td>1.12</td>\n",
       "    </tr>\n",
       "  </tbody>\n",
       "</table>\n",
       "</div>"
      ],
      "text/plain": [
       "                            Entity  Year  \\\n",
       "Code                                       \n",
       "TUR                         Turkey  2012   \n",
       "TTO            Trinidad and Tobago  1992   \n",
       "SEN                        Senegal  2011   \n",
       "MDG                     Madagascar  2010   \n",
       "MAR                        Morocco  2007   \n",
       "TKM                   Turkmenistan  1998   \n",
       "USA                  United States  2013   \n",
       "RUS                         Russia  2012   \n",
       "URY                        Uruguay  2013   \n",
       "CHN                          China  2010   \n",
       "COD   Democratic Republic of Congo  2012   \n",
       "GAB                          Gabon  2005   \n",
       "\n",
       "      Total population (Gapminder, HYDE & UN)  Continent   gini          gdp  \\\n",
       "Code                                                                           \n",
       "TUR                              7.465100e+07        NaN  40.17  20904.22300   \n",
       "TTO                              1.237000e+06        NaN  40.27   9583.64550   \n",
       "SEN                              1.303400e+07        NaN  40.28   2735.58670   \n",
       "MDG                              2.115200e+07        NaN  40.63   1459.91550   \n",
       "MAR                              3.116400e+07        NaN  40.72   4984.77200   \n",
       "TKM                              4.413000e+06        NaN  40.77   6358.13180   \n",
       "USA                              3.164010e+08        NaN  41.06  51547.74600   \n",
       "RUS                              1.439940e+08        NaN  41.59  26074.13100   \n",
       "URY                              3.389000e+06        NaN  41.87  18652.68600   \n",
       "CHN                              1.368811e+09        NaN  42.06   9337.29000   \n",
       "COD                              6.902100e+07        NaN  42.10    740.51245   \n",
       "GAB                              1.391000e+06        NaN  42.18  15793.24700   \n",
       "\n",
       "      high_gdp  gini_vs_us  \n",
       "Code                        \n",
       "TUR          1       -0.89  \n",
       "TTO          0       -0.79  \n",
       "SEN          0       -0.78  \n",
       "MDG          0       -0.43  \n",
       "MAR          0       -0.34  \n",
       "TKM          0       -0.29  \n",
       "USA          1        0.00  \n",
       "RUS          1        0.53  \n",
       "URY          1        0.81  \n",
       "CHN          0        1.00  \n",
       "COD          0        1.04  \n",
       "GAB          1        1.12  "
      ]
     },
     "execution_count": 88,
     "metadata": {},
     "output_type": "execute_result"
    }
   ],
   "source": [
    "sorted_df.iloc[83:95]"
   ]
  },
  {
   "cell_type": "markdown",
   "metadata": {},
   "source": [
    "**25.** If we only knew the US's gini coefficient (and not its GDP), and we used the K-Nearest Neighbors algorithm with $K = 5$ to try and predict whether it was low or high GDP, which would we predict?"
   ]
  },
  {
   "cell_type": "markdown",
   "metadata": {
    "slideshow": {
     "slide_type": "slide"
    }
   },
   "source": [
    "* 1st closest neighbor: Turkmenistan (low GDP)\n",
    "* 2nd closest neighbor: Morocco (low GDP)\n",
    "* 3rd closest neighbor: Madagascar (low GDP)\n",
    "* 4th closest neighbor: Russia (high GDP)\n",
    "* 5th closest neighbor: Senegal (low GDP)\n",
    "\n",
    "4 out of 5 are low GDP $\\implies$ we predict low GDP for US"
   ]
  },
  {
   "cell_type": "markdown",
   "metadata": {
    "slideshow": {
     "slide_type": "slide"
    }
   },
   "source": [
    "**26.** What about with $K = 7$?"
   ]
  },
  {
   "cell_type": "markdown",
   "metadata": {
    "slideshow": {
     "slide_type": "fragment"
    }
   },
   "source": [
    "(The above 5 closest neighbors, plus:)\n",
    "\n",
    "* 6th closest neighbor: Trinidad and Tobago (low GDP)\n",
    "* 7th closest neighbor: Uruguay (high GDP)\n",
    "\n",
    "5 out of 7 are low GDP $\\implies$ we predict low GDP for US again"
   ]
  },
  {
   "cell_type": "markdown",
   "metadata": {
    "slideshow": {
     "slide_type": "slide"
    }
   },
   "source": [
    "**27.** Why do we always pick odd numbers as values for $K$?"
   ]
  },
  {
   "cell_type": "markdown",
   "metadata": {
    "slideshow": {
     "slide_type": "fragment"
    }
   },
   "source": [
    "Because we need to take a majority vote of the $K$ neighbors, so odd numbers ensure that we won't encounter any ties."
   ]
  },
  {
   "cell_type": "code",
   "execution_count": 111,
   "metadata": {
    "slideshow": {
     "slide_type": "skip"
    }
   },
   "outputs": [
    {
     "name": "stderr",
     "output_type": "stream",
     "text": [
      "[NbConvertApp] Converting notebook Week_11.ipynb to slides\n",
      "[NbConvertApp] Writing 341342 bytes to Week_11.slides.html\n"
     ]
    }
   ],
   "source": [
    "!jupyter nbconvert Week_11.ipynb --to slides --SlidesExporter.reveal_scroll=True"
   ]
  },
  {
   "cell_type": "code",
   "execution_count": null,
   "metadata": {
    "slideshow": {
     "slide_type": "skip"
    }
   },
   "outputs": [],
   "source": []
  }
 ],
 "metadata": {
  "kernelspec": {
   "display_name": "Python 3",
   "language": "python",
   "name": "python3"
  },
  "language_info": {
   "codemirror_mode": {
    "name": "ipython",
    "version": 3
   },
   "file_extension": ".py",
   "mimetype": "text/x-python",
   "name": "python",
   "nbconvert_exporter": "python",
   "pygments_lexer": "ipython3",
   "version": "3.8.4"
  }
 },
 "nbformat": 4,
 "nbformat_minor": 4
}
