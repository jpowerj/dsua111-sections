{
 "cells": [
  {
   "cell_type": "markdown",
   "metadata": {
    "slideshow": {
     "slide_type": "slide"
    }
   },
   "source": [
    "# Week 6: Descriptive Statistics and Data Visualization\n",
    "\n",
    "## DSUA111: Data Science for Everyone, NYU, Fall 2020\n",
    "\n",
    "### TA Jeff, `jpj251@nyu.edu`\n",
    "\n",
    "* This slideshow: https://jjacobs.me/dsua111-sections/week-06\n",
    "* All materials: https://github.com/jpowerj/dsua111-sections"
   ]
  },
  {
   "cell_type": "markdown",
   "metadata": {
    "slideshow": {
     "slide_type": "slide"
    }
   },
   "source": [
    "## Overview\n",
    "\n",
    "0. Quick Pandas Recap\n",
    "1. Variable Types\n",
    "2. Frequency/Central Tendency\n",
    "3. Dispersion and Position\n",
    "\n",
    "[Visualization: sprinkled throughout]"
   ]
  },
  {
   "cell_type": "markdown",
   "metadata": {
    "slideshow": {
     "slide_type": "slide"
    }
   },
   "source": [
    "## Pandas Recap\n",
    "\n",
    "Where we left off..."
   ]
  },
  {
   "cell_type": "code",
   "execution_count": 1,
   "metadata": {},
   "outputs": [],
   "source": [
    "import pandas as pd\n",
    "gift_df = pd.read_csv(\"ForeignGifts_Universities.csv\")"
   ]
  },
  {
   "cell_type": "code",
   "execution_count": 2,
   "metadata": {},
   "outputs": [],
   "source": [
    "try:\n",
    "    gift_df['amount_cleaned'] = gift_df['Foreign Gift Amount'].str.replace(\"$\",\"\").str.replace(\",\",\"\")\n",
    "except Exception as e:\n",
    "    print(e)"
   ]
  },
  {
   "cell_type": "code",
   "execution_count": 3,
   "metadata": {
    "slideshow": {
     "slide_type": "slide"
    }
   },
   "outputs": [],
   "source": [
    "gift_df['amount_cleaned'] = gift_df['Foreign Gift Amount'].str.replace(\"(\",\"\").str.replace(\")\",\"\").str.replace(\"$\",\"\").str.replace(\",\",\"\")"
   ]
  },
  {
   "cell_type": "code",
   "execution_count": 4,
   "metadata": {},
   "outputs": [
    {
     "data": {
      "text/html": [
       "<div>\n",
       "<style scoped>\n",
       "    .dataframe tbody tr th:only-of-type {\n",
       "        vertical-align: middle;\n",
       "    }\n",
       "\n",
       "    .dataframe tbody tr th {\n",
       "        vertical-align: top;\n",
       "    }\n",
       "\n",
       "    .dataframe thead th {\n",
       "        text-align: right;\n",
       "    }\n",
       "</style>\n",
       "<table border=\"1\" class=\"dataframe\">\n",
       "  <thead>\n",
       "    <tr style=\"text-align: right;\">\n",
       "      <th></th>\n",
       "      <th>ID</th>\n",
       "      <th>OPEID</th>\n",
       "      <th>Institution Name</th>\n",
       "      <th>City</th>\n",
       "      <th>State</th>\n",
       "      <th>Foreign Gift Received Date</th>\n",
       "      <th>Foreign Gift Amount</th>\n",
       "      <th>Gift Type</th>\n",
       "      <th>Country of Giftor</th>\n",
       "      <th>Giftor Name</th>\n",
       "      <th>amount_cleaned</th>\n",
       "    </tr>\n",
       "  </thead>\n",
       "  <tbody>\n",
       "    <tr>\n",
       "      <th>0</th>\n",
       "      <td>1</td>\n",
       "      <td>107000</td>\n",
       "      <td>Thunderbird School of Global Management</td>\n",
       "      <td>Glendale</td>\n",
       "      <td>AZ</td>\n",
       "      <td>12/12/2012</td>\n",
       "      <td>$1,220,000.00</td>\n",
       "      <td>Contract</td>\n",
       "      <td>MEXICO</td>\n",
       "      <td>Instituto Technologico y de Estudio</td>\n",
       "      <td>1220000.00</td>\n",
       "    </tr>\n",
       "    <tr>\n",
       "      <th>1</th>\n",
       "      <td>2</td>\n",
       "      <td>107000</td>\n",
       "      <td>Thunderbird School of Global Management</td>\n",
       "      <td>Glendale</td>\n",
       "      <td>AZ</td>\n",
       "      <td>11/26/2012</td>\n",
       "      <td>$395,790.00</td>\n",
       "      <td>Contract</td>\n",
       "      <td>CHINA</td>\n",
       "      <td>Intel Products (Chengdu) LTD</td>\n",
       "      <td>395790.00</td>\n",
       "    </tr>\n",
       "    <tr>\n",
       "      <th>2</th>\n",
       "      <td>3</td>\n",
       "      <td>107000</td>\n",
       "      <td>Thunderbird School of Global Management</td>\n",
       "      <td>Glendale</td>\n",
       "      <td>AZ</td>\n",
       "      <td>11/19/2012</td>\n",
       "      <td>$2,769,651.00</td>\n",
       "      <td>Contract</td>\n",
       "      <td>SAUDI ARABIA</td>\n",
       "      <td>Saudi Basic Industries Corporation</td>\n",
       "      <td>2769651.00</td>\n",
       "    </tr>\n",
       "    <tr>\n",
       "      <th>3</th>\n",
       "      <td>4</td>\n",
       "      <td>107000</td>\n",
       "      <td>Thunderbird School of Global Management</td>\n",
       "      <td>Glendale</td>\n",
       "      <td>AZ</td>\n",
       "      <td>7/31/2012</td>\n",
       "      <td>$364,128.00</td>\n",
       "      <td>Contract</td>\n",
       "      <td>KUWAIT</td>\n",
       "      <td>Kuwait National Petroleum CO</td>\n",
       "      <td>364128.00</td>\n",
       "    </tr>\n",
       "    <tr>\n",
       "      <th>4</th>\n",
       "      <td>5</td>\n",
       "      <td>108100</td>\n",
       "      <td>Arizona State University</td>\n",
       "      <td>Tempe</td>\n",
       "      <td>AZ</td>\n",
       "      <td>12/29/2017</td>\n",
       "      <td>$180,000.00</td>\n",
       "      <td>Contract</td>\n",
       "      <td>THE NETHERLANDS</td>\n",
       "      <td>Airbus Group SE</td>\n",
       "      <td>180000.00</td>\n",
       "    </tr>\n",
       "  </tbody>\n",
       "</table>\n",
       "</div>"
      ],
      "text/plain": [
       "   ID   OPEID                         Institution Name      City State  \\\n",
       "0   1  107000  Thunderbird School of Global Management  Glendale    AZ   \n",
       "1   2  107000  Thunderbird School of Global Management  Glendale    AZ   \n",
       "2   3  107000  Thunderbird School of Global Management  Glendale    AZ   \n",
       "3   4  107000  Thunderbird School of Global Management  Glendale    AZ   \n",
       "4   5  108100                 Arizona State University     Tempe    AZ   \n",
       "\n",
       "  Foreign Gift Received Date Foreign Gift Amount Gift Type Country of Giftor  \\\n",
       "0                 12/12/2012      $1,220,000.00   Contract            MEXICO   \n",
       "1                 11/26/2012        $395,790.00   Contract             CHINA   \n",
       "2                 11/19/2012      $2,769,651.00   Contract      SAUDI ARABIA   \n",
       "3                  7/31/2012        $364,128.00   Contract            KUWAIT   \n",
       "4                 12/29/2017        $180,000.00   Contract   THE NETHERLANDS   \n",
       "\n",
       "                           Giftor Name amount_cleaned  \n",
       "0  Instituto Technologico y de Estudio    1220000.00   \n",
       "1         Intel Products (Chengdu) LTD     395790.00   \n",
       "2   Saudi Basic Industries Corporation    2769651.00   \n",
       "3         Kuwait National Petroleum CO     364128.00   \n",
       "4                      Airbus Group SE     180000.00   "
      ]
     },
     "execution_count": 4,
     "metadata": {},
     "output_type": "execute_result"
    }
   ],
   "source": [
    "gift_df.head()"
   ]
  },
  {
   "cell_type": "code",
   "execution_count": 5,
   "metadata": {
    "slideshow": {
     "slide_type": "slide"
    }
   },
   "outputs": [
    {
     "data": {
      "text/plain": [
       "ID                             int64\n",
       "OPEID                          int64\n",
       "Institution Name              object\n",
       "City                          object\n",
       "State                         object\n",
       "Foreign Gift Received Date    object\n",
       "Foreign Gift Amount           object\n",
       "Gift Type                     object\n",
       "Country of Giftor             object\n",
       "Giftor Name                   object\n",
       "amount_cleaned                object\n",
       "dtype: object"
      ]
     },
     "execution_count": 5,
     "metadata": {},
     "output_type": "execute_result"
    }
   ],
   "source": [
    "gift_df.dtypes"
   ]
  },
  {
   "cell_type": "code",
   "execution_count": 6,
   "metadata": {},
   "outputs": [],
   "source": [
    "gift_df['amount_cleaned'] = gift_df['amount_cleaned'].astype(float)"
   ]
  },
  {
   "cell_type": "code",
   "execution_count": 7,
   "metadata": {
    "slideshow": {
     "slide_type": "slide"
    }
   },
   "outputs": [
    {
     "data": {
      "text/plain": [
       "ID                              int64\n",
       "OPEID                           int64\n",
       "Institution Name               object\n",
       "City                           object\n",
       "State                          object\n",
       "Foreign Gift Received Date     object\n",
       "Foreign Gift Amount            object\n",
       "Gift Type                      object\n",
       "Country of Giftor              object\n",
       "Giftor Name                    object\n",
       "amount_cleaned                float64\n",
       "dtype: object"
      ]
     },
     "execution_count": 7,
     "metadata": {},
     "output_type": "execute_result"
    }
   ],
   "source": [
    "gift_df.dtypes"
   ]
  },
  {
   "cell_type": "markdown",
   "metadata": {
    "slideshow": {
     "slide_type": "slide"
    }
   },
   "source": [
    "## Variable Types\n",
    "\n",
    "<center>\n",
    "<img src=\"var_types.png\" style=\"width:80%; align:center;\">\n",
    "</center>\n",
    "\n",
    "(Lecture 9.1, Slide 9)"
   ]
  },
  {
   "cell_type": "markdown",
   "metadata": {
    "slideshow": {
     "slide_type": "slide"
    }
   },
   "source": [
    "## Variable Types?"
   ]
  },
  {
   "cell_type": "markdown",
   "metadata": {},
   "source": [
    "**Gift Amount?** (the cleaned version)"
   ]
  },
  {
   "cell_type": "code",
   "execution_count": 8,
   "metadata": {},
   "outputs": [
    {
     "data": {
      "text/plain": [
       "0         1220000.0\n",
       "1          395790.0\n",
       "2         2769651.0\n",
       "3          364128.0\n",
       "4          180000.0\n",
       "            ...    \n",
       "18381      163958.0\n",
       "18382      163958.0\n",
       "18383      350000.0\n",
       "18384    21532410.0\n",
       "18385      375000.0\n",
       "Name: amount_cleaned, Length: 18386, dtype: float64"
      ]
     },
     "execution_count": 8,
     "metadata": {},
     "output_type": "execute_result"
    }
   ],
   "source": [
    "gift_df['amount_cleaned']"
   ]
  },
  {
   "cell_type": "markdown",
   "metadata": {
    "slideshow": {
     "slide_type": "fragment"
    }
   },
   "source": [
    "**`amount_cleaned`** is **Numeric**, **Continuous**\n",
    "\n",
    "(Why not discrete?)"
   ]
  },
  {
   "cell_type": "markdown",
   "metadata": {
    "slideshow": {
     "slide_type": "slide"
    }
   },
   "source": [
    "**Number of letters in institution name?**"
   ]
  },
  {
   "cell_type": "code",
   "execution_count": 9,
   "metadata": {},
   "outputs": [],
   "source": [
    "gift_df['institution_length'] = gift_df['Institution Name'].apply(len)"
   ]
  },
  {
   "cell_type": "code",
   "execution_count": 10,
   "metadata": {},
   "outputs": [
    {
     "data": {
      "text/html": [
       "<div>\n",
       "<style scoped>\n",
       "    .dataframe tbody tr th:only-of-type {\n",
       "        vertical-align: middle;\n",
       "    }\n",
       "\n",
       "    .dataframe tbody tr th {\n",
       "        vertical-align: top;\n",
       "    }\n",
       "\n",
       "    .dataframe thead th {\n",
       "        text-align: right;\n",
       "    }\n",
       "</style>\n",
       "<table border=\"1\" class=\"dataframe\">\n",
       "  <thead>\n",
       "    <tr style=\"text-align: right;\">\n",
       "      <th></th>\n",
       "      <th>ID</th>\n",
       "      <th>OPEID</th>\n",
       "      <th>Institution Name</th>\n",
       "      <th>City</th>\n",
       "      <th>State</th>\n",
       "      <th>Foreign Gift Received Date</th>\n",
       "      <th>Foreign Gift Amount</th>\n",
       "      <th>Gift Type</th>\n",
       "      <th>Country of Giftor</th>\n",
       "      <th>Giftor Name</th>\n",
       "      <th>amount_cleaned</th>\n",
       "      <th>institution_length</th>\n",
       "    </tr>\n",
       "  </thead>\n",
       "  <tbody>\n",
       "    <tr>\n",
       "      <th>0</th>\n",
       "      <td>1</td>\n",
       "      <td>107000</td>\n",
       "      <td>Thunderbird School of Global Management</td>\n",
       "      <td>Glendale</td>\n",
       "      <td>AZ</td>\n",
       "      <td>12/12/2012</td>\n",
       "      <td>$1,220,000.00</td>\n",
       "      <td>Contract</td>\n",
       "      <td>MEXICO</td>\n",
       "      <td>Instituto Technologico y de Estudio</td>\n",
       "      <td>1220000.0</td>\n",
       "      <td>39</td>\n",
       "    </tr>\n",
       "    <tr>\n",
       "      <th>1</th>\n",
       "      <td>2</td>\n",
       "      <td>107000</td>\n",
       "      <td>Thunderbird School of Global Management</td>\n",
       "      <td>Glendale</td>\n",
       "      <td>AZ</td>\n",
       "      <td>11/26/2012</td>\n",
       "      <td>$395,790.00</td>\n",
       "      <td>Contract</td>\n",
       "      <td>CHINA</td>\n",
       "      <td>Intel Products (Chengdu) LTD</td>\n",
       "      <td>395790.0</td>\n",
       "      <td>39</td>\n",
       "    </tr>\n",
       "    <tr>\n",
       "      <th>2</th>\n",
       "      <td>3</td>\n",
       "      <td>107000</td>\n",
       "      <td>Thunderbird School of Global Management</td>\n",
       "      <td>Glendale</td>\n",
       "      <td>AZ</td>\n",
       "      <td>11/19/2012</td>\n",
       "      <td>$2,769,651.00</td>\n",
       "      <td>Contract</td>\n",
       "      <td>SAUDI ARABIA</td>\n",
       "      <td>Saudi Basic Industries Corporation</td>\n",
       "      <td>2769651.0</td>\n",
       "      <td>39</td>\n",
       "    </tr>\n",
       "    <tr>\n",
       "      <th>3</th>\n",
       "      <td>4</td>\n",
       "      <td>107000</td>\n",
       "      <td>Thunderbird School of Global Management</td>\n",
       "      <td>Glendale</td>\n",
       "      <td>AZ</td>\n",
       "      <td>7/31/2012</td>\n",
       "      <td>$364,128.00</td>\n",
       "      <td>Contract</td>\n",
       "      <td>KUWAIT</td>\n",
       "      <td>Kuwait National Petroleum CO</td>\n",
       "      <td>364128.0</td>\n",
       "      <td>39</td>\n",
       "    </tr>\n",
       "    <tr>\n",
       "      <th>4</th>\n",
       "      <td>5</td>\n",
       "      <td>108100</td>\n",
       "      <td>Arizona State University</td>\n",
       "      <td>Tempe</td>\n",
       "      <td>AZ</td>\n",
       "      <td>12/29/2017</td>\n",
       "      <td>$180,000.00</td>\n",
       "      <td>Contract</td>\n",
       "      <td>THE NETHERLANDS</td>\n",
       "      <td>Airbus Group SE</td>\n",
       "      <td>180000.0</td>\n",
       "      <td>24</td>\n",
       "    </tr>\n",
       "  </tbody>\n",
       "</table>\n",
       "</div>"
      ],
      "text/plain": [
       "   ID   OPEID                         Institution Name      City State  \\\n",
       "0   1  107000  Thunderbird School of Global Management  Glendale    AZ   \n",
       "1   2  107000  Thunderbird School of Global Management  Glendale    AZ   \n",
       "2   3  107000  Thunderbird School of Global Management  Glendale    AZ   \n",
       "3   4  107000  Thunderbird School of Global Management  Glendale    AZ   \n",
       "4   5  108100                 Arizona State University     Tempe    AZ   \n",
       "\n",
       "  Foreign Gift Received Date Foreign Gift Amount Gift Type Country of Giftor  \\\n",
       "0                 12/12/2012      $1,220,000.00   Contract            MEXICO   \n",
       "1                 11/26/2012        $395,790.00   Contract             CHINA   \n",
       "2                 11/19/2012      $2,769,651.00   Contract      SAUDI ARABIA   \n",
       "3                  7/31/2012        $364,128.00   Contract            KUWAIT   \n",
       "4                 12/29/2017        $180,000.00   Contract   THE NETHERLANDS   \n",
       "\n",
       "                           Giftor Name  amount_cleaned  institution_length  \n",
       "0  Instituto Technologico y de Estudio       1220000.0                  39  \n",
       "1         Intel Products (Chengdu) LTD        395790.0                  39  \n",
       "2   Saudi Basic Industries Corporation       2769651.0                  39  \n",
       "3         Kuwait National Petroleum CO        364128.0                  39  \n",
       "4                      Airbus Group SE        180000.0                  24  "
      ]
     },
     "execution_count": 10,
     "metadata": {},
     "output_type": "execute_result"
    }
   ],
   "source": [
    "gift_df.head()"
   ]
  },
  {
   "cell_type": "markdown",
   "metadata": {
    "slideshow": {
     "slide_type": "fragment"
    }
   },
   "source": [
    "**`institution_length`** is **Numeric**, **Discrete**"
   ]
  },
  {
   "cell_type": "markdown",
   "metadata": {
    "slideshow": {
     "slide_type": "slide"
    }
   },
   "source": [
    "**Name of Institution?**"
   ]
  },
  {
   "cell_type": "code",
   "execution_count": 11,
   "metadata": {},
   "outputs": [
    {
     "data": {
      "text/plain": [
       "0                 Thunderbird School of Global Management\n",
       "1                 Thunderbird School of Global Management\n",
       "2                 Thunderbird School of Global Management\n",
       "3                 Thunderbird School of Global Management\n",
       "4                                Arizona State University\n",
       "                               ...                       \n",
       "18381    Keck Graduate Institute of Applied Life Sciences\n",
       "18382    Keck Graduate Institute of Applied Life Sciences\n",
       "18383    Keck Graduate Institute of Applied Life Sciences\n",
       "18384                  Hult International Business School\n",
       "18385         California Institute of Advanced Management\n",
       "Name: Institution Name, Length: 18386, dtype: object"
      ]
     },
     "execution_count": 11,
     "metadata": {},
     "output_type": "execute_result"
    }
   ],
   "source": [
    "gift_df['Institution Name']"
   ]
  },
  {
   "cell_type": "markdown",
   "metadata": {
    "slideshow": {
     "slide_type": "fragment"
    }
   },
   "source": [
    "**`Institution Name`** is **Categorical**, **Nominal**"
   ]
  },
  {
   "cell_type": "markdown",
   "metadata": {
    "slideshow": {
     "slide_type": "slide"
    }
   },
   "source": [
    "**Rank of the gift?** (1=largest, 2=second-largest, ...)"
   ]
  },
  {
   "cell_type": "code",
   "execution_count": 12,
   "metadata": {},
   "outputs": [],
   "source": [
    "gift_df['gift_rank'] = gift_df['amount_cleaned'].rank(method='min', ascending=False).astype(int)"
   ]
  },
  {
   "cell_type": "code",
   "execution_count": 13,
   "metadata": {},
   "outputs": [
    {
     "data": {
      "text/html": [
       "<div>\n",
       "<style scoped>\n",
       "    .dataframe tbody tr th:only-of-type {\n",
       "        vertical-align: middle;\n",
       "    }\n",
       "\n",
       "    .dataframe tbody tr th {\n",
       "        vertical-align: top;\n",
       "    }\n",
       "\n",
       "    .dataframe thead th {\n",
       "        text-align: right;\n",
       "    }\n",
       "</style>\n",
       "<table border=\"1\" class=\"dataframe\">\n",
       "  <thead>\n",
       "    <tr style=\"text-align: right;\">\n",
       "      <th></th>\n",
       "      <th>ID</th>\n",
       "      <th>OPEID</th>\n",
       "      <th>Institution Name</th>\n",
       "      <th>City</th>\n",
       "      <th>State</th>\n",
       "      <th>Foreign Gift Received Date</th>\n",
       "      <th>Foreign Gift Amount</th>\n",
       "      <th>Gift Type</th>\n",
       "      <th>Country of Giftor</th>\n",
       "      <th>Giftor Name</th>\n",
       "      <th>amount_cleaned</th>\n",
       "      <th>institution_length</th>\n",
       "      <th>gift_rank</th>\n",
       "    </tr>\n",
       "  </thead>\n",
       "  <tbody>\n",
       "    <tr>\n",
       "      <th>0</th>\n",
       "      <td>1</td>\n",
       "      <td>107000</td>\n",
       "      <td>Thunderbird School of Global Management</td>\n",
       "      <td>Glendale</td>\n",
       "      <td>AZ</td>\n",
       "      <td>12/12/2012</td>\n",
       "      <td>$1,220,000.00</td>\n",
       "      <td>Contract</td>\n",
       "      <td>MEXICO</td>\n",
       "      <td>Instituto Technologico y de Estudio</td>\n",
       "      <td>1220000.0</td>\n",
       "      <td>39</td>\n",
       "      <td>1139</td>\n",
       "    </tr>\n",
       "    <tr>\n",
       "      <th>1</th>\n",
       "      <td>2</td>\n",
       "      <td>107000</td>\n",
       "      <td>Thunderbird School of Global Management</td>\n",
       "      <td>Glendale</td>\n",
       "      <td>AZ</td>\n",
       "      <td>11/26/2012</td>\n",
       "      <td>$395,790.00</td>\n",
       "      <td>Contract</td>\n",
       "      <td>CHINA</td>\n",
       "      <td>Intel Products (Chengdu) LTD</td>\n",
       "      <td>395790.0</td>\n",
       "      <td>39</td>\n",
       "      <td>3822</td>\n",
       "    </tr>\n",
       "    <tr>\n",
       "      <th>2</th>\n",
       "      <td>3</td>\n",
       "      <td>107000</td>\n",
       "      <td>Thunderbird School of Global Management</td>\n",
       "      <td>Glendale</td>\n",
       "      <td>AZ</td>\n",
       "      <td>11/19/2012</td>\n",
       "      <td>$2,769,651.00</td>\n",
       "      <td>Contract</td>\n",
       "      <td>SAUDI ARABIA</td>\n",
       "      <td>Saudi Basic Industries Corporation</td>\n",
       "      <td>2769651.0</td>\n",
       "      <td>39</td>\n",
       "      <td>528</td>\n",
       "    </tr>\n",
       "    <tr>\n",
       "      <th>3</th>\n",
       "      <td>4</td>\n",
       "      <td>107000</td>\n",
       "      <td>Thunderbird School of Global Management</td>\n",
       "      <td>Glendale</td>\n",
       "      <td>AZ</td>\n",
       "      <td>7/31/2012</td>\n",
       "      <td>$364,128.00</td>\n",
       "      <td>Contract</td>\n",
       "      <td>KUWAIT</td>\n",
       "      <td>Kuwait National Petroleum CO</td>\n",
       "      <td>364128.0</td>\n",
       "      <td>39</td>\n",
       "      <td>4081</td>\n",
       "    </tr>\n",
       "    <tr>\n",
       "      <th>4</th>\n",
       "      <td>5</td>\n",
       "      <td>108100</td>\n",
       "      <td>Arizona State University</td>\n",
       "      <td>Tempe</td>\n",
       "      <td>AZ</td>\n",
       "      <td>12/29/2017</td>\n",
       "      <td>$180,000.00</td>\n",
       "      <td>Contract</td>\n",
       "      <td>THE NETHERLANDS</td>\n",
       "      <td>Airbus Group SE</td>\n",
       "      <td>180000.0</td>\n",
       "      <td>24</td>\n",
       "      <td>6660</td>\n",
       "    </tr>\n",
       "  </tbody>\n",
       "</table>\n",
       "</div>"
      ],
      "text/plain": [
       "   ID   OPEID                         Institution Name      City State  \\\n",
       "0   1  107000  Thunderbird School of Global Management  Glendale    AZ   \n",
       "1   2  107000  Thunderbird School of Global Management  Glendale    AZ   \n",
       "2   3  107000  Thunderbird School of Global Management  Glendale    AZ   \n",
       "3   4  107000  Thunderbird School of Global Management  Glendale    AZ   \n",
       "4   5  108100                 Arizona State University     Tempe    AZ   \n",
       "\n",
       "  Foreign Gift Received Date Foreign Gift Amount Gift Type Country of Giftor  \\\n",
       "0                 12/12/2012      $1,220,000.00   Contract            MEXICO   \n",
       "1                 11/26/2012        $395,790.00   Contract             CHINA   \n",
       "2                 11/19/2012      $2,769,651.00   Contract      SAUDI ARABIA   \n",
       "3                  7/31/2012        $364,128.00   Contract            KUWAIT   \n",
       "4                 12/29/2017        $180,000.00   Contract   THE NETHERLANDS   \n",
       "\n",
       "                           Giftor Name  amount_cleaned  institution_length  \\\n",
       "0  Instituto Technologico y de Estudio       1220000.0                  39   \n",
       "1         Intel Products (Chengdu) LTD        395790.0                  39   \n",
       "2   Saudi Basic Industries Corporation       2769651.0                  39   \n",
       "3         Kuwait National Petroleum CO        364128.0                  39   \n",
       "4                      Airbus Group SE        180000.0                  24   \n",
       "\n",
       "   gift_rank  \n",
       "0       1139  \n",
       "1       3822  \n",
       "2        528  \n",
       "3       4081  \n",
       "4       6660  "
      ]
     },
     "execution_count": 13,
     "metadata": {},
     "output_type": "execute_result"
    }
   ],
   "source": [
    "gift_df.head()"
   ]
  },
  {
   "cell_type": "code",
   "execution_count": 14,
   "metadata": {
    "slideshow": {
     "slide_type": "slide"
    }
   },
   "outputs": [
    {
     "data": {
      "text/html": [
       "<div>\n",
       "<style scoped>\n",
       "    .dataframe tbody tr th:only-of-type {\n",
       "        vertical-align: middle;\n",
       "    }\n",
       "\n",
       "    .dataframe tbody tr th {\n",
       "        vertical-align: top;\n",
       "    }\n",
       "\n",
       "    .dataframe thead th {\n",
       "        text-align: right;\n",
       "    }\n",
       "</style>\n",
       "<table border=\"1\" class=\"dataframe\">\n",
       "  <thead>\n",
       "    <tr style=\"text-align: right;\">\n",
       "      <th></th>\n",
       "      <th>ID</th>\n",
       "      <th>OPEID</th>\n",
       "      <th>Institution Name</th>\n",
       "      <th>City</th>\n",
       "      <th>State</th>\n",
       "      <th>Foreign Gift Received Date</th>\n",
       "      <th>Foreign Gift Amount</th>\n",
       "      <th>Gift Type</th>\n",
       "      <th>Country of Giftor</th>\n",
       "      <th>Giftor Name</th>\n",
       "      <th>amount_cleaned</th>\n",
       "      <th>institution_length</th>\n",
       "      <th>gift_rank</th>\n",
       "    </tr>\n",
       "  </thead>\n",
       "  <tbody>\n",
       "    <tr>\n",
       "      <th>16386</th>\n",
       "      <td>16387</td>\n",
       "      <td>324200</td>\n",
       "      <td>Carnegie Mellon University</td>\n",
       "      <td>Pittsburgh</td>\n",
       "      <td>PA</td>\n",
       "      <td>1/1/2015</td>\n",
       "      <td>$77,391,377.00</td>\n",
       "      <td>Contract</td>\n",
       "      <td>QATAR</td>\n",
       "      <td>Qatar Foundation for Education</td>\n",
       "      <td>77391377.0</td>\n",
       "      <td>26</td>\n",
       "      <td>1</td>\n",
       "    </tr>\n",
       "    <tr>\n",
       "      <th>16343</th>\n",
       "      <td>16344</td>\n",
       "      <td>324200</td>\n",
       "      <td>Carnegie Mellon University</td>\n",
       "      <td>Pittsburgh</td>\n",
       "      <td>PA</td>\n",
       "      <td>2/16/2016</td>\n",
       "      <td>$75,000,000.00</td>\n",
       "      <td>Contract</td>\n",
       "      <td>BERMUDA</td>\n",
       "      <td>NaN</td>\n",
       "      <td>75000000.0</td>\n",
       "      <td>26</td>\n",
       "      <td>2</td>\n",
       "    </tr>\n",
       "    <tr>\n",
       "      <th>16345</th>\n",
       "      <td>16346</td>\n",
       "      <td>324200</td>\n",
       "      <td>Carnegie Mellon University</td>\n",
       "      <td>Pittsburgh</td>\n",
       "      <td>PA</td>\n",
       "      <td>2/16/2016</td>\n",
       "      <td>$75,000,000.00</td>\n",
       "      <td>Contract</td>\n",
       "      <td>BERMUDA</td>\n",
       "      <td>NaN</td>\n",
       "      <td>75000000.0</td>\n",
       "      <td>26</td>\n",
       "      <td>2</td>\n",
       "    </tr>\n",
       "    <tr>\n",
       "      <th>16346</th>\n",
       "      <td>16347</td>\n",
       "      <td>324200</td>\n",
       "      <td>Carnegie Mellon University</td>\n",
       "      <td>Pittsburgh</td>\n",
       "      <td>PA</td>\n",
       "      <td>2/16/2016</td>\n",
       "      <td>$75,000,000.00</td>\n",
       "      <td>Contract</td>\n",
       "      <td>BERMUDA</td>\n",
       "      <td>NaN</td>\n",
       "      <td>75000000.0</td>\n",
       "      <td>26</td>\n",
       "      <td>2</td>\n",
       "    </tr>\n",
       "    <tr>\n",
       "      <th>16347</th>\n",
       "      <td>16348</td>\n",
       "      <td>324200</td>\n",
       "      <td>Carnegie Mellon University</td>\n",
       "      <td>Pittsburgh</td>\n",
       "      <td>PA</td>\n",
       "      <td>2/16/2016</td>\n",
       "      <td>$75,000,000.00</td>\n",
       "      <td>Contract</td>\n",
       "      <td>BERMUDA</td>\n",
       "      <td>NaN</td>\n",
       "      <td>75000000.0</td>\n",
       "      <td>26</td>\n",
       "      <td>2</td>\n",
       "    </tr>\n",
       "  </tbody>\n",
       "</table>\n",
       "</div>"
      ],
      "text/plain": [
       "          ID   OPEID            Institution Name        City State  \\\n",
       "16386  16387  324200  Carnegie Mellon University  Pittsburgh    PA   \n",
       "16343  16344  324200  Carnegie Mellon University  Pittsburgh    PA   \n",
       "16345  16346  324200  Carnegie Mellon University  Pittsburgh    PA   \n",
       "16346  16347  324200  Carnegie Mellon University  Pittsburgh    PA   \n",
       "16347  16348  324200  Carnegie Mellon University  Pittsburgh    PA   \n",
       "\n",
       "      Foreign Gift Received Date Foreign Gift Amount Gift Type  \\\n",
       "16386                   1/1/2015     $77,391,377.00   Contract   \n",
       "16343                  2/16/2016     $75,000,000.00   Contract   \n",
       "16345                  2/16/2016     $75,000,000.00   Contract   \n",
       "16346                  2/16/2016     $75,000,000.00   Contract   \n",
       "16347                  2/16/2016     $75,000,000.00   Contract   \n",
       "\n",
       "      Country of Giftor                     Giftor Name  amount_cleaned  \\\n",
       "16386             QATAR  Qatar Foundation for Education      77391377.0   \n",
       "16343           BERMUDA                             NaN      75000000.0   \n",
       "16345           BERMUDA                             NaN      75000000.0   \n",
       "16346           BERMUDA                             NaN      75000000.0   \n",
       "16347           BERMUDA                             NaN      75000000.0   \n",
       "\n",
       "       institution_length  gift_rank  \n",
       "16386                  26          1  \n",
       "16343                  26          2  \n",
       "16345                  26          2  \n",
       "16346                  26          2  \n",
       "16347                  26          2  "
      ]
     },
     "execution_count": 14,
     "metadata": {},
     "output_type": "execute_result"
    }
   ],
   "source": [
    "gift_df.sort_values(by='gift_rank').head(5)"
   ]
  },
  {
   "cell_type": "markdown",
   "metadata": {
    "slideshow": {
     "slide_type": "fragment"
    }
   },
   "source": [
    "**`gift_rank`** is **Categorical**, **Ordinal**"
   ]
  },
  {
   "cell_type": "markdown",
   "metadata": {
    "slideshow": {
     "slide_type": "slide"
    }
   },
   "source": [
    "## Measures of Frequency"
   ]
  },
  {
   "cell_type": "code",
   "execution_count": 15,
   "metadata": {},
   "outputs": [
    {
     "data": {
      "text/plain": [
       "University of California, Los Angeles          3206\n",
       "California Institute of Technology             3127\n",
       "Johns Hopkins University                       1157\n",
       "Columbia University in the City of New York     791\n",
       "Ohio State University (The)                     681\n",
       "University of Michigan - Ann Arbor              630\n",
       "Stanford University                             518\n",
       "Harvard University                              513\n",
       "Babson College                                  378\n",
       "Saint John's University                         332\n",
       "Name: Institution Name, dtype: int64"
      ]
     },
     "execution_count": 15,
     "metadata": {},
     "output_type": "execute_result"
    }
   ],
   "source": [
    "gift_df['Institution Name'].value_counts().head(10)"
   ]
  },
  {
   "cell_type": "code",
   "execution_count": 16,
   "metadata": {
    "slideshow": {
     "slide_type": "slide"
    }
   },
   "outputs": [
    {
     "data": {
      "text/plain": [
       "University of California, Los Angeles          0.174372\n",
       "California Institute of Technology             0.170075\n",
       "Johns Hopkins University                       0.062928\n",
       "Columbia University in the City of New York    0.043022\n",
       "Ohio State University (The)                    0.037039\n",
       "University of Michigan - Ann Arbor             0.034265\n",
       "Stanford University                            0.028174\n",
       "Harvard University                             0.027902\n",
       "Babson College                                 0.020559\n",
       "Saint John's University                        0.018057\n",
       "Name: Institution Name, dtype: float64"
      ]
     },
     "execution_count": 16,
     "metadata": {},
     "output_type": "execute_result"
    }
   ],
   "source": [
    "gift_df['Institution Name'].value_counts(normalize=True).head(10)"
   ]
  },
  {
   "cell_type": "code",
   "execution_count": 17,
   "metadata": {
    "slideshow": {
     "slide_type": "slide"
    }
   },
   "outputs": [
    {
     "data": {
      "text/plain": [
       "ENGLAND         2490\n",
       "CANADA          1885\n",
       "JAPAN           1540\n",
       "CHINA           1297\n",
       "FRANCE          1130\n",
       "SWITZERLAND     1124\n",
       "GERMANY         1025\n",
       "HONG KONG        675\n",
       "SAUDI ARABIA     627\n",
       "SOUTH KOREA      441\n",
       "Name: Country of Giftor, dtype: int64"
      ]
     },
     "execution_count": 17,
     "metadata": {},
     "output_type": "execute_result"
    }
   ],
   "source": [
    "gift_df['Country of Giftor'].value_counts().head(10)"
   ]
  },
  {
   "cell_type": "code",
   "execution_count": 18,
   "metadata": {
    "slideshow": {
     "slide_type": "slide"
    }
   },
   "outputs": [
    {
     "data": {
      "text/plain": [
       "ENGLAND         0.135429\n",
       "CANADA          0.102524\n",
       "JAPAN           0.083759\n",
       "CHINA           0.070543\n",
       "FRANCE          0.061460\n",
       "SWITZERLAND     0.061133\n",
       "GERMANY         0.055749\n",
       "HONG KONG       0.036713\n",
       "SAUDI ARABIA    0.034102\n",
       "SOUTH KOREA     0.023986\n",
       "Name: Country of Giftor, dtype: float64"
      ]
     },
     "execution_count": 18,
     "metadata": {},
     "output_type": "execute_result"
    }
   ],
   "source": [
    "gift_df['Country of Giftor'].value_counts(normalize=True).head(10)"
   ]
  },
  {
   "cell_type": "markdown",
   "metadata": {
    "slideshow": {
     "slide_type": "slide"
    }
   },
   "source": [
    "## Measures of Central Tendency"
   ]
  },
  {
   "cell_type": "code",
   "execution_count": 19,
   "metadata": {},
   "outputs": [
    {
     "data": {
      "text/plain": [
       "count    1.838600e+04\n",
       "mean     5.014007e+05\n",
       "std      2.760354e+06\n",
       "min      0.000000e+00\n",
       "25%      2.419250e+03\n",
       "50%      6.000000e+04\n",
       "75%      3.171265e+05\n",
       "max      7.739138e+07\n",
       "Name: amount_cleaned, dtype: float64"
      ]
     },
     "execution_count": 19,
     "metadata": {},
     "output_type": "execute_result"
    }
   ],
   "source": [
    "gift_df['amount_cleaned'].describe()"
   ]
  },
  {
   "cell_type": "markdown",
   "metadata": {
    "slideshow": {
     "slide_type": "slide"
    }
   },
   "source": [
    "https://www.google.com/search?client=firefox-b-1-d&q=pandas+describe+format"
   ]
  },
  {
   "cell_type": "markdown",
   "metadata": {},
   "source": [
    "https://stackoverflow.com/questions/40347689/dataframe-describe-suppress-scientific-notation"
   ]
  },
  {
   "cell_type": "code",
   "execution_count": 20,
   "metadata": {},
   "outputs": [
    {
     "data": {
      "text/plain": [
       "count       18386.000000\n",
       "mean       501400.674535\n",
       "std       2760353.536498\n",
       "min             0.000000\n",
       "25%          2419.250000\n",
       "50%         60000.000000\n",
       "75%        317126.500000\n",
       "max      77391377.000000\n",
       "Name: amount_cleaned, dtype: object"
      ]
     },
     "execution_count": 20,
     "metadata": {},
     "output_type": "execute_result"
    }
   ],
   "source": [
    "gift_df['amount_cleaned'].describe().apply(lambda x: format(x, 'f'))"
   ]
  },
  {
   "cell_type": "code",
   "execution_count": 21,
   "metadata": {
    "slideshow": {
     "slide_type": "slide"
    }
   },
   "outputs": [
    {
     "data": {
      "image/png": "[encoded data removed]",
      "text/plain": [
       "<Figure size 432x288 with 1 Axes>"
      ]
     },
     "metadata": {
      "needs_background": "light"
     },
     "output_type": "display_data"
    }
   ],
   "source": [
    "import matplotlib.pyplot as plt\n",
    "plt.hist(gift_df['amount_cleaned'])\n",
    "plt.show()"
   ]
  },
  {
   "cell_type": "code",
   "execution_count": 22,
   "metadata": {
    "slideshow": {
     "slide_type": "slide"
    }
   },
   "outputs": [
    {
     "data": {
      "image/png": "[encoded data removed]",
      "text/plain": [
       "<Figure size 432x288 with 1 Axes>"
      ]
     },
     "metadata": {
      "needs_background": "light"
     },
     "output_type": "display_data"
    }
   ],
   "source": [
    "plt.hist(gift_df['amount_cleaned'], bins=100)\n",
    "plt.show()"
   ]
  },
  {
   "cell_type": "code",
   "execution_count": 23,
   "metadata": {
    "slideshow": {
     "slide_type": "slide"
    }
   },
   "outputs": [],
   "source": [
    "import numpy as np\n",
    "gift_df['log_amount'] = gift_df['amount_cleaned'].apply(np.log)"
   ]
  },
  {
   "cell_type": "code",
   "execution_count": 24,
   "metadata": {},
   "outputs": [],
   "source": [
    "gift_df[gift_df['log_amount'] == -np.inf] = np.nan"
   ]
  },
  {
   "cell_type": "code",
   "execution_count": 25,
   "metadata": {},
   "outputs": [
    {
     "data": {
      "image/png": "[encoded data removed]",
      "text/plain": [
       "<Figure size 432x288 with 1 Axes>"
      ]
     },
     "metadata": {
      "needs_background": "light"
     },
     "output_type": "display_data"
    }
   ],
   "source": [
    "plt.hist(gift_df['log_amount'], bins=100)\n",
    "plt.show()"
   ]
  },
  {
   "cell_type": "code",
   "execution_count": 26,
   "metadata": {},
   "outputs": [
    {
     "data": {
      "text/plain": [
       "501320.0507709557"
      ]
     },
     "execution_count": 26,
     "metadata": {},
     "output_type": "execute_result"
    }
   ],
   "source": [
    "np.exp(13.125)"
   ]
  },
  {
   "cell_type": "markdown",
   "metadata": {
    "slideshow": {
     "slide_type": "slide"
    }
   },
   "source": [
    "## But... BEWARE!\n",
    "\n",
    "<center>\n",
    "<img src=\"mean_beware.png\" style=\"width:80%;align:center\">\n",
    "</center>\n",
    "\n",
    "(Lecture 9.1. Slide 6)"
   ]
  },
  {
   "cell_type": "markdown",
   "metadata": {
    "slideshow": {
     "slide_type": "slide"
    }
   },
   "source": [
    "## and... BEWARE!"
   ]
  },
  {
   "cell_type": "code",
   "execution_count": 27,
   "metadata": {},
   "outputs": [
    {
     "data": {
      "image/png": "[encoded data removed]",
      "text/plain": [
       "<Figure size 432x432 with 4 Axes>"
      ]
     },
     "metadata": {
      "needs_background": "light"
     },
     "output_type": "display_data"
    }
   ],
   "source": [
    "import anscombe\n",
    "anscombe.plot_anscombe()"
   ]
  },
  {
   "cell_type": "markdown",
   "metadata": {},
   "source": [
    "(\"Anscombe's Quartet\": https://en.wikipedia.org/wiki/Anscombe%27s_quartet )"
   ]
  },
  {
   "cell_type": "markdown",
   "metadata": {
    "slideshow": {
     "slide_type": "slide"
    }
   },
   "source": [
    "## Measures of Dispersion"
   ]
  },
  {
   "cell_type": "code",
   "execution_count": 28,
   "metadata": {},
   "outputs": [
    {
     "data": {
      "text/plain": [
       "7622759151302.67"
      ]
     },
     "execution_count": 28,
     "metadata": {},
     "output_type": "execute_result"
    }
   ],
   "source": [
    "gift_df['amount_cleaned'].var()"
   ]
  },
  {
   "cell_type": "markdown",
   "metadata": {},
   "source": [
    "**Variance** in words: the average squared distance from the mean"
   ]
  },
  {
   "cell_type": "markdown",
   "metadata": {},
   "source": [
    "But... why do we square it?"
   ]
  },
  {
   "cell_type": "code",
   "execution_count": 29,
   "metadata": {
    "slideshow": {
     "slide_type": "slide"
    }
   },
   "outputs": [],
   "source": [
    "my_df = pd.DataFrame({'x':[1,2,3,4,5,6],'y':[1,2,3,-1,-2,-3]})"
   ]
  },
  {
   "cell_type": "code",
   "execution_count": 30,
   "metadata": {},
   "outputs": [
    {
     "data": {
      "image/png": "[encoded data removed]",
      "text/plain": [
       "<Figure size 432x288 with 1 Axes>"
      ]
     },
     "metadata": {
      "needs_background": "light"
     },
     "output_type": "display_data"
    }
   ],
   "source": [
    "plt.scatter(my_df['x'], my_df['y']); plt.show()"
   ]
  },
  {
   "cell_type": "code",
   "execution_count": 31,
   "metadata": {},
   "outputs": [
    {
     "data": {
      "text/plain": [
       "0.0"
      ]
     },
     "execution_count": 31,
     "metadata": {},
     "output_type": "execute_result"
    }
   ],
   "source": [
    "y_mean = my_df['y'].mean(); y_mean"
   ]
  },
  {
   "cell_type": "code",
   "execution_count": 32,
   "metadata": {},
   "outputs": [
    {
     "data": {
      "text/plain": [
       "2.3664319132398464"
      ]
     },
     "execution_count": 32,
     "metadata": {},
     "output_type": "execute_result"
    }
   ],
   "source": [
    "my_df['y'].std()"
   ]
  },
  {
   "cell_type": "code",
   "execution_count": 33,
   "metadata": {},
   "outputs": [
    {
     "data": {
      "text/plain": [
       "0.0"
      ]
     },
     "execution_count": 33,
     "metadata": {},
     "output_type": "execute_result"
    }
   ],
   "source": [
    "(my_df['y'] - y_mean).mean()"
   ]
  },
  {
   "cell_type": "markdown",
   "metadata": {
    "slideshow": {
     "slide_type": "slide"
    }
   },
   "source": [
    "<center>\n",
    "<img src=\"oh_no.png\" style=\"width:66.6%;\">\n",
    "</center>"
   ]
  },
  {
   "cell_type": "markdown",
   "metadata": {
    "slideshow": {
     "slide_type": "slide"
    }
   },
   "source": [
    "## And why *both* standard deviation and variance?\n",
    "\n",
    "* Simple answer: standard deviation is in the same units as the variable.\n",
    "* Standard deviation of gift amount is approx. $2.76 million\n",
    "* Variance of gift amount is approx. 7.6 trillion ......? "
   ]
  },
  {
   "cell_type": "code",
   "execution_count": 34,
   "metadata": {
    "slideshow": {
     "slide_type": "slide"
    }
   },
   "outputs": [
    {
     "data": {
      "text/html": [
       "<video width=\"80%\" controls>\n",
       "      <source src=\"ice_cream_glove.mp4\" type=\"video/mp4\">\n",
       "</video>\n"
      ],
      "text/plain": [
       "<IPython.core.display.HTML object>"
      ]
     },
     "metadata": {},
     "output_type": "display_data"
    }
   ],
   "source": [
    "%%HTML\n",
    "<video width=\"80%\" controls>\n",
    "      <source src=\"ice_cream_glove.mp4\" type=\"video/mp4\">\n",
    "</video>"
   ]
  },
  {
   "cell_type": "code",
   "execution_count": null,
   "metadata": {
    "slideshow": {
     "slide_type": "skip"
    }
   },
   "outputs": [],
   "source": [
    "!jupyter nbconvert Week_06.ipynb --to slides --SlidesExporter.reveal_scroll=True"
   ]
  },
  {
   "cell_type": "code",
   "execution_count": null,
   "metadata": {
    "slideshow": {
     "slide_type": "skip"
    }
   },
   "outputs": [],
   "source": []
  }
 ],
 "metadata": {
  "kernelspec": {
   "display_name": "Python 3",
   "language": "python",
   "name": "python3"
  },
  "language_info": {
   "codemirror_mode": {
    "name": "ipython",
    "version": 3
   },
   "file_extension": ".py",
   "mimetype": "text/x-python",
   "name": "python",
   "nbconvert_exporter": "python",
   "pygments_lexer": "ipython3",
   "version": "3.8.4"
  }
 },
 "nbformat": 4,
 "nbformat_minor": 4
}
