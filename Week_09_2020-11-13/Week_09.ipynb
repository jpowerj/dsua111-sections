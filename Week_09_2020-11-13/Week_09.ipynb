{
 "cells": [
  {
   "cell_type": "markdown",
   "metadata": {
    "slideshow": {
     "slide_type": "slide"
    }
   },
   "source": [
    "# Week 9: Linear Regression!\n",
    "\n",
    "## DSUA111: Data Science for Everyone, NYU, Fall 2020\n",
    "\n",
    "### TA Jeff, `jpj251@nyu.edu`\n",
    "\n",
    "* This slideshow: https://jjacobs.me/dsua111-sections/week-09\n",
    "* All materials: https://github.com/jpowerj/dsua111-sections"
   ]
  },
  {
   "cell_type": "markdown",
   "metadata": {
    "slideshow": {
     "slide_type": "slide"
    }
   },
   "source": [
    "## Overview\n",
    "\n",
    "0. Regression in General: What it is and what it isn't\n",
    "1. Ordinary Least Squares (OLS) Regression"
   ]
  },
  {
   "cell_type": "markdown",
   "metadata": {
    "slideshow": {
     "slide_type": "slide"
    }
   },
   "source": [
    "## This is the most important topic in the course, practically speaking\n",
    "\n",
    "* All the fancy machine learning / AI / neural net methods, they are all glorified regressions"
   ]
  },
  {
   "cell_type": "markdown",
   "metadata": {
    "slideshow": {
     "slide_type": "slide"
    }
   },
   "source": [
    "## The \"best fit\" line: make sure you **check your intuition**!\n",
    "\n",
    "<center>\n",
    "<img src=\"pca_vs_regression.png\" style=\"width:66.6%;\">\n",
    "</center>"
   ]
  },
  {
   "cell_type": "markdown",
   "metadata": {},
   "source": [
    "* When given this sort of scatterplot (without any lines superimposed) and asked to draw the regression line of $y$ on $x$, students tend to draw the principal component line shown in Figure 4.2a. However, **for the goal of predicting $y$ from $x$**, or for estimating the average of $y$ for any given value of $x$, **the regression line is in fact better**--even if it does not appear so at first.\n",
    "\n",
    "* The superiority of the regression line for estimating the average of $y$ given $x$ can be seen from a careful study of Figure 4.2."
   ]
  },
  {
   "cell_type": "markdown",
   "metadata": {
    "slideshow": {
     "slide_type": "slide"
    }
   },
   "source": [
    "## The \"best fit\" line: make sure you **check your intuition**!\n",
    "\n",
    "<center>\n",
    "<img src=\"pca_vs_regression.png\" style=\"width:66.6%;\">\n",
    "</center>\n",
    "\n",
    "* For example, consider the points at the **extreme left** of either graph. They all lie above the principal components line but are roughly half below and half above the regression line. Thus, the principal component line **underpredicts $y$ for low values of $x$**.\n",
    "\n",
    "* Similarly, a careful study of the right side of each graph shows that the principal component line **overpredicts $y$ for high values of $x$**.\n",
    "\n",
    "* In contrast, the regression line again gives unbiased predictions, in the sense of **going through the average value of $y$ given $x$**.\n",
    "\n",
    "(Gelman and Hill, \"Data Analysis Using Regression and Multilevel/Hierarchical Models\", 58)"
   ]
  },
  {
   "cell_type": "markdown",
   "metadata": {
    "slideshow": {
     "slide_type": "slide"
    }
   },
   "source": [
    "## Regression Overview\n",
    "\n",
    "<center>\n",
    "<img src=\"regression.png\" style=\"width:80%;\">\n",
    "</center>\n",
    "\n",
    "(Lecture 16.1, Slide 7)"
   ]
  },
  {
   "cell_type": "markdown",
   "metadata": {
    "slideshow": {
     "slide_type": "slide"
    }
   },
   "source": [
    "## Ordinary Least Squares (OLS) Regression: The *Model*\n",
    "\n",
    "<center>\n",
    "<img src=\"ols.png\" style=\"width:80%;\">\n",
    "</center>"
   ]
  },
  {
   "cell_type": "markdown",
   "metadata": {},
   "source": [
    "This is the non-\"fitted\" model, since we don't yet know the precise values of $a$ or $b$"
   ]
  },
  {
   "cell_type": "markdown",
   "metadata": {
    "slideshow": {
     "slide_type": "slide"
    }
   },
   "source": [
    "## Ordinary Least Squares (OLS) Regression: The *Fitted* Model\n",
    "\n",
    "<center>\n",
    "<img src=\"ols_fitted.png\" style=\"width:80%;\">\n",
    "</center>"
   ]
  },
  {
   "cell_type": "markdown",
   "metadata": {},
   "source": [
    "By estimating the parameters of our model using the data in the dataset, we obtain $a = 23.4$ and $b = -1.59$"
   ]
  },
  {
   "cell_type": "markdown",
   "metadata": {
    "slideshow": {
     "slide_type": "slide"
    }
   },
   "source": [
    "## The \"full\" OLS model\n",
    "\n",
    "<center>\n",
    "<img src=\"ols_eqn.png\" style=\"width:80%;\">\n",
    "</center>\n",
    "\n",
    "(Lecture 16.2, Slide 19)"
   ]
  },
  {
   "cell_type": "markdown",
   "metadata": {
    "slideshow": {
     "slide_type": "slide"
    }
   },
   "source": [
    "## Regression in Python"
   ]
  },
  {
   "cell_type": "code",
   "execution_count": 2,
   "metadata": {},
   "outputs": [],
   "source": [
    "import statsmodels.formula.api as smf"
   ]
  },
  {
   "cell_type": "markdown",
   "metadata": {
    "slideshow": {
     "slide_type": "slide"
    }
   },
   "source": [
    "## The Dataset: Colonial History and Life Expectancy"
   ]
  },
  {
   "cell_type": "code",
   "execution_count": 4,
   "metadata": {},
   "outputs": [],
   "source": [
    "import pandas as pd\n",
    "import numpy as np\n",
    "colonial_df = pd.read_csv(\"colonial_life_expectancy.csv\")"
   ]
  },
  {
   "cell_type": "code",
   "execution_count": 5,
   "metadata": {},
   "outputs": [
    {
     "data": {
      "text/html": [
       "<div>\n",
       "<style scoped>\n",
       "    .dataframe tbody tr th:only-of-type {\n",
       "        vertical-align: middle;\n",
       "    }\n",
       "\n",
       "    .dataframe tbody tr th {\n",
       "        vertical-align: top;\n",
       "    }\n",
       "\n",
       "    .dataframe thead th {\n",
       "        text-align: right;\n",
       "    }\n",
       "</style>\n",
       "<table border=\"1\" class=\"dataframe\">\n",
       "  <thead>\n",
       "    <tr style=\"text-align: right;\">\n",
       "      <th></th>\n",
       "      <th>country</th>\n",
       "      <th>ind_date</th>\n",
       "      <th>yrs_since_ind</th>\n",
       "      <th>year</th>\n",
       "      <th>life_exp</th>\n",
       "    </tr>\n",
       "  </thead>\n",
       "  <tbody>\n",
       "    <tr>\n",
       "      <th>0</th>\n",
       "      <td>Afghanistan</td>\n",
       "      <td>191908</td>\n",
       "      <td>97</td>\n",
       "      <td>2016</td>\n",
       "      <td>62.7</td>\n",
       "    </tr>\n",
       "    <tr>\n",
       "      <th>1</th>\n",
       "      <td>Albania</td>\n",
       "      <td>191307</td>\n",
       "      <td>103</td>\n",
       "      <td>2016</td>\n",
       "      <td>76.4</td>\n",
       "    </tr>\n",
       "    <tr>\n",
       "      <th>2</th>\n",
       "      <td>Algeria</td>\n",
       "      <td>196207</td>\n",
       "      <td>54</td>\n",
       "      <td>2016</td>\n",
       "      <td>76.4</td>\n",
       "    </tr>\n",
       "    <tr>\n",
       "      <th>3</th>\n",
       "      <td>Angola</td>\n",
       "      <td>197511</td>\n",
       "      <td>41</td>\n",
       "      <td>2016</td>\n",
       "      <td>62.6</td>\n",
       "    </tr>\n",
       "    <tr>\n",
       "      <th>4</th>\n",
       "      <td>Antigua and Barbuda</td>\n",
       "      <td>198111</td>\n",
       "      <td>35</td>\n",
       "      <td>2016</td>\n",
       "      <td>75.0</td>\n",
       "    </tr>\n",
       "    <tr>\n",
       "      <th>...</th>\n",
       "      <td>...</td>\n",
       "      <td>...</td>\n",
       "      <td>...</td>\n",
       "      <td>...</td>\n",
       "      <td>...</td>\n",
       "    </tr>\n",
       "    <tr>\n",
       "      <th>178</th>\n",
       "      <td>Venezuela</td>\n",
       "      <td>183001</td>\n",
       "      <td>186</td>\n",
       "      <td>2016</td>\n",
       "      <td>74.1</td>\n",
       "    </tr>\n",
       "    <tr>\n",
       "      <th>179</th>\n",
       "      <td>Vietnam</td>\n",
       "      <td>195407</td>\n",
       "      <td>62</td>\n",
       "      <td>2016</td>\n",
       "      <td>76.3</td>\n",
       "    </tr>\n",
       "    <tr>\n",
       "      <th>180</th>\n",
       "      <td>Yemen</td>\n",
       "      <td>196711</td>\n",
       "      <td>49</td>\n",
       "      <td>2016</td>\n",
       "      <td>65.3</td>\n",
       "    </tr>\n",
       "    <tr>\n",
       "      <th>181</th>\n",
       "      <td>Zambia</td>\n",
       "      <td>196410</td>\n",
       "      <td>52</td>\n",
       "      <td>2016</td>\n",
       "      <td>62.3</td>\n",
       "    </tr>\n",
       "    <tr>\n",
       "      <th>182</th>\n",
       "      <td>Zimbabwe</td>\n",
       "      <td>198004</td>\n",
       "      <td>36</td>\n",
       "      <td>2016</td>\n",
       "      <td>61.4</td>\n",
       "    </tr>\n",
       "  </tbody>\n",
       "</table>\n",
       "<p>183 rows × 5 columns</p>\n",
       "</div>"
      ],
      "text/plain": [
       "                 country  ind_date  yrs_since_ind  year  life_exp\n",
       "0            Afghanistan    191908             97  2016      62.7\n",
       "1                Albania    191307            103  2016      76.4\n",
       "2                Algeria    196207             54  2016      76.4\n",
       "3                 Angola    197511             41  2016      62.6\n",
       "4    Antigua and Barbuda    198111             35  2016      75.0\n",
       "..                   ...       ...            ...   ...       ...\n",
       "178            Venezuela    183001            186  2016      74.1\n",
       "179              Vietnam    195407             62  2016      76.3\n",
       "180                Yemen    196711             49  2016      65.3\n",
       "181               Zambia    196410             52  2016      62.3\n",
       "182             Zimbabwe    198004             36  2016      61.4\n",
       "\n",
       "[183 rows x 5 columns]"
      ]
     },
     "execution_count": 5,
     "metadata": {},
     "output_type": "execute_result"
    }
   ],
   "source": [
    "colonial_df"
   ]
  },
  {
   "cell_type": "markdown",
   "metadata": {
    "slideshow": {
     "slide_type": "slide"
    }
   },
   "source": [
    "## Exploratory Data Analysis\n",
    "\n",
    "* NOTE: YOU ACTUALLY DO NEED TO DO THIS IRL..."
   ]
  },
  {
   "cell_type": "code",
   "execution_count": 19,
   "metadata": {},
   "outputs": [
    {
     "data": {
      "image/png": "[encoded data removed]",
      "text/plain": [
       "<Figure size 432x288 with 1 Axes>"
      ]
     },
     "metadata": {
      "needs_background": "light"
     },
     "output_type": "display_data"
    }
   ],
   "source": [
    "import matplotlib.pyplot as plt\n",
    "plt.boxplot(colonial_df['life_exp'], vert=False)\n",
    "plt.xlabel(\"Life Expectancy (Years)\")\n",
    "# https://matplotlib.org/3.1.1/api/_as_gen/matplotlib.pyplot.tick_params.html\n",
    "plt.tick_params(axis='y', which='both', left=False, labelleft=False)\n",
    "plt.show()"
   ]
  },
  {
   "cell_type": "markdown",
   "metadata": {
    "slideshow": {
     "slide_type": "slide"
    }
   },
   "source": [
    "## Outliers?"
   ]
  },
  {
   "cell_type": "code",
   "execution_count": 23,
   "metadata": {},
   "outputs": [
    {
     "data": {
      "text/html": [
       "<div>\n",
       "<style scoped>\n",
       "    .dataframe tbody tr th:only-of-type {\n",
       "        vertical-align: middle;\n",
       "    }\n",
       "\n",
       "    .dataframe tbody tr th {\n",
       "        vertical-align: top;\n",
       "    }\n",
       "\n",
       "    .dataframe thead th {\n",
       "        text-align: right;\n",
       "    }\n",
       "</style>\n",
       "<table border=\"1\" class=\"dataframe\">\n",
       "  <thead>\n",
       "    <tr style=\"text-align: right;\">\n",
       "      <th></th>\n",
       "      <th>country</th>\n",
       "      <th>ind_date</th>\n",
       "      <th>yrs_since_ind</th>\n",
       "      <th>year</th>\n",
       "      <th>life_exp</th>\n",
       "    </tr>\n",
       "  </thead>\n",
       "  <tbody>\n",
       "    <tr>\n",
       "      <th>94</th>\n",
       "      <td>Lesotho</td>\n",
       "      <td>196610</td>\n",
       "      <td>50</td>\n",
       "      <td>2016</td>\n",
       "      <td>52.9</td>\n",
       "    </tr>\n",
       "    <tr>\n",
       "      <th>31</th>\n",
       "      <td>Central African Republic</td>\n",
       "      <td>196010</td>\n",
       "      <td>56</td>\n",
       "      <td>2016</td>\n",
       "      <td>53.0</td>\n",
       "    </tr>\n",
       "    <tr>\n",
       "      <th>145</th>\n",
       "      <td>Sierra Leone</td>\n",
       "      <td>196104</td>\n",
       "      <td>55</td>\n",
       "      <td>2016</td>\n",
       "      <td>53.1</td>\n",
       "    </tr>\n",
       "    <tr>\n",
       "      <th>32</th>\n",
       "      <td>Chad</td>\n",
       "      <td>196008</td>\n",
       "      <td>56</td>\n",
       "      <td>2016</td>\n",
       "      <td>54.3</td>\n",
       "    </tr>\n",
       "    <tr>\n",
       "      <th>39</th>\n",
       "      <td>Côte d'Ivoire</td>\n",
       "      <td>196008</td>\n",
       "      <td>56</td>\n",
       "      <td>2016</td>\n",
       "      <td>54.6</td>\n",
       "    </tr>\n",
       "    <tr>\n",
       "      <th>...</th>\n",
       "      <td>...</td>\n",
       "      <td>...</td>\n",
       "      <td>...</td>\n",
       "      <td>...</td>\n",
       "      <td>...</td>\n",
       "    </tr>\n",
       "    <tr>\n",
       "      <th>146</th>\n",
       "      <td>Singapore</td>\n",
       "      <td>196508</td>\n",
       "      <td>51</td>\n",
       "      <td>2016</td>\n",
       "      <td>82.9</td>\n",
       "    </tr>\n",
       "    <tr>\n",
       "      <th>7</th>\n",
       "      <td>Australia</td>\n",
       "      <td>190101</td>\n",
       "      <td>115</td>\n",
       "      <td>2016</td>\n",
       "      <td>82.9</td>\n",
       "    </tr>\n",
       "    <tr>\n",
       "      <th>154</th>\n",
       "      <td>Spain</td>\n",
       "      <td>147901</td>\n",
       "      <td>537</td>\n",
       "      <td>2016</td>\n",
       "      <td>83.1</td>\n",
       "    </tr>\n",
       "    <tr>\n",
       "      <th>159</th>\n",
       "      <td>Switzerland</td>\n",
       "      <td>129108</td>\n",
       "      <td>725</td>\n",
       "      <td>2016</td>\n",
       "      <td>83.3</td>\n",
       "    </tr>\n",
       "    <tr>\n",
       "      <th>84</th>\n",
       "      <td>Japan</td>\n",
       "      <td>159000</td>\n",
       "      <td>426</td>\n",
       "      <td>2016</td>\n",
       "      <td>84.2</td>\n",
       "    </tr>\n",
       "  </tbody>\n",
       "</table>\n",
       "<p>183 rows × 5 columns</p>\n",
       "</div>"
      ],
      "text/plain": [
       "                      country  ind_date  yrs_since_ind  year  life_exp\n",
       "94                    Lesotho    196610             50  2016      52.9\n",
       "31   Central African Republic    196010             56  2016      53.0\n",
       "145              Sierra Leone    196104             55  2016      53.1\n",
       "32                       Chad    196008             56  2016      54.3\n",
       "39              Côte d'Ivoire    196008             56  2016      54.6\n",
       "..                        ...       ...            ...   ...       ...\n",
       "146                 Singapore    196508             51  2016      82.9\n",
       "7                   Australia    190101            115  2016      82.9\n",
       "154                     Spain    147901            537  2016      83.1\n",
       "159               Switzerland    129108            725  2016      83.3\n",
       "84                      Japan    159000            426  2016      84.2\n",
       "\n",
       "[183 rows x 5 columns]"
      ]
     },
     "execution_count": 23,
     "metadata": {},
     "output_type": "execute_result"
    }
   ],
   "source": [
    "colonial_df.sort_values(by='life_exp')"
   ]
  },
  {
   "cell_type": "markdown",
   "metadata": {},
   "source": [
    "(btw, \"Lesotho\" is pronounced \"Leh-Soo-Too\"... fun fact)"
   ]
  },
  {
   "cell_type": "markdown",
   "metadata": {
    "slideshow": {
     "slide_type": "slide"
    }
   },
   "source": [
    "## Scatterplottin"
   ]
  },
  {
   "cell_type": "code",
   "execution_count": 25,
   "metadata": {},
   "outputs": [
    {
     "data": {
      "image/png": "[encoded data removed]",
      "text/plain": [
       "<Figure size 432x288 with 1 Axes>"
      ]
     },
     "metadata": {
      "needs_background": "light"
     },
     "output_type": "display_data"
    }
   ],
   "source": [
    "plt.scatter(colonial_df['yrs_since_ind'], colonial_df['life_exp'])\n",
    "plt.xlabel(\"Year Since Independence\")\n",
    "plt.ylabel(\"Life Expectancy (Years)\")\n",
    "plt.show()"
   ]
  },
  {
   "cell_type": "markdown",
   "metadata": {
    "slideshow": {
     "slide_type": "slide"
    }
   },
   "source": [
    "(sidebar: for variables with skewed distributions like years since independence, you really should take the log to \"de-skew\" them)"
   ]
  },
  {
   "cell_type": "code",
   "execution_count": 65,
   "metadata": {},
   "outputs": [
    {
     "data": {
      "image/png": "[encoded data removed]",
      "text/plain": [
       "<Figure size 432x288 with 1 Axes>"
      ]
     },
     "metadata": {
      "needs_background": "light"
     },
     "output_type": "display_data"
    }
   ],
   "source": [
    "plt.scatter(np.log(colonial_df['yrs_since_ind']), colonial_df['life_exp'])\n",
    "plt.xlabel(\"Log(Year Since Independence)\")\n",
    "plt.ylabel(\"Life Expectancy (Years)\")\n",
    "plt.show()"
   ]
  },
  {
   "cell_type": "markdown",
   "metadata": {
    "slideshow": {
     "slide_type": "slide"
    }
   },
   "source": [
    "## Before we estimate the model, remember what our hypotheses are!\n",
    "\n",
    "* $H_0$: Changes in the independent variable have no effect on the dependent variable\n",
    "    * i.e., $\\beta_1 = 0$\n",
    "    * So, in our case: **number of years since independence** has **no effect** on **life expectancy**\n",
    "* $H_A$: Changes in the independent variable have some (nonzero) effect on the dependent variable\n",
    "    * i.e., $\\beta_1 \\neq 0$\n",
    "    * In our case: **number of years since independence** has an **effect** on **life expectancy**\n",
    "* (Remember our model: $Y_i = \\beta_0 + \\beta_1X_i + \\varepsilon_i$)\n",
    "    * $\\textsf{LifeExpectancy}_i = \\beta_0 + \\beta_1\\textsf{YrsSinceIndependence}_i + \\varepsilon_i$"
   ]
  },
  {
   "cell_type": "code",
   "execution_count": 28,
   "metadata": {
    "slideshow": {
     "slide_type": "slide"
    }
   },
   "outputs": [],
   "source": [
    "results = smf.ols('life_exp ~ yrs_since_ind', data=colonial_df).fit()"
   ]
  },
  {
   "cell_type": "markdown",
   "metadata": {},
   "source": [
    "(Why do we have to add `.fit()`?)"
   ]
  },
  {
   "cell_type": "code",
   "execution_count": 79,
   "metadata": {},
   "outputs": [
    {
     "data": {
      "text/html": [
       "<table class=\"simpletable\">\n",
       "<caption>OLS Regression Results</caption>\n",
       "<tr>\n",
       "  <th>Dep. Variable:</th>        <td>life_exp</td>     <th>  R-squared:         </th> <td>   0.164</td>\n",
       "</tr>\n",
       "<tr>\n",
       "  <th>Model:</th>                   <td>OLS</td>       <th>  Adj. R-squared:    </th> <td>   0.159</td>\n",
       "</tr>\n",
       "<tr>\n",
       "  <th>Method:</th>             <td>Least Squares</td>  <th>  F-statistic:       </th> <td>   35.52</td>\n",
       "</tr>\n",
       "<tr>\n",
       "  <th>Date:</th>             <td>Tue, 10 Nov 2020</td> <th>  Prob (F-statistic):</th> <td>1.29e-08</td>\n",
       "</tr>\n",
       "<tr>\n",
       "  <th>Time:</th>                 <td>00:23:41</td>     <th>  Log-Likelihood:    </th> <td> -614.72</td>\n",
       "</tr>\n",
       "<tr>\n",
       "  <th>No. Observations:</th>      <td>   183</td>      <th>  AIC:               </th> <td>   1233.</td>\n",
       "</tr>\n",
       "<tr>\n",
       "  <th>Df Residuals:</th>          <td>   181</td>      <th>  BIC:               </th> <td>   1240.</td>\n",
       "</tr>\n",
       "<tr>\n",
       "  <th>Df Model:</th>              <td>     1</td>      <th>                     </th>     <td> </td>   \n",
       "</tr>\n",
       "<tr>\n",
       "  <th>Covariance Type:</th>      <td>nonrobust</td>    <th>                     </th>     <td> </td>   \n",
       "</tr>\n",
       "</table>\n",
       "<table class=\"simpletable\">\n",
       "<tr>\n",
       "        <td></td>           <th>coef</th>     <th>std err</th>      <th>t</th>      <th>P>|t|</th>  <th>[0.025</th>    <th>0.975]</th>  \n",
       "</tr>\n",
       "<tr>\n",
       "  <th>Intercept</th>     <td>   69.5870</td> <td>    0.636</td> <td>  109.483</td> <td> 0.000</td> <td>   68.333</td> <td>   70.841</td>\n",
       "</tr>\n",
       "<tr>\n",
       "  <th>yrs_since_ind</th> <td>    0.0169</td> <td>    0.003</td> <td>    5.960</td> <td> 0.000</td> <td>    0.011</td> <td>    0.022</td>\n",
       "</tr>\n",
       "</table>\n",
       "<table class=\"simpletable\">\n",
       "<tr>\n",
       "  <th>Omnibus:</th>       <td> 8.399</td> <th>  Durbin-Watson:     </th> <td>   1.912</td>\n",
       "</tr>\n",
       "<tr>\n",
       "  <th>Prob(Omnibus):</th> <td> 0.015</td> <th>  Jarque-Bera (JB):  </th> <td>   8.177</td>\n",
       "</tr>\n",
       "<tr>\n",
       "  <th>Skew:</th>          <td>-0.470</td> <th>  Prob(JB):          </th> <td>  0.0168</td>\n",
       "</tr>\n",
       "<tr>\n",
       "  <th>Kurtosis:</th>      <td> 2.564</td> <th>  Cond. No.          </th> <td>    275.</td>\n",
       "</tr>\n",
       "</table>"
      ],
      "text/plain": [
       "<class 'statsmodels.iolib.summary.Summary'>\n",
       "\"\"\"\n",
       "                            OLS Regression Results                            \n",
       "==============================================================================\n",
       "Dep. Variable:               life_exp   R-squared:                       0.164\n",
       "Model:                            OLS   Adj. R-squared:                  0.159\n",
       "Method:                 Least Squares   F-statistic:                     35.52\n",
       "Date:                Tue, 10 Nov 2020   Prob (F-statistic):           1.29e-08\n",
       "Time:                        00:23:41   Log-Likelihood:                -614.72\n",
       "No. Observations:                 183   AIC:                             1233.\n",
       "Df Residuals:                     181   BIC:                             1240.\n",
       "Df Model:                           1                                         \n",
       "Covariance Type:            nonrobust                                         \n",
       "=================================================================================\n",
       "                    coef    std err          t      P>|t|      [0.025      0.975]\n",
       "---------------------------------------------------------------------------------\n",
       "Intercept        69.5870      0.636    109.483      0.000      68.333      70.841\n",
       "yrs_since_ind     0.0169      0.003      5.960      0.000       0.011       0.022\n",
       "==============================================================================\n",
       "Omnibus:                        8.399   Durbin-Watson:                   1.912\n",
       "Prob(Omnibus):                  0.015   Jarque-Bera (JB):                8.177\n",
       "Skew:                          -0.470   Prob(JB):                       0.0168\n",
       "Kurtosis:                       2.564   Cond. No.                         275.\n",
       "==============================================================================\n",
       "\"\"\""
      ]
     },
     "execution_count": 79,
     "metadata": {},
     "output_type": "execute_result"
    }
   ],
   "source": [
    "summary = results.summary()\n",
    "summary.extra_txt = None; summary"
   ]
  },
  {
   "cell_type": "code",
   "execution_count": 58,
   "metadata": {
    "slideshow": {
     "slide_type": "slide"
    }
   },
   "outputs": [
    {
     "data": {
      "image/png": "[encoded data removed]",
      "text/plain": [
       "<Figure size 432x288 with 1 Axes>"
      ]
     },
     "metadata": {
      "needs_background": "light"
     },
     "output_type": "display_data"
    }
   ],
   "source": [
    "import seaborn as sns\n",
    "sns.regplot(x='yrs_since_ind', y='life_exp', data=colonial_df)\n",
    "plt.title(\"All Countries\")\n",
    "plt.xlabel(\"Years Since Independence\")\n",
    "plt.ylabel(\"Life Expectancy (Years)\")\n",
    "plt.show()"
   ]
  },
  {
   "cell_type": "markdown",
   "metadata": {
    "slideshow": {
     "slide_type": "slide"
    }
   },
   "source": [
    "## Appendix I: Removing Outliers"
   ]
  },
  {
   "cell_type": "markdown",
   "metadata": {},
   "source": [
    "* Sketchy, but in this case we have a historical reason for removing outliers: we can revise our population of interest to be *countries that achieved independence since the 1648 [Treaty of Westphalia](https://en.wikipedia.org/wiki/Peace_of_Westphalia)*, which (long story short) inaugurated the era of the sovereign nation-state"
   ]
  },
  {
   "cell_type": "code",
   "execution_count": 40,
   "metadata": {},
   "outputs": [],
   "source": [
    "tw_df = colonial_df[colonial_df['yrs_since_ind'] < 368].copy()"
   ]
  },
  {
   "cell_type": "code",
   "execution_count": 43,
   "metadata": {},
   "outputs": [
    {
     "name": "stdout",
     "output_type": "stream",
     "text": [
      "Number of countries before dropping outliers: 183\n",
      "Number of countries after dropping outliers: 168\n"
     ]
    }
   ],
   "source": [
    "print(\"Number of countries before dropping outliers: \" + str(len(colonial_df)))\n",
    "print(\"Number of countries after dropping outliers: \" + str(len(tw_df)))"
   ]
  },
  {
   "cell_type": "code",
   "execution_count": 46,
   "metadata": {
    "slideshow": {
     "slide_type": "slide"
    }
   },
   "outputs": [
    {
     "data": {
      "image/png": "[encoded data removed]",
      "text/plain": [
       "<Figure size 432x288 with 1 Axes>"
      ]
     },
     "metadata": {
      "needs_background": "light"
     },
     "output_type": "display_data"
    }
   ],
   "source": [
    "plt.scatter(tw_df['yrs_since_ind'], tw_df['life_exp'])\n",
    "plt.show()"
   ]
  },
  {
   "cell_type": "code",
   "execution_count": 44,
   "metadata": {
    "slideshow": {
     "slide_type": "slide"
    }
   },
   "outputs": [],
   "source": [
    "results_tw = smf.ols('life_exp ~ yrs_since_ind', data=tw_df).fit()"
   ]
  },
  {
   "cell_type": "code",
   "execution_count": 80,
   "metadata": {},
   "outputs": [
    {
     "data": {
      "text/html": [
       "<table class=\"simpletable\">\n",
       "<caption>OLS Regression Results</caption>\n",
       "<tr>\n",
       "  <th>Dep. Variable:</th>        <td>life_exp</td>     <th>  R-squared:         </th> <td>   0.110</td>\n",
       "</tr>\n",
       "<tr>\n",
       "  <th>Model:</th>                   <td>OLS</td>       <th>  Adj. R-squared:    </th> <td>   0.105</td>\n",
       "</tr>\n",
       "<tr>\n",
       "  <th>Method:</th>             <td>Least Squares</td>  <th>  F-statistic:       </th> <td>   20.61</td>\n",
       "</tr>\n",
       "<tr>\n",
       "  <th>Date:</th>             <td>Tue, 10 Nov 2020</td> <th>  Prob (F-statistic):</th> <td>1.08e-05</td>\n",
       "</tr>\n",
       "<tr>\n",
       "  <th>Time:</th>                 <td>00:24:07</td>     <th>  Log-Likelihood:    </th> <td> -565.18</td>\n",
       "</tr>\n",
       "<tr>\n",
       "  <th>No. Observations:</th>      <td>   168</td>      <th>  AIC:               </th> <td>   1134.</td>\n",
       "</tr>\n",
       "<tr>\n",
       "  <th>Df Residuals:</th>          <td>   166</td>      <th>  BIC:               </th> <td>   1141.</td>\n",
       "</tr>\n",
       "<tr>\n",
       "  <th>Df Model:</th>              <td>     1</td>      <th>                     </th>     <td> </td>   \n",
       "</tr>\n",
       "<tr>\n",
       "  <th>Covariance Type:</th>      <td>nonrobust</td>    <th>                     </th>     <td> </td>   \n",
       "</tr>\n",
       "</table>\n",
       "<table class=\"simpletable\">\n",
       "<tr>\n",
       "        <td></td>           <th>coef</th>     <th>std err</th>      <th>t</th>      <th>P>|t|</th>  <th>[0.025</th>    <th>0.975]</th>  \n",
       "</tr>\n",
       "<tr>\n",
       "  <th>Intercept</th>     <td>   67.8297</td> <td>    0.889</td> <td>   76.285</td> <td> 0.000</td> <td>   66.074</td> <td>   69.585</td>\n",
       "</tr>\n",
       "<tr>\n",
       "  <th>yrs_since_ind</th> <td>    0.0387</td> <td>    0.009</td> <td>    4.539</td> <td> 0.000</td> <td>    0.022</td> <td>    0.056</td>\n",
       "</tr>\n",
       "</table>\n",
       "<table class=\"simpletable\">\n",
       "<tr>\n",
       "  <th>Omnibus:</th>       <td> 7.032</td> <th>  Durbin-Watson:     </th> <td>   1.876</td>\n",
       "</tr>\n",
       "<tr>\n",
       "  <th>Prob(Omnibus):</th> <td> 0.030</td> <th>  Jarque-Bera (JB):  </th> <td>   6.257</td>\n",
       "</tr>\n",
       "<tr>\n",
       "  <th>Skew:</th>          <td>-0.399</td> <th>  Prob(JB):          </th> <td>  0.0438</td>\n",
       "</tr>\n",
       "<tr>\n",
       "  <th>Kurtosis:</th>      <td> 2.493</td> <th>  Cond. No.          </th> <td>    171.</td>\n",
       "</tr>\n",
       "</table>"
      ],
      "text/plain": [
       "<class 'statsmodels.iolib.summary.Summary'>\n",
       "\"\"\"\n",
       "                            OLS Regression Results                            \n",
       "==============================================================================\n",
       "Dep. Variable:               life_exp   R-squared:                       0.110\n",
       "Model:                            OLS   Adj. R-squared:                  0.105\n",
       "Method:                 Least Squares   F-statistic:                     20.61\n",
       "Date:                Tue, 10 Nov 2020   Prob (F-statistic):           1.08e-05\n",
       "Time:                        00:24:07   Log-Likelihood:                -565.18\n",
       "No. Observations:                 168   AIC:                             1134.\n",
       "Df Residuals:                     166   BIC:                             1141.\n",
       "Df Model:                           1                                         \n",
       "Covariance Type:            nonrobust                                         \n",
       "=================================================================================\n",
       "                    coef    std err          t      P>|t|      [0.025      0.975]\n",
       "---------------------------------------------------------------------------------\n",
       "Intercept        67.8297      0.889     76.285      0.000      66.074      69.585\n",
       "yrs_since_ind     0.0387      0.009      4.539      0.000       0.022       0.056\n",
       "==============================================================================\n",
       "Omnibus:                        7.032   Durbin-Watson:                   1.876\n",
       "Prob(Omnibus):                  0.030   Jarque-Bera (JB):                6.257\n",
       "Skew:                          -0.399   Prob(JB):                       0.0438\n",
       "Kurtosis:                       2.493   Cond. No.                         171.\n",
       "==============================================================================\n",
       "\"\"\""
      ]
     },
     "execution_count": 80,
     "metadata": {},
     "output_type": "execute_result"
    }
   ],
   "source": [
    "tw_summary = results_tw.summary()\n",
    "tw_summary.extra_txt = None; tw_summary"
   ]
  },
  {
   "cell_type": "code",
   "execution_count": 81,
   "metadata": {
    "slideshow": {
     "slide_type": "slide"
    }
   },
   "outputs": [
    {
     "data": {
      "image/png": "[encoded data removed]",
      "text/plain": [
       "<Figure size 432x288 with 1 Axes>"
      ]
     },
     "metadata": {
      "needs_background": "light"
     },
     "output_type": "display_data"
    }
   ],
   "source": [
    "import seaborn as sns\n",
    "sns.regplot(x='yrs_since_ind', y='life_exp', data=tw_df)\n",
    "plt.title(\"Post-Westphalia Countries\")\n",
    "plt.xlabel(\"Years Since Independence\")\n",
    "plt.ylabel(\"Life Expectancy (Years)\")\n",
    "plt.show()"
   ]
  },
  {
   "cell_type": "markdown",
   "metadata": {
    "slideshow": {
     "slide_type": "slide"
    }
   },
   "source": [
    "## Appendix II: ...You really should log the skewed variables"
   ]
  },
  {
   "cell_type": "code",
   "execution_count": 82,
   "metadata": {},
   "outputs": [],
   "source": [
    "colonial_df['log_yrs_since_ind'] = colonial_df['yrs_since_ind'].apply(np.log)"
   ]
  },
  {
   "cell_type": "code",
   "execution_count": 83,
   "metadata": {},
   "outputs": [],
   "source": [
    "results_log = smf.ols('life_exp ~ log_yrs_since_ind', data=colonial_df).fit()"
   ]
  },
  {
   "cell_type": "code",
   "execution_count": 84,
   "metadata": {},
   "outputs": [
    {
     "data": {
      "text/html": [
       "<table class=\"simpletable\">\n",
       "<caption>OLS Regression Results</caption>\n",
       "<tr>\n",
       "  <th>Dep. Variable:</th>        <td>life_exp</td>     <th>  R-squared:         </th> <td>   0.190</td>\n",
       "</tr>\n",
       "<tr>\n",
       "  <th>Model:</th>                   <td>OLS</td>       <th>  Adj. R-squared:    </th> <td>   0.186</td>\n",
       "</tr>\n",
       "<tr>\n",
       "  <th>Method:</th>             <td>Least Squares</td>  <th>  F-statistic:       </th> <td>   42.53</td>\n",
       "</tr>\n",
       "<tr>\n",
       "  <th>Date:</th>             <td>Tue, 10 Nov 2020</td> <th>  Prob (F-statistic):</th> <td>6.74e-10</td>\n",
       "</tr>\n",
       "<tr>\n",
       "  <th>Time:</th>                 <td>00:24:32</td>     <th>  Log-Likelihood:    </th> <td> -611.80</td>\n",
       "</tr>\n",
       "<tr>\n",
       "  <th>No. Observations:</th>      <td>   183</td>      <th>  AIC:               </th> <td>   1228.</td>\n",
       "</tr>\n",
       "<tr>\n",
       "  <th>Df Residuals:</th>          <td>   181</td>      <th>  BIC:               </th> <td>   1234.</td>\n",
       "</tr>\n",
       "<tr>\n",
       "  <th>Df Model:</th>              <td>     1</td>      <th>                     </th>     <td> </td>   \n",
       "</tr>\n",
       "<tr>\n",
       "  <th>Covariance Type:</th>      <td>nonrobust</td>    <th>                     </th>     <td> </td>   \n",
       "</tr>\n",
       "</table>\n",
       "<table class=\"simpletable\">\n",
       "<tr>\n",
       "          <td></td>             <th>coef</th>     <th>std err</th>      <th>t</th>      <th>P>|t|</th>  <th>[0.025</th>    <th>0.975]</th>  \n",
       "</tr>\n",
       "<tr>\n",
       "  <th>Intercept</th>         <td>   56.1455</td> <td>    2.452</td> <td>   22.897</td> <td> 0.000</td> <td>   51.307</td> <td>   60.984</td>\n",
       "</tr>\n",
       "<tr>\n",
       "  <th>log_yrs_since_ind</th> <td>    3.5956</td> <td>    0.551</td> <td>    6.521</td> <td> 0.000</td> <td>    2.508</td> <td>    4.684</td>\n",
       "</tr>\n",
       "</table>\n",
       "<table class=\"simpletable\">\n",
       "<tr>\n",
       "  <th>Omnibus:</th>       <td> 8.079</td> <th>  Durbin-Watson:     </th> <td>   1.850</td>\n",
       "</tr>\n",
       "<tr>\n",
       "  <th>Prob(Omnibus):</th> <td> 0.018</td> <th>  Jarque-Bera (JB):  </th> <td>   8.422</td>\n",
       "</tr>\n",
       "<tr>\n",
       "  <th>Skew:</th>          <td>-0.505</td> <th>  Prob(JB):          </th> <td>  0.0148</td>\n",
       "</tr>\n",
       "<tr>\n",
       "  <th>Kurtosis:</th>      <td> 2.712</td> <th>  Cond. No.          </th> <td>    22.5</td>\n",
       "</tr>\n",
       "</table>"
      ],
      "text/plain": [
       "<class 'statsmodels.iolib.summary.Summary'>\n",
       "\"\"\"\n",
       "                            OLS Regression Results                            \n",
       "==============================================================================\n",
       "Dep. Variable:               life_exp   R-squared:                       0.190\n",
       "Model:                            OLS   Adj. R-squared:                  0.186\n",
       "Method:                 Least Squares   F-statistic:                     42.53\n",
       "Date:                Tue, 10 Nov 2020   Prob (F-statistic):           6.74e-10\n",
       "Time:                        00:24:32   Log-Likelihood:                -611.80\n",
       "No. Observations:                 183   AIC:                             1228.\n",
       "Df Residuals:                     181   BIC:                             1234.\n",
       "Df Model:                           1                                         \n",
       "Covariance Type:            nonrobust                                         \n",
       "=====================================================================================\n",
       "                        coef    std err          t      P>|t|      [0.025      0.975]\n",
       "-------------------------------------------------------------------------------------\n",
       "Intercept            56.1455      2.452     22.897      0.000      51.307      60.984\n",
       "log_yrs_since_ind     3.5956      0.551      6.521      0.000       2.508       4.684\n",
       "==============================================================================\n",
       "Omnibus:                        8.079   Durbin-Watson:                   1.850\n",
       "Prob(Omnibus):                  0.018   Jarque-Bera (JB):                8.422\n",
       "Skew:                          -0.505   Prob(JB):                       0.0148\n",
       "Kurtosis:                       2.712   Cond. No.                         22.5\n",
       "==============================================================================\n",
       "\"\"\""
      ]
     },
     "execution_count": 84,
     "metadata": {},
     "output_type": "execute_result"
    }
   ],
   "source": [
    "summary_log = results_log.summary()\n",
    "summary_log.extra_txt = None; summary_log"
   ]
  },
  {
   "cell_type": "code",
   "execution_count": 85,
   "metadata": {
    "slideshow": {
     "slide_type": "slide"
    }
   },
   "outputs": [
    {
     "data": {
      "image/png": "[encoded data removed]",
      "text/plain": [
       "<Figure size 432x288 with 1 Axes>"
      ]
     },
     "metadata": {
      "needs_background": "light"
     },
     "output_type": "display_data"
    }
   ],
   "source": [
    "import seaborn as sns\n",
    "sns.regplot(x='log_yrs_since_ind', y='life_exp', data=colonial_df)\n",
    "plt.title(\"All Countries\")\n",
    "plt.xlabel(\"Log(Years Since Independence)\")\n",
    "plt.ylabel(\"Life Expectancy (Years)\")\n",
    "plt.show()"
   ]
  },
  {
   "cell_type": "markdown",
   "metadata": {
    "slideshow": {
     "slide_type": "slide"
    }
   },
   "source": [
    "(and now with just the post-Westphalia countries)"
   ]
  },
  {
   "cell_type": "code",
   "execution_count": 86,
   "metadata": {},
   "outputs": [],
   "source": [
    "tw_df['log_yrs_since_ind'] = tw_df['yrs_since_ind'].apply(np.log)"
   ]
  },
  {
   "cell_type": "code",
   "execution_count": 87,
   "metadata": {},
   "outputs": [],
   "source": [
    "results_tw_log = smf.ols('life_exp ~ log_yrs_since_ind', data=tw_df).fit()"
   ]
  },
  {
   "cell_type": "code",
   "execution_count": 88,
   "metadata": {},
   "outputs": [
    {
     "data": {
      "text/html": [
       "<table class=\"simpletable\">\n",
       "<caption>OLS Regression Results</caption>\n",
       "<tr>\n",
       "  <th>Dep. Variable:</th>        <td>life_exp</td>     <th>  R-squared:         </th> <td>   0.093</td>\n",
       "</tr>\n",
       "<tr>\n",
       "  <th>Model:</th>                   <td>OLS</td>       <th>  Adj. R-squared:    </th> <td>   0.088</td>\n",
       "</tr>\n",
       "<tr>\n",
       "  <th>Method:</th>             <td>Least Squares</td>  <th>  F-statistic:       </th> <td>   17.02</td>\n",
       "</tr>\n",
       "<tr>\n",
       "  <th>Date:</th>             <td>Tue, 10 Nov 2020</td> <th>  Prob (F-statistic):</th> <td>5.84e-05</td>\n",
       "</tr>\n",
       "<tr>\n",
       "  <th>Time:</th>                 <td>00:24:42</td>     <th>  Log-Likelihood:    </th> <td> -566.81</td>\n",
       "</tr>\n",
       "<tr>\n",
       "  <th>No. Observations:</th>      <td>   168</td>      <th>  AIC:               </th> <td>   1138.</td>\n",
       "</tr>\n",
       "<tr>\n",
       "  <th>Df Residuals:</th>          <td>   166</td>      <th>  BIC:               </th> <td>   1144.</td>\n",
       "</tr>\n",
       "<tr>\n",
       "  <th>Df Model:</th>              <td>     1</td>      <th>                     </th>     <td> </td>   \n",
       "</tr>\n",
       "<tr>\n",
       "  <th>Covariance Type:</th>      <td>nonrobust</td>    <th>                     </th>     <td> </td>   \n",
       "</tr>\n",
       "</table>\n",
       "<table class=\"simpletable\">\n",
       "<tr>\n",
       "          <td></td>             <th>coef</th>     <th>std err</th>      <th>t</th>      <th>P>|t|</th>  <th>[0.025</th>    <th>0.975]</th>  \n",
       "</tr>\n",
       "<tr>\n",
       "  <th>Intercept</th>         <td>   57.6155</td> <td>    3.297</td> <td>   17.477</td> <td> 0.000</td> <td>   51.107</td> <td>   64.124</td>\n",
       "</tr>\n",
       "<tr>\n",
       "  <th>log_yrs_since_ind</th> <td>    3.2210</td> <td>    0.781</td> <td>    4.125</td> <td> 0.000</td> <td>    1.680</td> <td>    4.763</td>\n",
       "</tr>\n",
       "</table>\n",
       "<table class=\"simpletable\">\n",
       "<tr>\n",
       "  <th>Omnibus:</th>       <td> 7.992</td> <th>  Durbin-Watson:     </th> <td>   1.857</td>\n",
       "</tr>\n",
       "<tr>\n",
       "  <th>Prob(Omnibus):</th> <td> 0.018</td> <th>  Jarque-Bera (JB):  </th> <td>   7.861</td>\n",
       "</tr>\n",
       "<tr>\n",
       "  <th>Skew:</th>          <td>-0.484</td> <th>  Prob(JB):          </th> <td>  0.0196</td>\n",
       "</tr>\n",
       "<tr>\n",
       "  <th>Kurtosis:</th>      <td> 2.570</td> <th>  Cond. No.          </th> <td>    26.8</td>\n",
       "</tr>\n",
       "</table>"
      ],
      "text/plain": [
       "<class 'statsmodels.iolib.summary.Summary'>\n",
       "\"\"\"\n",
       "                            OLS Regression Results                            \n",
       "==============================================================================\n",
       "Dep. Variable:               life_exp   R-squared:                       0.093\n",
       "Model:                            OLS   Adj. R-squared:                  0.088\n",
       "Method:                 Least Squares   F-statistic:                     17.02\n",
       "Date:                Tue, 10 Nov 2020   Prob (F-statistic):           5.84e-05\n",
       "Time:                        00:24:42   Log-Likelihood:                -566.81\n",
       "No. Observations:                 168   AIC:                             1138.\n",
       "Df Residuals:                     166   BIC:                             1144.\n",
       "Df Model:                           1                                         \n",
       "Covariance Type:            nonrobust                                         \n",
       "=====================================================================================\n",
       "                        coef    std err          t      P>|t|      [0.025      0.975]\n",
       "-------------------------------------------------------------------------------------\n",
       "Intercept            57.6155      3.297     17.477      0.000      51.107      64.124\n",
       "log_yrs_since_ind     3.2210      0.781      4.125      0.000       1.680       4.763\n",
       "==============================================================================\n",
       "Omnibus:                        7.992   Durbin-Watson:                   1.857\n",
       "Prob(Omnibus):                  0.018   Jarque-Bera (JB):                7.861\n",
       "Skew:                          -0.484   Prob(JB):                       0.0196\n",
       "Kurtosis:                       2.570   Cond. No.                         26.8\n",
       "==============================================================================\n",
       "\"\"\""
      ]
     },
     "execution_count": 88,
     "metadata": {},
     "output_type": "execute_result"
    }
   ],
   "source": [
    "results_summary = results_tw_log.summary()\n",
    "results_summary.extra_txt = None; results_summary"
   ]
  },
  {
   "cell_type": "code",
   "execution_count": 89,
   "metadata": {
    "slideshow": {
     "slide_type": "slide"
    }
   },
   "outputs": [
    {
     "data": {
      "image/png": "[encoded data removed]",
      "text/plain": [
       "<Figure size 432x288 with 1 Axes>"
      ]
     },
     "metadata": {
      "needs_background": "light"
     },
     "output_type": "display_data"
    }
   ],
   "source": [
    "import seaborn as sns\n",
    "sns.regplot(x='log_yrs_since_ind', y='life_exp', data=tw_df)\n",
    "plt.title(\"Post-Westphalia Countries\")\n",
    "plt.xlabel(\"Log(Years Since Independence)\")\n",
    "plt.ylabel(\"Life Expectancy (Years)\")\n",
    "plt.show()"
   ]
  },
  {
   "cell_type": "code",
   "execution_count": 92,
   "metadata": {
    "slideshow": {
     "slide_type": "skip"
    }
   },
   "outputs": [
    {
     "name": "stderr",
     "output_type": "stream",
     "text": [
      "[NbConvertApp] Converting notebook Week_09.ipynb to slides\n",
      "[NbConvertApp] Writing 489582 bytes to Week_09.slides.html\n"
     ]
    }
   ],
   "source": [
    "!jupyter nbconvert Week_09.ipynb --to slides --SlidesExporter.reveal_scroll=True"
   ]
  },
  {
   "cell_type": "code",
   "execution_count": null,
   "metadata": {
    "slideshow": {
     "slide_type": "skip"
    }
   },
   "outputs": [],
   "source": []
  }
 ],
 "metadata": {
  "kernelspec": {
   "display_name": "Python 3",
   "language": "python",
   "name": "python3"
  },
  "language_info": {
   "codemirror_mode": {
    "name": "ipython",
    "version": 3
   },
   "file_extension": ".py",
   "mimetype": "text/x-python",
   "name": "python",
   "nbconvert_exporter": "python",
   "pygments_lexer": "ipython3",
   "version": "3.8.4"
  }
 },
 "nbformat": 4,
 "nbformat_minor": 4
}
