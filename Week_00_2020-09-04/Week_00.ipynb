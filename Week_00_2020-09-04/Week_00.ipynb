{
 "cells": [
  {
   "cell_type": "markdown",
   "metadata": {
    "slideshow": {
     "slide_type": "slide"
    }
   },
   "source": [
    "# DSUA111: Data Science for Everyone\n",
    "\n",
    "## NYU, Fall 2020\n",
    "\n",
    "## Jeff Jacobs\n",
    "\n",
    "## https://github.com/jpowerj/dsua111-sections"
   ]
  },
  {
   "cell_type": "markdown",
   "metadata": {
    "slideshow": {
     "slide_type": "slide"
    }
   },
   "source": [
    "# Outline\n",
    "\n",
    "* Whomst?\n",
    "* Contacting Me\n",
    "* NYU Classes\n",
    "    * Syllabus\n",
    "* JupyterHub\n",
    "* Autograding\n",
    "    * NYU Drive\n",
    "* Piazza\n",
    "* Data Science??"
   ]
  },
  {
   "cell_type": "markdown",
   "metadata": {
    "slideshow": {
     "slide_type": "slide"
    }
   },
   "source": [
    "# Whomst?\n",
    "\n",
    "* Jeff\n",
    "* Columbia x NYU x JFI\n",
    "* Past life: Stanford CS, University of Maryland\n",
    "* Secret life: Failed Soundcloud rap producer\n",
    "* Summer life: Teaching CS + \"Design Thinking\" in West Bank and Gaza (Code 4 Palestine)"
   ]
  },
  {
   "cell_type": "markdown",
   "metadata": {
    "slideshow": {
     "slide_type": "slide"
    }
   },
   "source": [
    "# Contacting Me\n",
    "\n",
    "* Email: `jpj251@nyu.edu`\n",
    "* Office Hours: **Wednesdays 5-6pm** NYC time\n",
    "    * [Google Calendar Event](https://calendar.google.com/event?action=TEMPLATE&tmeid=MGo4YzhkcTA0djhhYzdvZzhlMzQyZm1wM2ZfMjAyMDA5MDJUMjEwMDAwWiBqam1haWwxMTFAbQ&tmsrc=jjmail111%40gmail.com&scp=ALL)\n",
    "    * [Zoom Link](https://nyu.zoom.us/j/6821254378)"
   ]
  },
  {
   "cell_type": "markdown",
   "metadata": {
    "slideshow": {
     "slide_type": "slide"
    }
   },
   "source": [
    "# NYU Classes\n",
    "\n",
    "* https://classes.nyu.edu\n",
    "* https://newclasses.nyu.edu/portal/site/609e7da1-32c6-4cf5-bf0a-d7e589f4f5c5\n",
    "    * Syllabus tab on left-hand side"
   ]
  },
  {
   "cell_type": "markdown",
   "metadata": {
    "slideshow": {
     "slide_type": "slide"
    }
   },
   "source": [
    "# JupyterHub\n",
    "\n",
    "* https://dsua-111-fall.rcnyu.org/hub/"
   ]
  },
  {
   "cell_type": "markdown",
   "metadata": {
    "slideshow": {
     "slide_type": "slide"
    }
   },
   "source": [
    "# Autograding\n",
    "\n",
    "* Submit assignments from *within* JupyterHub\n",
    "* Autograder runs on separate (instructor) JupyterHub server\n",
    "* Grades are entered on NYU Classes\n",
    "* Feedback documents are shared with you through NYU Drive (you'll receive an email)\n",
    "* Email me and/or post on Piazza if you don't understand your grade or think something's wrong!"
   ]
  },
  {
   "cell_type": "markdown",
   "metadata": {
    "slideshow": {
     "slide_type": "slide"
    }
   },
   "source": [
    "# NYU Drive\n",
    "\n",
    "* https://drive.nyu.edu"
   ]
  },
  {
   "cell_type": "markdown",
   "metadata": {
    "slideshow": {
     "slide_type": "slide"
    }
   },
   "source": [
    "# Piazza\n",
    "\n",
    "* https://piazza.com/class/kdsy8f0o7qo2gu\n",
    "* Can post anonymously to other students, but we can still see you :P"
   ]
  },
  {
   "cell_type": "markdown",
   "metadata": {
    "slideshow": {
     "slide_type": "slide"
    }
   },
   "source": [
    "# Data Science??\n",
    "\n",
    "* Computer Science x Statistics [x Social Science]\n",
    "* If you find yourself super interested in:\n",
    "    * Technical side of things (\"under the hood\"): Computer Science\n",
    "    * Mathematical side of things: Statistics\n",
    "    * Social phenomena we look at: Social Science"
   ]
  },
  {
   "cell_type": "markdown",
   "metadata": {
    "slideshow": {
     "slide_type": "slide"
    }
   },
   "source": [
    "# Questions?"
   ]
  },
  {
   "cell_type": "code",
   "execution_count": 1,
   "metadata": {},
   "outputs": [
    {
     "data": {
      "text/plain": [
       "2"
      ]
     },
     "execution_count": 1,
     "metadata": {},
     "output_type": "execute_result"
    }
   ],
   "source": [
    "1+1"
   ]
  },
  {
   "cell_type": "code",
   "execution_count": 1,
   "metadata": {
    "slideshow": {
     "slide_type": "skip"
    }
   },
   "outputs": [
    {
     "name": "stderr",
     "output_type": "stream",
     "text": [
      "[NbConvertApp] Converting notebook Week_00.ipynb to slides\n",
      "[NbConvertApp] Writing 283607 bytes to Week_00.slides.html\n"
     ]
    }
   ],
   "source": [
    "!jupyter nbconvert Week_00.ipynb --to slides --SlidesExporter.reveal_scroll=True"
   ]
  },
  {
   "cell_type": "code",
   "execution_count": null,
   "metadata": {
    "slideshow": {
     "slide_type": "skip"
    }
   },
   "outputs": [],
   "source": []
  }
 ],
 "metadata": {
  "kernelspec": {
   "display_name": "Python 3",
   "language": "python",
   "name": "python3"
  },
  "language_info": {
   "codemirror_mode": {
    "name": "ipython",
    "version": 3
   },
   "file_extension": ".py",
   "mimetype": "text/x-python",
   "name": "python",
   "nbconvert_exporter": "python",
   "pygments_lexer": "ipython3",
   "version": "3.8.4"
  }
 },
 "nbformat": 4,
 "nbformat_minor": 4
}
