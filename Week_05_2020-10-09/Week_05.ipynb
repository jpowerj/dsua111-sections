{
 "cells": [
  {
   "cell_type": "markdown",
   "metadata": {
    "slideshow": {
     "slide_type": "slide"
    }
   },
   "source": [
    "# Week 5: Pandas!\n",
    "\n",
    "## DSUA111: Data Science for Everyone, NYU, Fall 2020\n",
    "\n",
    "### TA Jeff, `jpj251@nyu.edu`\n",
    "\n",
    "* This slideshow: https://jjacobs.me/dsua111-sections/week-05\n",
    "* All materials: https://github.com/jpowerj/dsua111-sections"
   ]
  },
  {
   "cell_type": "markdown",
   "metadata": {
    "slideshow": {
     "slide_type": "slide"
    }
   },
   "source": [
    "## Outline\n",
    "\n",
    "0. HW1 Review\n",
    "1. Pandas!"
   ]
  },
  {
   "cell_type": "markdown",
   "metadata": {
    "slideshow": {
     "slide_type": "slide"
    }
   },
   "source": [
    "## HW1 Review\n",
    "\n",
    "The 4 most-missed questions (by far):\n",
    "* q5b (~40% wrong)\n",
    "* q7a (~35% wrong)\n",
    "* q7c (~30% wrong)\n",
    "* q7b (~25% wrong)"
   ]
  },
  {
   "cell_type": "markdown",
   "metadata": {
    "slideshow": {
     "slide_type": "slide"
    }
   },
   "source": [
    "<b> (Q5B) What is it about selecting on the dependent variable here that limits our ability to draw inferences about the causal relationship between the independent variables and the outcome?</b>\n",
    "\n",
    "A. There may other countries where people are happy, but which do not have easy access to the outdoors<br>\n",
    "B. Happiness may be difficult to measure for some countries<br>\n",
    "<b>---> C. We do not observe whether the factors common to the top performers might also be present in non-top performers</b><br>\n",
    "D. We must never draw causal conclusions from observational data"
   ]
  },
  {
   "cell_type": "markdown",
   "metadata": {
    "slideshow": {
     "slide_type": "fragment"
    }
   },
   "source": [
    "**A and B**: Unrelated to selecting on the independent variable (i.e., they are potential issues *whether or not the researcher selects on the independent variable)\n",
    "\n",
    "**D** is just false. We should be *more careful* when drawing causal conclusions from observational data (relative to experimental data), but it's not this all-or-nothing. Sometimes experimental data is flawed to the point that we shouldn't draw causal conclusions from it, and sometimes observational data is good enough that we *should* draw causal conclusions after a careful analysis. (see, e.g., https://www.journals.uchicago.edu/doi/abs/10.1086/700936?mobileUi=0& )"
   ]
  },
  {
   "cell_type": "markdown",
   "metadata": {
    "slideshow": {
     "slide_type": "slide"
    }
   },
   "source": [
    "## q7: Confounders\n",
    "\n",
    "For all of these, PLEASE remember: $Z$ is a confounder if (and only if) it has a causal impact on **BOTH** the **independent** **AND** the **dependent** variable.\n",
    "\n",
    "![confounder.png](confounder.png)"
   ]
  },
  {
   "cell_type": "markdown",
   "metadata": {
    "slideshow": {
     "slide_type": "slide"
    }
   },
   "source": [
    "<b> (Q7A) On average, people who join the Marine Corps are less likely than those that don't to be diagnosed with cervical cancer. Before we recommend joining up as a preventive treatment, what's a likely confounder?</b>\n",
    "\n",
    "A. Military health care plan<br>\n",
    "B. Exposure to radiation in civilian life <br>\n",
    "<b>---> C. Biological sex</b><br>\n",
    "D. Recruit training at Parris Island"
   ]
  },
  {
   "cell_type": "markdown",
   "metadata": {
    "slideshow": {
     "slide_type": "fragment"
    }
   },
   "source": [
    "![q7a.png](q7a.png)"
   ]
  },
  {
   "cell_type": "markdown",
   "metadata": {
    "slideshow": {
     "slide_type": "slide"
    }
   },
   "source": [
    "<b>(Q7B) On average, people who can vote in New York City are more likely to support the US team in the World Cup than people who can't. Before we recommend sending out voting materials to improve support for the US soccer team, what is a likely confounder?</b>\n",
    "\n",
    "A. Interest in soccer<br>\n",
    "B. Living in NYC<br>\n",
    "C. Age<br>\n",
    "<b>---> D. US citizenship status</b><br>"
   ]
  },
  {
   "cell_type": "markdown",
   "metadata": {
    "slideshow": {
     "slide_type": "fragment"
    }
   },
   "source": [
    "![q7b.png](q7b.png)"
   ]
  },
  {
   "cell_type": "markdown",
   "metadata": {
    "slideshow": {
     "slide_type": "slide"
    }
   },
   "source": [
    "<b> (Q7C) On average, people who eat dinner earlier in the day tend to be more at risk from flu. Before we suggest waiting until 11pm to ward off sickness, what is a likely confounder?</b>\n",
    "\n",
    "A. Income<br>\n",
    "B. Region of country<br>\n",
    "<b>---> C. Age</b><br>\n",
    "D. Degree of danger in occupation<br>"
   ]
  },
  {
   "cell_type": "markdown",
   "metadata": {
    "slideshow": {
     "slide_type": "fragment"
    }
   },
   "source": [
    "![q7c.png](q7c.png)"
   ]
  },
  {
   "cell_type": "markdown",
   "metadata": {
    "slideshow": {
     "slide_type": "slide"
    }
   },
   "source": [
    "## Pandas\n",
    "\n",
    "<img src=\"pandas.svg\" style=\"width:80%;\">"
   ]
  },
  {
   "cell_type": "markdown",
   "metadata": {
    "slideshow": {
     "slide_type": "slide"
    }
   },
   "source": [
    "## Importing a Dataset"
   ]
  },
  {
   "cell_type": "code",
   "execution_count": 1,
   "metadata": {},
   "outputs": [
    {
     "ename": "NameError",
     "evalue": "name 'pd' is not defined",
     "output_type": "error",
     "traceback": [
      "\u001b[1;31m---------------------------------------------------------------------------\u001b[0m",
      "\u001b[1;31mNameError\u001b[0m                                 Traceback (most recent call last)",
      "\u001b[1;32m<ipython-input-1-42a862247680>\u001b[0m in \u001b[0;36m<module>\u001b[1;34m\u001b[0m\n\u001b[1;32m----> 1\u001b[1;33m \u001b[0mgift_df\u001b[0m \u001b[1;33m=\u001b[0m \u001b[0mpd\u001b[0m\u001b[1;33m.\u001b[0m\u001b[0mread_csv\u001b[0m\u001b[1;33m(\u001b[0m\u001b[1;34m\"ForeignGifts_Universities.csv\"\u001b[0m\u001b[1;33m)\u001b[0m\u001b[1;33m\u001b[0m\u001b[1;33m\u001b[0m\u001b[0m\n\u001b[0m",
      "\u001b[1;31mNameError\u001b[0m: name 'pd' is not defined"
     ]
    }
   ],
   "source": [
    "gift_df = pd.read_csv(\"ForeignGifts_Universities.csv\")"
   ]
  },
  {
   "cell_type": "markdown",
   "metadata": {},
   "source": [
    "What happened?"
   ]
  },
  {
   "cell_type": "code",
   "execution_count": 2,
   "metadata": {},
   "outputs": [],
   "source": [
    "import pandas as pd"
   ]
  },
  {
   "cell_type": "code",
   "execution_count": 3,
   "metadata": {},
   "outputs": [],
   "source": [
    "gift_df = pd.read_csv(\"ForeignGifts_Universities.csv\")"
   ]
  },
  {
   "cell_type": "markdown",
   "metadata": {
    "slideshow": {
     "slide_type": "slide"
    }
   },
   "source": [
    "## Inspecting a Dataset"
   ]
  },
  {
   "cell_type": "code",
   "execution_count": 4,
   "metadata": {},
   "outputs": [
    {
     "data": {
      "text/html": [
       "<div>\n",
       "<style scoped>\n",
       "    .dataframe tbody tr th:only-of-type {\n",
       "        vertical-align: middle;\n",
       "    }\n",
       "\n",
       "    .dataframe tbody tr th {\n",
       "        vertical-align: top;\n",
       "    }\n",
       "\n",
       "    .dataframe thead th {\n",
       "        text-align: right;\n",
       "    }\n",
       "</style>\n",
       "<table border=\"1\" class=\"dataframe\">\n",
       "  <thead>\n",
       "    <tr style=\"text-align: right;\">\n",
       "      <th></th>\n",
       "      <th>ID</th>\n",
       "      <th>OPEID</th>\n",
       "      <th>Institution Name</th>\n",
       "      <th>City</th>\n",
       "      <th>State</th>\n",
       "      <th>Foreign Gift Received Date</th>\n",
       "      <th>Foreign Gift Amount</th>\n",
       "      <th>Gift Type</th>\n",
       "      <th>Country of Giftor</th>\n",
       "      <th>Giftor Name</th>\n",
       "    </tr>\n",
       "  </thead>\n",
       "  <tbody>\n",
       "    <tr>\n",
       "      <th>0</th>\n",
       "      <td>1</td>\n",
       "      <td>107000</td>\n",
       "      <td>Thunderbird School of Global Management</td>\n",
       "      <td>Glendale</td>\n",
       "      <td>AZ</td>\n",
       "      <td>12/12/2012</td>\n",
       "      <td>$1,220,000.00</td>\n",
       "      <td>Contract</td>\n",
       "      <td>MEXICO</td>\n",
       "      <td>Instituto Technologico y de Estudio</td>\n",
       "    </tr>\n",
       "    <tr>\n",
       "      <th>1</th>\n",
       "      <td>2</td>\n",
       "      <td>107000</td>\n",
       "      <td>Thunderbird School of Global Management</td>\n",
       "      <td>Glendale</td>\n",
       "      <td>AZ</td>\n",
       "      <td>11/26/2012</td>\n",
       "      <td>$395,790.00</td>\n",
       "      <td>Contract</td>\n",
       "      <td>CHINA</td>\n",
       "      <td>Intel Products (Chengdu) LTD</td>\n",
       "    </tr>\n",
       "    <tr>\n",
       "      <th>2</th>\n",
       "      <td>3</td>\n",
       "      <td>107000</td>\n",
       "      <td>Thunderbird School of Global Management</td>\n",
       "      <td>Glendale</td>\n",
       "      <td>AZ</td>\n",
       "      <td>11/19/2012</td>\n",
       "      <td>$2,769,651.00</td>\n",
       "      <td>Contract</td>\n",
       "      <td>SAUDI ARABIA</td>\n",
       "      <td>Saudi Basic Industries Corporation</td>\n",
       "    </tr>\n",
       "    <tr>\n",
       "      <th>3</th>\n",
       "      <td>4</td>\n",
       "      <td>107000</td>\n",
       "      <td>Thunderbird School of Global Management</td>\n",
       "      <td>Glendale</td>\n",
       "      <td>AZ</td>\n",
       "      <td>7/31/2012</td>\n",
       "      <td>$364,128.00</td>\n",
       "      <td>Contract</td>\n",
       "      <td>KUWAIT</td>\n",
       "      <td>Kuwait National Petroleum CO</td>\n",
       "    </tr>\n",
       "    <tr>\n",
       "      <th>4</th>\n",
       "      <td>5</td>\n",
       "      <td>108100</td>\n",
       "      <td>Arizona State University</td>\n",
       "      <td>Tempe</td>\n",
       "      <td>AZ</td>\n",
       "      <td>12/29/2017</td>\n",
       "      <td>$180,000.00</td>\n",
       "      <td>Contract</td>\n",
       "      <td>THE NETHERLANDS</td>\n",
       "      <td>Airbus Group SE</td>\n",
       "    </tr>\n",
       "  </tbody>\n",
       "</table>\n",
       "</div>"
      ],
      "text/plain": [
       "   ID   OPEID                         Institution Name      City State  \\\n",
       "0   1  107000  Thunderbird School of Global Management  Glendale    AZ   \n",
       "1   2  107000  Thunderbird School of Global Management  Glendale    AZ   \n",
       "2   3  107000  Thunderbird School of Global Management  Glendale    AZ   \n",
       "3   4  107000  Thunderbird School of Global Management  Glendale    AZ   \n",
       "4   5  108100                 Arizona State University     Tempe    AZ   \n",
       "\n",
       "  Foreign Gift Received Date Foreign Gift Amount Gift Type Country of Giftor  \\\n",
       "0                 12/12/2012      $1,220,000.00   Contract            MEXICO   \n",
       "1                 11/26/2012        $395,790.00   Contract             CHINA   \n",
       "2                 11/19/2012      $2,769,651.00   Contract      SAUDI ARABIA   \n",
       "3                  7/31/2012        $364,128.00   Contract            KUWAIT   \n",
       "4                 12/29/2017        $180,000.00   Contract   THE NETHERLANDS   \n",
       "\n",
       "                           Giftor Name  \n",
       "0  Instituto Technologico y de Estudio  \n",
       "1         Intel Products (Chengdu) LTD  \n",
       "2   Saudi Basic Industries Corporation  \n",
       "3         Kuwait National Petroleum CO  \n",
       "4                      Airbus Group SE  "
      ]
     },
     "execution_count": 4,
     "metadata": {},
     "output_type": "execute_result"
    }
   ],
   "source": [
    "gift_df.head()"
   ]
  },
  {
   "cell_type": "code",
   "execution_count": 5,
   "metadata": {
    "slideshow": {
     "slide_type": "slide"
    }
   },
   "outputs": [
    {
     "data": {
      "text/plain": [
       "University of California, Los Angeles                            3206\n",
       "California Institute of Technology                               3127\n",
       "Johns Hopkins University                                         1157\n",
       "Columbia University in the City of New York                       791\n",
       "Ohio State University (The)                                       681\n",
       "                                                                 ... \n",
       "University of North Texas Health Science Center at Fort Worth       1\n",
       "Michigan Technological University                                   1\n",
       "Villanova University                                                1\n",
       "Colorado School of Mines                                            1\n",
       "Hult International Business School                                  1\n",
       "Name: Institution Name, Length: 150, dtype: int64"
      ]
     },
     "execution_count": 5,
     "metadata": {},
     "output_type": "execute_result"
    }
   ],
   "source": [
    "gift_df['Institution Name'].value_counts()"
   ]
  },
  {
   "cell_type": "code",
   "execution_count": 6,
   "metadata": {
    "slideshow": {
     "slide_type": "slide"
    }
   },
   "outputs": [
    {
     "data": {
      "text/html": [
       "<div>\n",
       "<style scoped>\n",
       "    .dataframe tbody tr th:only-of-type {\n",
       "        vertical-align: middle;\n",
       "    }\n",
       "\n",
       "    .dataframe tbody tr th {\n",
       "        vertical-align: top;\n",
       "    }\n",
       "\n",
       "    .dataframe thead th {\n",
       "        text-align: right;\n",
       "    }\n",
       "</style>\n",
       "<table border=\"1\" class=\"dataframe\">\n",
       "  <thead>\n",
       "    <tr style=\"text-align: right;\">\n",
       "      <th></th>\n",
       "      <th>ID</th>\n",
       "      <th>OPEID</th>\n",
       "      <th>Institution Name</th>\n",
       "      <th>City</th>\n",
       "      <th>State</th>\n",
       "      <th>Foreign Gift Received Date</th>\n",
       "      <th>Foreign Gift Amount</th>\n",
       "      <th>Gift Type</th>\n",
       "      <th>Country of Giftor</th>\n",
       "      <th>Giftor Name</th>\n",
       "    </tr>\n",
       "  </thead>\n",
       "  <tbody>\n",
       "    <tr>\n",
       "      <th>14632</th>\n",
       "      <td>14633</td>\n",
       "      <td>278500</td>\n",
       "      <td>New York University</td>\n",
       "      <td>New York</td>\n",
       "      <td>NY</td>\n",
       "      <td>12/22/2017</td>\n",
       "      <td>$350,000.00</td>\n",
       "      <td>Monetary Gift</td>\n",
       "      <td>BERMUDA</td>\n",
       "      <td>Anonymous</td>\n",
       "    </tr>\n",
       "    <tr>\n",
       "      <th>14633</th>\n",
       "      <td>14634</td>\n",
       "      <td>278500</td>\n",
       "      <td>New York University</td>\n",
       "      <td>New York</td>\n",
       "      <td>NY</td>\n",
       "      <td>12/15/2017</td>\n",
       "      <td>$325,000.00</td>\n",
       "      <td>Monetary Gift</td>\n",
       "      <td>HONG KONG</td>\n",
       "      <td>Anonymous</td>\n",
       "    </tr>\n",
       "    <tr>\n",
       "      <th>14634</th>\n",
       "      <td>14635</td>\n",
       "      <td>278500</td>\n",
       "      <td>New York University</td>\n",
       "      <td>New York</td>\n",
       "      <td>NY</td>\n",
       "      <td>12/13/2017</td>\n",
       "      <td>$1,000,000.00</td>\n",
       "      <td>Monetary Gift</td>\n",
       "      <td>VIRGIN ISLANDS (BRITISH)</td>\n",
       "      <td>Anonymous</td>\n",
       "    </tr>\n",
       "    <tr>\n",
       "      <th>14635</th>\n",
       "      <td>14636</td>\n",
       "      <td>278500</td>\n",
       "      <td>New York University</td>\n",
       "      <td>New York</td>\n",
       "      <td>NY</td>\n",
       "      <td>12/8/2017</td>\n",
       "      <td>$1,000,000.00</td>\n",
       "      <td>Monetary Gift</td>\n",
       "      <td>BRAZIL</td>\n",
       "      <td>Anonymous</td>\n",
       "    </tr>\n",
       "    <tr>\n",
       "      <th>14636</th>\n",
       "      <td>14637</td>\n",
       "      <td>278500</td>\n",
       "      <td>New York University</td>\n",
       "      <td>New York</td>\n",
       "      <td>NY</td>\n",
       "      <td>11/15/2017</td>\n",
       "      <td>$537,605.00</td>\n",
       "      <td>Contract</td>\n",
       "      <td>THE NETHERLANDS</td>\n",
       "      <td>Government</td>\n",
       "    </tr>\n",
       "  </tbody>\n",
       "</table>\n",
       "</div>"
      ],
      "text/plain": [
       "          ID   OPEID     Institution Name      City State  \\\n",
       "14632  14633  278500  New York University  New York    NY   \n",
       "14633  14634  278500  New York University  New York    NY   \n",
       "14634  14635  278500  New York University  New York    NY   \n",
       "14635  14636  278500  New York University  New York    NY   \n",
       "14636  14637  278500  New York University  New York    NY   \n",
       "\n",
       "      Foreign Gift Received Date Foreign Gift Amount      Gift Type  \\\n",
       "14632                 12/22/2017        $350,000.00   Monetary Gift   \n",
       "14633                 12/15/2017        $325,000.00   Monetary Gift   \n",
       "14634                 12/13/2017      $1,000,000.00   Monetary Gift   \n",
       "14635                  12/8/2017      $1,000,000.00   Monetary Gift   \n",
       "14636                 11/15/2017        $537,605.00        Contract   \n",
       "\n",
       "              Country of Giftor Giftor Name  \n",
       "14632                   BERMUDA   Anonymous  \n",
       "14633                 HONG KONG   Anonymous  \n",
       "14634  VIRGIN ISLANDS (BRITISH)   Anonymous  \n",
       "14635                    BRAZIL   Anonymous  \n",
       "14636           THE NETHERLANDS  Government  "
      ]
     },
     "execution_count": 6,
     "metadata": {},
     "output_type": "execute_result"
    }
   ],
   "source": [
    "nyu_df = gift_df[gift_df['Institution Name'] == \"New York University\"].copy()\n",
    "nyu_df.head()"
   ]
  },
  {
   "cell_type": "markdown",
   "metadata": {
    "slideshow": {
     "slide_type": "slide"
    }
   },
   "source": [
    "## Cleaning and Organizing a Dataset"
   ]
  },
  {
   "cell_type": "code",
   "execution_count": 7,
   "metadata": {},
   "outputs": [],
   "source": [
    "nyu_df['Foreign Gift Amount'] = nyu_df['Foreign Gift Amount'].str.replace(\"$\",\"\")\n",
    "nyu_df['Foreign Gift Amount'] = nyu_df['Foreign Gift Amount'].str.replace(\",\",\"\")"
   ]
  },
  {
   "cell_type": "code",
   "execution_count": 8,
   "metadata": {},
   "outputs": [
    {
     "data": {
      "text/html": [
       "<div>\n",
       "<style scoped>\n",
       "    .dataframe tbody tr th:only-of-type {\n",
       "        vertical-align: middle;\n",
       "    }\n",
       "\n",
       "    .dataframe tbody tr th {\n",
       "        vertical-align: top;\n",
       "    }\n",
       "\n",
       "    .dataframe thead th {\n",
       "        text-align: right;\n",
       "    }\n",
       "</style>\n",
       "<table border=\"1\" class=\"dataframe\">\n",
       "  <thead>\n",
       "    <tr style=\"text-align: right;\">\n",
       "      <th></th>\n",
       "      <th>ID</th>\n",
       "      <th>OPEID</th>\n",
       "      <th>Institution Name</th>\n",
       "      <th>City</th>\n",
       "      <th>State</th>\n",
       "      <th>Foreign Gift Received Date</th>\n",
       "      <th>Foreign Gift Amount</th>\n",
       "      <th>Gift Type</th>\n",
       "      <th>Country of Giftor</th>\n",
       "      <th>Giftor Name</th>\n",
       "    </tr>\n",
       "  </thead>\n",
       "  <tbody>\n",
       "    <tr>\n",
       "      <th>14632</th>\n",
       "      <td>14633</td>\n",
       "      <td>278500</td>\n",
       "      <td>New York University</td>\n",
       "      <td>New York</td>\n",
       "      <td>NY</td>\n",
       "      <td>12/22/2017</td>\n",
       "      <td>350000.00</td>\n",
       "      <td>Monetary Gift</td>\n",
       "      <td>BERMUDA</td>\n",
       "      <td>Anonymous</td>\n",
       "    </tr>\n",
       "    <tr>\n",
       "      <th>14633</th>\n",
       "      <td>14634</td>\n",
       "      <td>278500</td>\n",
       "      <td>New York University</td>\n",
       "      <td>New York</td>\n",
       "      <td>NY</td>\n",
       "      <td>12/15/2017</td>\n",
       "      <td>325000.00</td>\n",
       "      <td>Monetary Gift</td>\n",
       "      <td>HONG KONG</td>\n",
       "      <td>Anonymous</td>\n",
       "    </tr>\n",
       "    <tr>\n",
       "      <th>14634</th>\n",
       "      <td>14635</td>\n",
       "      <td>278500</td>\n",
       "      <td>New York University</td>\n",
       "      <td>New York</td>\n",
       "      <td>NY</td>\n",
       "      <td>12/13/2017</td>\n",
       "      <td>1000000.00</td>\n",
       "      <td>Monetary Gift</td>\n",
       "      <td>VIRGIN ISLANDS (BRITISH)</td>\n",
       "      <td>Anonymous</td>\n",
       "    </tr>\n",
       "    <tr>\n",
       "      <th>14635</th>\n",
       "      <td>14636</td>\n",
       "      <td>278500</td>\n",
       "      <td>New York University</td>\n",
       "      <td>New York</td>\n",
       "      <td>NY</td>\n",
       "      <td>12/8/2017</td>\n",
       "      <td>1000000.00</td>\n",
       "      <td>Monetary Gift</td>\n",
       "      <td>BRAZIL</td>\n",
       "      <td>Anonymous</td>\n",
       "    </tr>\n",
       "    <tr>\n",
       "      <th>14636</th>\n",
       "      <td>14637</td>\n",
       "      <td>278500</td>\n",
       "      <td>New York University</td>\n",
       "      <td>New York</td>\n",
       "      <td>NY</td>\n",
       "      <td>11/15/2017</td>\n",
       "      <td>537605.00</td>\n",
       "      <td>Contract</td>\n",
       "      <td>THE NETHERLANDS</td>\n",
       "      <td>Government</td>\n",
       "    </tr>\n",
       "  </tbody>\n",
       "</table>\n",
       "</div>"
      ],
      "text/plain": [
       "          ID   OPEID     Institution Name      City State  \\\n",
       "14632  14633  278500  New York University  New York    NY   \n",
       "14633  14634  278500  New York University  New York    NY   \n",
       "14634  14635  278500  New York University  New York    NY   \n",
       "14635  14636  278500  New York University  New York    NY   \n",
       "14636  14637  278500  New York University  New York    NY   \n",
       "\n",
       "      Foreign Gift Received Date Foreign Gift Amount      Gift Type  \\\n",
       "14632                 12/22/2017          350000.00   Monetary Gift   \n",
       "14633                 12/15/2017          325000.00   Monetary Gift   \n",
       "14634                 12/13/2017         1000000.00   Monetary Gift   \n",
       "14635                  12/8/2017         1000000.00   Monetary Gift   \n",
       "14636                 11/15/2017          537605.00        Contract   \n",
       "\n",
       "              Country of Giftor Giftor Name  \n",
       "14632                   BERMUDA   Anonymous  \n",
       "14633                 HONG KONG   Anonymous  \n",
       "14634  VIRGIN ISLANDS (BRITISH)   Anonymous  \n",
       "14635                    BRAZIL   Anonymous  \n",
       "14636           THE NETHERLANDS  Government  "
      ]
     },
     "execution_count": 8,
     "metadata": {},
     "output_type": "execute_result"
    }
   ],
   "source": [
    "nyu_df.head()"
   ]
  },
  {
   "cell_type": "code",
   "execution_count": 9,
   "metadata": {
    "slideshow": {
     "slide_type": "slide"
    }
   },
   "outputs": [],
   "source": [
    "nyu_df['amount_numeric'] = nyu_df['Foreign Gift Amount'].astype('float')"
   ]
  },
  {
   "cell_type": "code",
   "execution_count": 10,
   "metadata": {
    "slideshow": {
     "slide_type": "slide"
    }
   },
   "outputs": [
    {
     "data": {
      "text/html": [
       "<div>\n",
       "<style scoped>\n",
       "    .dataframe tbody tr th:only-of-type {\n",
       "        vertical-align: middle;\n",
       "    }\n",
       "\n",
       "    .dataframe tbody tr th {\n",
       "        vertical-align: top;\n",
       "    }\n",
       "\n",
       "    .dataframe thead th {\n",
       "        text-align: right;\n",
       "    }\n",
       "</style>\n",
       "<table border=\"1\" class=\"dataframe\">\n",
       "  <thead>\n",
       "    <tr style=\"text-align: right;\">\n",
       "      <th></th>\n",
       "      <th>ID</th>\n",
       "      <th>OPEID</th>\n",
       "      <th>Institution Name</th>\n",
       "      <th>City</th>\n",
       "      <th>State</th>\n",
       "      <th>Foreign Gift Received Date</th>\n",
       "      <th>Foreign Gift Amount</th>\n",
       "      <th>Gift Type</th>\n",
       "      <th>Country of Giftor</th>\n",
       "      <th>Giftor Name</th>\n",
       "      <th>amount_numeric</th>\n",
       "    </tr>\n",
       "  </thead>\n",
       "  <tbody>\n",
       "    <tr>\n",
       "      <th>14632</th>\n",
       "      <td>14633</td>\n",
       "      <td>278500</td>\n",
       "      <td>New York University</td>\n",
       "      <td>New York</td>\n",
       "      <td>NY</td>\n",
       "      <td>12/22/2017</td>\n",
       "      <td>350000.00</td>\n",
       "      <td>Monetary Gift</td>\n",
       "      <td>BERMUDA</td>\n",
       "      <td>Anonymous</td>\n",
       "      <td>350000.0</td>\n",
       "    </tr>\n",
       "    <tr>\n",
       "      <th>14633</th>\n",
       "      <td>14634</td>\n",
       "      <td>278500</td>\n",
       "      <td>New York University</td>\n",
       "      <td>New York</td>\n",
       "      <td>NY</td>\n",
       "      <td>12/15/2017</td>\n",
       "      <td>325000.00</td>\n",
       "      <td>Monetary Gift</td>\n",
       "      <td>HONG KONG</td>\n",
       "      <td>Anonymous</td>\n",
       "      <td>325000.0</td>\n",
       "    </tr>\n",
       "    <tr>\n",
       "      <th>14634</th>\n",
       "      <td>14635</td>\n",
       "      <td>278500</td>\n",
       "      <td>New York University</td>\n",
       "      <td>New York</td>\n",
       "      <td>NY</td>\n",
       "      <td>12/13/2017</td>\n",
       "      <td>1000000.00</td>\n",
       "      <td>Monetary Gift</td>\n",
       "      <td>VIRGIN ISLANDS (BRITISH)</td>\n",
       "      <td>Anonymous</td>\n",
       "      <td>1000000.0</td>\n",
       "    </tr>\n",
       "    <tr>\n",
       "      <th>14635</th>\n",
       "      <td>14636</td>\n",
       "      <td>278500</td>\n",
       "      <td>New York University</td>\n",
       "      <td>New York</td>\n",
       "      <td>NY</td>\n",
       "      <td>12/8/2017</td>\n",
       "      <td>1000000.00</td>\n",
       "      <td>Monetary Gift</td>\n",
       "      <td>BRAZIL</td>\n",
       "      <td>Anonymous</td>\n",
       "      <td>1000000.0</td>\n",
       "    </tr>\n",
       "    <tr>\n",
       "      <th>14636</th>\n",
       "      <td>14637</td>\n",
       "      <td>278500</td>\n",
       "      <td>New York University</td>\n",
       "      <td>New York</td>\n",
       "      <td>NY</td>\n",
       "      <td>11/15/2017</td>\n",
       "      <td>537605.00</td>\n",
       "      <td>Contract</td>\n",
       "      <td>THE NETHERLANDS</td>\n",
       "      <td>Government</td>\n",
       "      <td>537605.0</td>\n",
       "    </tr>\n",
       "  </tbody>\n",
       "</table>\n",
       "</div>"
      ],
      "text/plain": [
       "          ID   OPEID     Institution Name      City State  \\\n",
       "14632  14633  278500  New York University  New York    NY   \n",
       "14633  14634  278500  New York University  New York    NY   \n",
       "14634  14635  278500  New York University  New York    NY   \n",
       "14635  14636  278500  New York University  New York    NY   \n",
       "14636  14637  278500  New York University  New York    NY   \n",
       "\n",
       "      Foreign Gift Received Date Foreign Gift Amount      Gift Type  \\\n",
       "14632                 12/22/2017          350000.00   Monetary Gift   \n",
       "14633                 12/15/2017          325000.00   Monetary Gift   \n",
       "14634                 12/13/2017         1000000.00   Monetary Gift   \n",
       "14635                  12/8/2017         1000000.00   Monetary Gift   \n",
       "14636                 11/15/2017          537605.00        Contract   \n",
       "\n",
       "              Country of Giftor Giftor Name  amount_numeric  \n",
       "14632                   BERMUDA   Anonymous        350000.0  \n",
       "14633                 HONG KONG   Anonymous        325000.0  \n",
       "14634  VIRGIN ISLANDS (BRITISH)   Anonymous       1000000.0  \n",
       "14635                    BRAZIL   Anonymous       1000000.0  \n",
       "14636           THE NETHERLANDS  Government        537605.0  "
      ]
     },
     "execution_count": 10,
     "metadata": {},
     "output_type": "execute_result"
    }
   ],
   "source": [
    "nyu_df.head()"
   ]
  },
  {
   "cell_type": "code",
   "execution_count": 11,
   "metadata": {
    "slideshow": {
     "slide_type": "slide"
    }
   },
   "outputs": [
    {
     "data": {
      "text/html": [
       "<div>\n",
       "<style scoped>\n",
       "    .dataframe tbody tr th:only-of-type {\n",
       "        vertical-align: middle;\n",
       "    }\n",
       "\n",
       "    .dataframe tbody tr th {\n",
       "        vertical-align: top;\n",
       "    }\n",
       "\n",
       "    .dataframe thead th {\n",
       "        text-align: right;\n",
       "    }\n",
       "</style>\n",
       "<table border=\"1\" class=\"dataframe\">\n",
       "  <thead>\n",
       "    <tr style=\"text-align: right;\">\n",
       "      <th></th>\n",
       "      <th>ID</th>\n",
       "      <th>OPEID</th>\n",
       "      <th>Institution Name</th>\n",
       "      <th>City</th>\n",
       "      <th>State</th>\n",
       "      <th>Foreign Gift Received Date</th>\n",
       "      <th>Foreign Gift Amount</th>\n",
       "      <th>Gift Type</th>\n",
       "      <th>Country of Giftor</th>\n",
       "      <th>Giftor Name</th>\n",
       "      <th>amount_numeric</th>\n",
       "    </tr>\n",
       "  </thead>\n",
       "  <tbody>\n",
       "    <tr>\n",
       "      <th>14778</th>\n",
       "      <td>14779</td>\n",
       "      <td>278500</td>\n",
       "      <td>New York University</td>\n",
       "      <td>New York</td>\n",
       "      <td>NY</td>\n",
       "      <td>5/1/2013</td>\n",
       "      <td>21783526.00</td>\n",
       "      <td>Contract</td>\n",
       "      <td>UNITED ARAB EMIRATES</td>\n",
       "      <td>Omeir Travel</td>\n",
       "      <td>21783526.0</td>\n",
       "    </tr>\n",
       "    <tr>\n",
       "      <th>14645</th>\n",
       "      <td>14646</td>\n",
       "      <td>278500</td>\n",
       "      <td>New York University</td>\n",
       "      <td>New York</td>\n",
       "      <td>NY</td>\n",
       "      <td>7/31/2017</td>\n",
       "      <td>13369447.00</td>\n",
       "      <td>Monetary Gift</td>\n",
       "      <td>SWITZERLAND</td>\n",
       "      <td>Anonymous</td>\n",
       "      <td>13369447.0</td>\n",
       "    </tr>\n",
       "    <tr>\n",
       "      <th>14720</th>\n",
       "      <td>14721</td>\n",
       "      <td>278500</td>\n",
       "      <td>New York University</td>\n",
       "      <td>New York</td>\n",
       "      <td>NY</td>\n",
       "      <td>12/11/2014</td>\n",
       "      <td>9999973.00</td>\n",
       "      <td>Monetary Gift</td>\n",
       "      <td>UNITED ARAB EMIRATES</td>\n",
       "      <td>Executive Authority of Abu Dhabi</td>\n",
       "      <td>9999973.0</td>\n",
       "    </tr>\n",
       "    <tr>\n",
       "      <th>14702</th>\n",
       "      <td>14703</td>\n",
       "      <td>278500</td>\n",
       "      <td>New York University</td>\n",
       "      <td>New York</td>\n",
       "      <td>NY</td>\n",
       "      <td>1/11/2016</td>\n",
       "      <td>9516904.00</td>\n",
       "      <td>Monetary Gift</td>\n",
       "      <td>CHINA</td>\n",
       "      <td>Anonymous</td>\n",
       "      <td>9516904.0</td>\n",
       "    </tr>\n",
       "    <tr>\n",
       "      <th>14706</th>\n",
       "      <td>14707</td>\n",
       "      <td>278500</td>\n",
       "      <td>New York University</td>\n",
       "      <td>New York</td>\n",
       "      <td>NY</td>\n",
       "      <td>1/1/2016</td>\n",
       "      <td>8617263.00</td>\n",
       "      <td>Contract</td>\n",
       "      <td>UNITED ARAB EMIRATES</td>\n",
       "      <td>Anonymous</td>\n",
       "      <td>8617263.0</td>\n",
       "    </tr>\n",
       "  </tbody>\n",
       "</table>\n",
       "</div>"
      ],
      "text/plain": [
       "          ID   OPEID     Institution Name      City State  \\\n",
       "14778  14779  278500  New York University  New York    NY   \n",
       "14645  14646  278500  New York University  New York    NY   \n",
       "14720  14721  278500  New York University  New York    NY   \n",
       "14702  14703  278500  New York University  New York    NY   \n",
       "14706  14707  278500  New York University  New York    NY   \n",
       "\n",
       "      Foreign Gift Received Date Foreign Gift Amount      Gift Type  \\\n",
       "14778                   5/1/2013        21783526.00        Contract   \n",
       "14645                  7/31/2017        13369447.00   Monetary Gift   \n",
       "14720                 12/11/2014         9999973.00   Monetary Gift   \n",
       "14702                  1/11/2016         9516904.00   Monetary Gift   \n",
       "14706                   1/1/2016         8617263.00        Contract   \n",
       "\n",
       "          Country of Giftor                       Giftor Name  amount_numeric  \n",
       "14778  UNITED ARAB EMIRATES                      Omeir Travel      21783526.0  \n",
       "14645           SWITZERLAND                         Anonymous      13369447.0  \n",
       "14720  UNITED ARAB EMIRATES  Executive Authority of Abu Dhabi       9999973.0  \n",
       "14702                 CHINA                         Anonymous       9516904.0  \n",
       "14706  UNITED ARAB EMIRATES                         Anonymous       8617263.0  "
      ]
     },
     "execution_count": 11,
     "metadata": {},
     "output_type": "execute_result"
    }
   ],
   "source": [
    "nyu_df.sort_values(by=['amount_numeric'], ascending=False, inplace=True)\n",
    "nyu_df.head()"
   ]
  },
  {
   "cell_type": "markdown",
   "metadata": {
    "slideshow": {
     "slide_type": "slide"
    }
   },
   "source": [
    "## Variable Types"
   ]
  },
  {
   "cell_type": "code",
   "execution_count": 12,
   "metadata": {},
   "outputs": [
    {
     "data": {
      "text/plain": [
       "ID                              int64\n",
       "OPEID                           int64\n",
       "Institution Name               object\n",
       "City                           object\n",
       "State                          object\n",
       "Foreign Gift Received Date     object\n",
       "Foreign Gift Amount            object\n",
       "Gift Type                      object\n",
       "Country of Giftor              object\n",
       "Giftor Name                    object\n",
       "amount_numeric                float64\n",
       "dtype: object"
      ]
     },
     "execution_count": 12,
     "metadata": {},
     "output_type": "execute_result"
    }
   ],
   "source": [
    "nyu_df.dtypes"
   ]
  },
  {
   "cell_type": "markdown",
   "metadata": {
    "slideshow": {
     "slide_type": "slide"
    }
   },
   "source": [
    "## Measures of Frequency/Central Tendency"
   ]
  },
  {
   "cell_type": "code",
   "execution_count": 13,
   "metadata": {},
   "outputs": [
    {
     "data": {
      "text/plain": [
       "1041806.82"
      ]
     },
     "execution_count": 13,
     "metadata": {},
     "output_type": "execute_result"
    }
   ],
   "source": [
    "nyu_df['amount_numeric'].mean()"
   ]
  },
  {
   "cell_type": "markdown",
   "metadata": {
    "slideshow": {
     "slide_type": "slide"
    }
   },
   "source": [
    "## Measures of Dispersion/Position"
   ]
  },
  {
   "cell_type": "code",
   "execution_count": 14,
   "metadata": {},
   "outputs": [
    {
     "data": {
      "text/plain": [
       "2014429.729496327"
      ]
     },
     "execution_count": 14,
     "metadata": {},
     "output_type": "execute_result"
    }
   ],
   "source": [
    "nyu_df['amount_numeric'].std()"
   ]
  },
  {
   "cell_type": "markdown",
   "metadata": {
    "slideshow": {
     "slide_type": "slide"
    }
   },
   "source": [
    "## Visualization"
   ]
  },
  {
   "cell_type": "code",
   "execution_count": 15,
   "metadata": {},
   "outputs": [
    {
     "ename": "NameError",
     "evalue": "name 'plt' is not defined",
     "output_type": "error",
     "traceback": [
      "\u001b[1;31m---------------------------------------------------------------------------\u001b[0m",
      "\u001b[1;31mNameError\u001b[0m                                 Traceback (most recent call last)",
      "\u001b[1;32m<ipython-input-15-9ab9068df8a0>\u001b[0m in \u001b[0;36m<module>\u001b[1;34m\u001b[0m\n\u001b[1;32m----> 1\u001b[1;33m \u001b[0mplt\u001b[0m\u001b[1;33m.\u001b[0m\u001b[0mhist\u001b[0m\u001b[1;33m(\u001b[0m\u001b[0mnyu_df\u001b[0m\u001b[1;33m[\u001b[0m\u001b[1;34m'amount_numeric'\u001b[0m\u001b[1;33m]\u001b[0m\u001b[1;33m)\u001b[0m\u001b[1;33m\u001b[0m\u001b[1;33m\u001b[0m\u001b[0m\n\u001b[0m\u001b[0;32m      2\u001b[0m \u001b[0mplt\u001b[0m\u001b[1;33m.\u001b[0m\u001b[0mshow\u001b[0m\u001b[1;33m(\u001b[0m\u001b[1;33m)\u001b[0m\u001b[1;33m\u001b[0m\u001b[1;33m\u001b[0m\u001b[0m\n",
      "\u001b[1;31mNameError\u001b[0m: name 'plt' is not defined"
     ]
    }
   ],
   "source": [
    "plt.hist(nyu_df['amount_numeric'])\n",
    "plt.show()"
   ]
  },
  {
   "cell_type": "markdown",
   "metadata": {},
   "source": [
    "What happened?"
   ]
  },
  {
   "cell_type": "code",
   "execution_count": 16,
   "metadata": {
    "slideshow": {
     "slide_type": "slide"
    }
   },
   "outputs": [
    {
     "data": {
      "image/png": "[encoded data removed]",
      "text/plain": [
       "<Figure size 432x288 with 1 Axes>"
      ]
     },
     "metadata": {
      "needs_background": "light"
     },
     "output_type": "display_data"
    }
   ],
   "source": [
    "import matplotlib.pyplot as plt\n",
    "plt.hist(nyu_df['amount_numeric'])\n",
    "plt.show()"
   ]
  },
  {
   "cell_type": "code",
   "execution_count": 17,
   "metadata": {
    "slideshow": {
     "slide_type": "slide"
    }
   },
   "outputs": [
    {
     "data": {
      "image/png": "[encoded data removed]",
      "text/plain": [
       "<Figure size 432x288 with 1 Axes>"
      ]
     },
     "metadata": {
      "needs_background": "light"
     },
     "output_type": "display_data"
    }
   ],
   "source": [
    "plt.boxplot(nyu_df['amount_numeric'], vert=False)\n",
    "plt.show()"
   ]
  },
  {
   "cell_type": "code",
   "execution_count": 18,
   "metadata": {
    "slideshow": {
     "slide_type": "skip"
    }
   },
   "outputs": [
    {
     "name": "stderr",
     "output_type": "stream",
     "text": [
      "[NbConvertApp] Converting notebook Week_05.ipynb to slides\n",
      "[NbConvertApp] Writing 324384 bytes to Week_05.slides.html\n"
     ]
    }
   ],
   "source": [
    "!jupyter nbconvert Week_05.ipynb --to slides --SlidesExporter.reveal_scroll=True"
   ]
  },
  {
   "cell_type": "code",
   "execution_count": null,
   "metadata": {
    "slideshow": {
     "slide_type": "skip"
    }
   },
   "outputs": [],
   "source": []
  }
 ],
 "metadata": {
  "kernelspec": {
   "display_name": "Python 3",
   "language": "python",
   "name": "python3"
  },
  "language_info": {
   "codemirror_mode": {
    "name": "ipython",
    "version": 3
   },
   "file_extension": ".py",
   "mimetype": "text/x-python",
   "name": "python",
   "nbconvert_exporter": "python",
   "pygments_lexer": "ipython3",
   "version": "3.8.4"
  }
 },
 "nbformat": 4,
 "nbformat_minor": 4
}
